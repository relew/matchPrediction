{
  "nbformat": 4,
  "nbformat_minor": 0,
  "metadata": {
    "colab": {
      "provenance": [],
      "authorship_tag": "ABX9TyM1KCct6cC26e9eOaEiDjDs",
      "include_colab_link": true
    },
    "kernelspec": {
      "name": "python3",
      "display_name": "Python 3"
    },
    "language_info": {
      "name": "python"
    }
  },
  "cells": [
    {
      "cell_type": "markdown",
      "metadata": {
        "id": "view-in-github",
        "colab_type": "text"
      },
      "source": [
        "<a href=\"https://colab.research.google.com/github/relew/matchPrediction/blob/master/Prediction_final_Zoli.ipynb\" target=\"_parent\"><img src=\"https://colab.research.google.com/assets/colab-badge.svg\" alt=\"Open In Colab\"/></a>"
      ]
    },
    {
      "cell_type": "code",
      "execution_count": 1,
      "metadata": {
        "id": "k1WeR3xPgYIT"
      },
      "outputs": [],
      "source": [
        "import pandas as pd\n",
        "import seaborn as sns\n",
        "import matplotlib.pyplot as plt\n",
        "import numpy as np"
      ]
    },
    {
      "cell_type": "code",
      "source": [
        "url = 'http://dataevents.hu/202303/filedataevents/competition_table.xlsx'"
      ],
      "metadata": {
        "id": "OBc-ut-_gecG"
      },
      "execution_count": 2,
      "outputs": []
    },
    {
      "cell_type": "code",
      "source": [
        "data = pd.read_excel(url)"
      ],
      "metadata": {
        "id": "apS-cNmHggmV"
      },
      "execution_count": 3,
      "outputs": []
    },
    {
      "cell_type": "code",
      "source": [
        "data.columns = data.columns.str.replace(\"yelllow\", \"yellow\")"
      ],
      "metadata": {
        "id": "tZPUBFuRdHod"
      },
      "execution_count": 4,
      "outputs": []
    },
    {
      "cell_type": "code",
      "source": [
        "data.head()"
      ],
      "metadata": {
        "colab": {
          "base_uri": "https://localhost:8080/",
          "height": 386
        },
        "id": "FVPdTVBmglMc",
        "outputId": "71be2747-b86f-4af4-90e2-b7250843ca96"
      },
      "execution_count": 5,
      "outputs": [
        {
          "output_type": "execute_result",
          "data": {
            "text/plain": [
              "   match_id     season   div  odds_home_team_win  odds_draw  \\\n",
              "0         0  2008-2009  div0                1.73        3.5   \n",
              "1         1  2008-2009  div0                1.25        5.5   \n",
              "2         2  2008-2009  div0                1.57        3.8   \n",
              "3         3  2008-2009  div0                1.17        7.0   \n",
              "4         4  2008-2009  div0                1.17        7.0   \n",
              "\n",
              "   odds_away_team_win  home_team_match_nr  home_team_goal_roll1_sum  \\\n",
              "0                5.00                   5                         3   \n",
              "1               12.00                   7                         0   \n",
              "2                5.75                   9                         1   \n",
              "3               15.00                  11                         2   \n",
              "4               15.00                  14                         2   \n",
              "\n",
              "   home_team_goal_roll2_sum  home_team_goal_roll3_sum  ...  \\\n",
              "0                         7                         8  ...   \n",
              "1                         2                         5  ...   \n",
              "2                         4                         4  ...   \n",
              "3                         6                         7  ...   \n",
              "4                         4                         7  ...   \n",
              "\n",
              "   odds_away_team_draw_roll4_mean  odds_away_team_defeat_roll1_mean  \\\n",
              "0                           3.825                             11.00   \n",
              "1                           3.582                              2.10   \n",
              "2                           3.525                              6.75   \n",
              "3                           3.975                              4.20   \n",
              "4                           3.925                              3.10   \n",
              "\n",
              "   odds_away_team_defeat_roll2_mean  odds_away_team_defeat_roll3_mean  \\\n",
              "0                             7.665                             6.377   \n",
              "1                             2.250                             2.833   \n",
              "2                             4.275                             3.883   \n",
              "3                             2.750                             2.333   \n",
              "4                             2.175                             2.050   \n",
              "\n",
              "   odds_away_team_defeat_roll4_mean  away_team_point_mean  \\\n",
              "0                             5.908                 0.500   \n",
              "1                             2.475                 0.333   \n",
              "2                             3.638                 0.750   \n",
              "3                             2.550                 0.600   \n",
              "4                             2.015                 0.833   \n",
              "\n",
              "   away_team_expected_point_mean  home_win_flag  draw_flag  away_win_flag  \n",
              "0                            3.0              0          0              1  \n",
              "1                            0.0              0          1              0  \n",
              "2                            1.5              1          0              0  \n",
              "3                            0.0              1          0              0  \n",
              "4                            0.0              1          0              0  \n",
              "\n",
              "[5 rows x 167 columns]"
            ],
            "text/html": [
              "\n",
              "  <div id=\"df-84b0fd70-0397-4d53-a3a7-0fc996d3cf3f\">\n",
              "    <div class=\"colab-df-container\">\n",
              "      <div>\n",
              "<style scoped>\n",
              "    .dataframe tbody tr th:only-of-type {\n",
              "        vertical-align: middle;\n",
              "    }\n",
              "\n",
              "    .dataframe tbody tr th {\n",
              "        vertical-align: top;\n",
              "    }\n",
              "\n",
              "    .dataframe thead th {\n",
              "        text-align: right;\n",
              "    }\n",
              "</style>\n",
              "<table border=\"1\" class=\"dataframe\">\n",
              "  <thead>\n",
              "    <tr style=\"text-align: right;\">\n",
              "      <th></th>\n",
              "      <th>match_id</th>\n",
              "      <th>season</th>\n",
              "      <th>div</th>\n",
              "      <th>odds_home_team_win</th>\n",
              "      <th>odds_draw</th>\n",
              "      <th>odds_away_team_win</th>\n",
              "      <th>home_team_match_nr</th>\n",
              "      <th>home_team_goal_roll1_sum</th>\n",
              "      <th>home_team_goal_roll2_sum</th>\n",
              "      <th>home_team_goal_roll3_sum</th>\n",
              "      <th>...</th>\n",
              "      <th>odds_away_team_draw_roll4_mean</th>\n",
              "      <th>odds_away_team_defeat_roll1_mean</th>\n",
              "      <th>odds_away_team_defeat_roll2_mean</th>\n",
              "      <th>odds_away_team_defeat_roll3_mean</th>\n",
              "      <th>odds_away_team_defeat_roll4_mean</th>\n",
              "      <th>away_team_point_mean</th>\n",
              "      <th>away_team_expected_point_mean</th>\n",
              "      <th>home_win_flag</th>\n",
              "      <th>draw_flag</th>\n",
              "      <th>away_win_flag</th>\n",
              "    </tr>\n",
              "  </thead>\n",
              "  <tbody>\n",
              "    <tr>\n",
              "      <th>0</th>\n",
              "      <td>0</td>\n",
              "      <td>2008-2009</td>\n",
              "      <td>div0</td>\n",
              "      <td>1.73</td>\n",
              "      <td>3.5</td>\n",
              "      <td>5.00</td>\n",
              "      <td>5</td>\n",
              "      <td>3</td>\n",
              "      <td>7</td>\n",
              "      <td>8</td>\n",
              "      <td>...</td>\n",
              "      <td>3.825</td>\n",
              "      <td>11.00</td>\n",
              "      <td>7.665</td>\n",
              "      <td>6.377</td>\n",
              "      <td>5.908</td>\n",
              "      <td>0.500</td>\n",
              "      <td>3.0</td>\n",
              "      <td>0</td>\n",
              "      <td>0</td>\n",
              "      <td>1</td>\n",
              "    </tr>\n",
              "    <tr>\n",
              "      <th>1</th>\n",
              "      <td>1</td>\n",
              "      <td>2008-2009</td>\n",
              "      <td>div0</td>\n",
              "      <td>1.25</td>\n",
              "      <td>5.5</td>\n",
              "      <td>12.00</td>\n",
              "      <td>7</td>\n",
              "      <td>0</td>\n",
              "      <td>2</td>\n",
              "      <td>5</td>\n",
              "      <td>...</td>\n",
              "      <td>3.582</td>\n",
              "      <td>2.10</td>\n",
              "      <td>2.250</td>\n",
              "      <td>2.833</td>\n",
              "      <td>2.475</td>\n",
              "      <td>0.333</td>\n",
              "      <td>0.0</td>\n",
              "      <td>0</td>\n",
              "      <td>1</td>\n",
              "      <td>0</td>\n",
              "    </tr>\n",
              "    <tr>\n",
              "      <th>2</th>\n",
              "      <td>2</td>\n",
              "      <td>2008-2009</td>\n",
              "      <td>div0</td>\n",
              "      <td>1.57</td>\n",
              "      <td>3.8</td>\n",
              "      <td>5.75</td>\n",
              "      <td>9</td>\n",
              "      <td>1</td>\n",
              "      <td>4</td>\n",
              "      <td>4</td>\n",
              "      <td>...</td>\n",
              "      <td>3.525</td>\n",
              "      <td>6.75</td>\n",
              "      <td>4.275</td>\n",
              "      <td>3.883</td>\n",
              "      <td>3.638</td>\n",
              "      <td>0.750</td>\n",
              "      <td>1.5</td>\n",
              "      <td>1</td>\n",
              "      <td>0</td>\n",
              "      <td>0</td>\n",
              "    </tr>\n",
              "    <tr>\n",
              "      <th>3</th>\n",
              "      <td>3</td>\n",
              "      <td>2008-2009</td>\n",
              "      <td>div0</td>\n",
              "      <td>1.17</td>\n",
              "      <td>7.0</td>\n",
              "      <td>15.00</td>\n",
              "      <td>11</td>\n",
              "      <td>2</td>\n",
              "      <td>6</td>\n",
              "      <td>7</td>\n",
              "      <td>...</td>\n",
              "      <td>3.975</td>\n",
              "      <td>4.20</td>\n",
              "      <td>2.750</td>\n",
              "      <td>2.333</td>\n",
              "      <td>2.550</td>\n",
              "      <td>0.600</td>\n",
              "      <td>0.0</td>\n",
              "      <td>1</td>\n",
              "      <td>0</td>\n",
              "      <td>0</td>\n",
              "    </tr>\n",
              "    <tr>\n",
              "      <th>4</th>\n",
              "      <td>4</td>\n",
              "      <td>2008-2009</td>\n",
              "      <td>div0</td>\n",
              "      <td>1.17</td>\n",
              "      <td>7.0</td>\n",
              "      <td>15.00</td>\n",
              "      <td>14</td>\n",
              "      <td>2</td>\n",
              "      <td>4</td>\n",
              "      <td>7</td>\n",
              "      <td>...</td>\n",
              "      <td>3.925</td>\n",
              "      <td>3.10</td>\n",
              "      <td>2.175</td>\n",
              "      <td>2.050</td>\n",
              "      <td>2.015</td>\n",
              "      <td>0.833</td>\n",
              "      <td>0.0</td>\n",
              "      <td>1</td>\n",
              "      <td>0</td>\n",
              "      <td>0</td>\n",
              "    </tr>\n",
              "  </tbody>\n",
              "</table>\n",
              "<p>5 rows × 167 columns</p>\n",
              "</div>\n",
              "      <button class=\"colab-df-convert\" onclick=\"convertToInteractive('df-84b0fd70-0397-4d53-a3a7-0fc996d3cf3f')\"\n",
              "              title=\"Convert this dataframe to an interactive table.\"\n",
              "              style=\"display:none;\">\n",
              "        \n",
              "  <svg xmlns=\"http://www.w3.org/2000/svg\" height=\"24px\"viewBox=\"0 0 24 24\"\n",
              "       width=\"24px\">\n",
              "    <path d=\"M0 0h24v24H0V0z\" fill=\"none\"/>\n",
              "    <path d=\"M18.56 5.44l.94 2.06.94-2.06 2.06-.94-2.06-.94-.94-2.06-.94 2.06-2.06.94zm-11 1L8.5 8.5l.94-2.06 2.06-.94-2.06-.94L8.5 2.5l-.94 2.06-2.06.94zm10 10l.94 2.06.94-2.06 2.06-.94-2.06-.94-.94-2.06-.94 2.06-2.06.94z\"/><path d=\"M17.41 7.96l-1.37-1.37c-.4-.4-.92-.59-1.43-.59-.52 0-1.04.2-1.43.59L10.3 9.45l-7.72 7.72c-.78.78-.78 2.05 0 2.83L4 21.41c.39.39.9.59 1.41.59.51 0 1.02-.2 1.41-.59l7.78-7.78 2.81-2.81c.8-.78.8-2.07 0-2.86zM5.41 20L4 18.59l7.72-7.72 1.47 1.35L5.41 20z\"/>\n",
              "  </svg>\n",
              "      </button>\n",
              "      \n",
              "  <style>\n",
              "    .colab-df-container {\n",
              "      display:flex;\n",
              "      flex-wrap:wrap;\n",
              "      gap: 12px;\n",
              "    }\n",
              "\n",
              "    .colab-df-convert {\n",
              "      background-color: #E8F0FE;\n",
              "      border: none;\n",
              "      border-radius: 50%;\n",
              "      cursor: pointer;\n",
              "      display: none;\n",
              "      fill: #1967D2;\n",
              "      height: 32px;\n",
              "      padding: 0 0 0 0;\n",
              "      width: 32px;\n",
              "    }\n",
              "\n",
              "    .colab-df-convert:hover {\n",
              "      background-color: #E2EBFA;\n",
              "      box-shadow: 0px 1px 2px rgba(60, 64, 67, 0.3), 0px 1px 3px 1px rgba(60, 64, 67, 0.15);\n",
              "      fill: #174EA6;\n",
              "    }\n",
              "\n",
              "    [theme=dark] .colab-df-convert {\n",
              "      background-color: #3B4455;\n",
              "      fill: #D2E3FC;\n",
              "    }\n",
              "\n",
              "    [theme=dark] .colab-df-convert:hover {\n",
              "      background-color: #434B5C;\n",
              "      box-shadow: 0px 1px 3px 1px rgba(0, 0, 0, 0.15);\n",
              "      filter: drop-shadow(0px 1px 2px rgba(0, 0, 0, 0.3));\n",
              "      fill: #FFFFFF;\n",
              "    }\n",
              "  </style>\n",
              "\n",
              "      <script>\n",
              "        const buttonEl =\n",
              "          document.querySelector('#df-84b0fd70-0397-4d53-a3a7-0fc996d3cf3f button.colab-df-convert');\n",
              "        buttonEl.style.display =\n",
              "          google.colab.kernel.accessAllowed ? 'block' : 'none';\n",
              "\n",
              "        async function convertToInteractive(key) {\n",
              "          const element = document.querySelector('#df-84b0fd70-0397-4d53-a3a7-0fc996d3cf3f');\n",
              "          const dataTable =\n",
              "            await google.colab.kernel.invokeFunction('convertToInteractive',\n",
              "                                                     [key], {});\n",
              "          if (!dataTable) return;\n",
              "\n",
              "          const docLinkHtml = 'Like what you see? Visit the ' +\n",
              "            '<a target=\"_blank\" href=https://colab.research.google.com/notebooks/data_table.ipynb>data table notebook</a>'\n",
              "            + ' to learn more about interactive tables.';\n",
              "          element.innerHTML = '';\n",
              "          dataTable['output_type'] = 'display_data';\n",
              "          await google.colab.output.renderOutput(dataTable, element);\n",
              "          const docLink = document.createElement('div');\n",
              "          docLink.innerHTML = docLinkHtml;\n",
              "          element.appendChild(docLink);\n",
              "        }\n",
              "      </script>\n",
              "    </div>\n",
              "  </div>\n",
              "  "
            ]
          },
          "metadata": {},
          "execution_count": 5
        }
      ]
    },
    {
      "cell_type": "code",
      "source": [
        "data[\"Win_draw_diff\"] = data[\"odds_home_team_win\"]-data[\"odds_draw\"]\n",
        "data['odds_diff'] = data[\"odds_home_team_win\"]-data[\"odds_away_team_win\"]"
      ],
      "metadata": {
        "id": "o9AE4jFxu8HC"
      },
      "execution_count": 6,
      "outputs": []
    },
    {
      "cell_type": "code",
      "source": [
        "all_cols = []\n",
        "for item in data.columns:\n",
        "  if \"_roll\" in item:\n",
        "    value = item.split(\"_roll\")[0]\n",
        "    if value not in all_cols:\n",
        "      all_cols.append(value)"
      ],
      "metadata": {
        "id": "Un7M6I0UQECE"
      },
      "execution_count": 7,
      "outputs": []
    },
    {
      "cell_type": "code",
      "source": [
        "def col_creator(data):\n",
        "  used = []\n",
        "  for item in data.columns:\n",
        "    if \"sum\" in item:\n",
        "      val = item.split(\"_roll\")[0]\n",
        "      if (val not in used) & (\"sum\" in item):\n",
        "        used.append(val)\n",
        "        color1 = val+\"_roll1_sum\"\n",
        "        color2 = val+\"_roll2_sum\"\n",
        "        color3 = val+\"_roll3_sum\"\n",
        "        color4 = val+\"_roll4_sum\"\n",
        "        sec = \"second_match_\"+val\n",
        "        third = \"third_match_\"+val\n",
        "        four = \"forth_match_\"+val\n",
        "        data[sec] = data[color2] - data[color1] \n",
        "        data[third] = data[color3] - data[color1] - data[sec]\n",
        "        data[four] = data[color4] - data[color1] - data[sec] - data[third]\n",
        "      elif (val not in used) & (\"mean\" in item):\n",
        "        color1 = val+\"_roll1_mean\"\n",
        "        color2 = val+\"_roll2_mean\"\n",
        "        color3 = val+\"_roll3_mean\"\n",
        "        color4 = val+\"_roll4_mean\"\n",
        "        sec = \"second_match_\"+val\n",
        "        third = \"third_match_\"+val\n",
        "        four = \"forth_match_\"+val\n",
        "        data[sec] = data[color2] * 2 - data[color1] \n",
        "        data[third] = data[color3] * 3 - data[color1] - data[sec]\n",
        "        data[four] = data[color4] * 4 - data[color1] - data[sec] - data[third]\n",
        "  return data"
      ],
      "metadata": {
        "id": "UJWSKXWFTRzn"
      },
      "execution_count": 8,
      "outputs": []
    },
    {
      "cell_type": "code",
      "source": [
        "data = col_creator(data)"
      ],
      "metadata": {
        "id": "Vzq8QLzjaF1W",
        "colab": {
          "base_uri": "https://localhost:8080/"
        },
        "outputId": "73a9e761-5a54-48c9-bc38-ff5887b2ec5d"
      },
      "execution_count": 9,
      "outputs": [
        {
          "output_type": "stream",
          "name": "stderr",
          "text": [
            "<ipython-input-8-a75f880564cf>:17: PerformanceWarning: DataFrame is highly fragmented.  This is usually the result of calling `frame.insert` many times, which has poor performance.  Consider joining all columns at once using pd.concat(axis=1) instead.  To get a de-fragmented frame, use `newframe = frame.copy()`\n",
            "  data[four] = data[color4] - data[color1] - data[sec] - data[third]\n"
          ]
        }
      ]
    },
    {
      "cell_type": "code",
      "source": [
        "for item in data.columns:\n",
        "  if data.columns.isnull().sum() != 0:\n",
        "    print(item)"
      ],
      "metadata": {
        "id": "TxeJnTTtYC49"
      },
      "execution_count": 10,
      "outputs": []
    },
    {
      "cell_type": "code",
      "source": [
        "# Seeing where team is located on table based on str....3 mean top team, 2 middle, 1 relegation pos....change this to based on avg points scored\n",
        "data[\"home_team_pos_str\"] = np.where(data[\"home_team_point_mean\"] > 1.8, 3, np.where(data[\"home_team_point_mean\"] < 1.2, 1, 2))\n",
        "data[\"away_team_pos_str\"] = np.where(data[\"away_team_point_mean\"] > 1.8, 3, np.where(data[\"away_team_point_mean\"] < 1.2, 1, 2))"
      ],
      "metadata": {
        "colab": {
          "base_uri": "https://localhost:8080/"
        },
        "id": "q4UZp0WgerRi",
        "outputId": "4e467f8e-742f-4acc-e39d-0056670ef86a"
      },
      "execution_count": 11,
      "outputs": [
        {
          "output_type": "stream",
          "name": "stderr",
          "text": [
            "<ipython-input-11-e6bca26a691e>:2: PerformanceWarning: DataFrame is highly fragmented.  This is usually the result of calling `frame.insert` many times, which has poor performance.  Consider joining all columns at once using pd.concat(axis=1) instead.  To get a de-fragmented frame, use `newframe = frame.copy()`\n",
            "  data[\"home_team_pos_str\"] = np.where(data[\"home_team_point_mean\"] > 1.8, 3, np.where(data[\"home_team_point_mean\"] < 1.2, 1, 2))\n",
            "<ipython-input-11-e6bca26a691e>:3: PerformanceWarning: DataFrame is highly fragmented.  This is usually the result of calling `frame.insert` many times, which has poor performance.  Consider joining all columns at once using pd.concat(axis=1) instead.  To get a de-fragmented frame, use `newframe = frame.copy()`\n",
            "  data[\"away_team_pos_str\"] = np.where(data[\"away_team_point_mean\"] > 1.8, 3, np.where(data[\"away_team_point_mean\"] < 1.2, 1, 2))\n"
          ]
        }
      ]
    },
    {
      "cell_type": "code",
      "source": [
        "sum_cols = []\n",
        "for item in data.columns:\n",
        "  if \"sum\" in item:\n",
        "    value = item.split(\"_roll\")[0]\n",
        "    if value not in sum_cols:\n",
        "      sum_cols.append(value)"
      ],
      "metadata": {
        "id": "tnRgE2tzMfbx"
      },
      "execution_count": 12,
      "outputs": []
    },
    {
      "cell_type": "code",
      "source": [
        "sum_cols"
      ],
      "metadata": {
        "colab": {
          "base_uri": "https://localhost:8080/"
        },
        "id": "QzM8BwoFQQMK",
        "outputId": "ec4526f9-88f0-4b48-a29c-301abebd1160"
      },
      "execution_count": 13,
      "outputs": [
        {
          "output_type": "execute_result",
          "data": {
            "text/plain": [
              "['home_team_goal',\n",
              " 'home_team_opponents_goal',\n",
              " 'home_team_shot',\n",
              " 'home_team_opponents_shot',\n",
              " 'home_team_shot_on_target',\n",
              " 'home_team_opponents_shot_on_target',\n",
              " 'home_team_fault',\n",
              " 'home_team_opponents_fault',\n",
              " 'home_team_corner',\n",
              " 'home_team_opponents_corner',\n",
              " 'home_team_yellow_card',\n",
              " 'home_team_opponents_yellow_card',\n",
              " 'home_team_red_card',\n",
              " 'home_team_opponents_red_card',\n",
              " 'home_team_point',\n",
              " 'home_team_expected_point',\n",
              " 'away_team_goal',\n",
              " 'away_team_opponents_goal',\n",
              " 'away_team_shot',\n",
              " 'away_team_opponents_shot',\n",
              " 'away_team_shot_on_target',\n",
              " 'away_team_opponents_shot_on_target',\n",
              " 'away_team_fault',\n",
              " 'away_team_opponents_fault',\n",
              " 'away_team_corner',\n",
              " 'away_team_opponents_corner',\n",
              " 'away_team_yellow_card',\n",
              " 'away_team_opponents_yellow_card',\n",
              " 'away_team_red_card',\n",
              " 'away_team_opponents_red_card',\n",
              " 'away_team_point',\n",
              " 'away_team_expected_point']"
            ]
          },
          "metadata": {},
          "execution_count": 13
        }
      ]
    },
    {
      "cell_type": "code",
      "source": [
        "def medianer(X):\n",
        "  for item in sum_cols:\n",
        "    colname = item+\"_median\"\n",
        "    val1 = item+\"_roll1_sum\"\n",
        "    val2 = \"second_match_\"+item\n",
        "    val3 =\"third_match_\"+item\n",
        "    val4 =\"forth_match_\"+item\n",
        "    X[colname] = np.sort(X, axis=1)[:, 1:3].sum(1)/2\n",
        "  return X"
      ],
      "metadata": {
        "id": "WivkZhNkL4Bx"
      },
      "execution_count": 14,
      "outputs": []
    },
    {
      "cell_type": "code",
      "source": [
        "for item in sum_cols:\n",
        "  colname = item+\"_median\"\n",
        "  columns = [c for c in data.columns if item in c]\n",
        "  data[colname] = data[columns].apply(lambda x: sorted(x)[1:3], axis=1, result_type='expand').sum(1)/2\n"
      ],
      "metadata": {
        "id": "Fdz8UMBsTOX3"
      },
      "execution_count": 15,
      "outputs": []
    },
    {
      "cell_type": "code",
      "source": [
        "def wincounter(data):\n",
        "  if data[\"home_team_goal_roll1_sum\"] > data[\"home_team_opponents_goal_roll1_sum\"]:\n",
        "    if data[\"second_match_home_team_goal\"] > data[\"second_match_home_team_opponents_goal\"]:\n",
        "      if data[\"third_match_home_team_goal\"] > data[\"third_match_home_team_opponents_goal\"]:\n",
        "        if data[\"forth_match_home_team_goal\"] > data[\"forth_match_home_team_opponents_goal\"]:\n",
        "          return 4\n",
        "        else: \n",
        "          return 3\n",
        "      else:\n",
        "        return 2\n",
        "    else:\n",
        "      return 1\n",
        "  else:\n",
        "    return 0\n",
        "\n",
        "def aw_wincounter(data):\n",
        "  if data[\"away_team_goal_roll1_sum\"] > data[\"away_team_opponents_goal_roll1_sum\"]:\n",
        "    if data[\"second_match_away_team_goal\"] > data[\"second_match_away_team_opponents_goal\"]:\n",
        "      if data[\"third_match_away_team_goal\"] > data[\"third_match_away_team_opponents_goal\"]:\n",
        "        if data[\"forth_match_away_team_goal\"] > data[\"forth_match_away_team_opponents_goal\"]:\n",
        "          return 4\n",
        "        else: \n",
        "          return 3\n",
        "      else:\n",
        "        return 2\n",
        "    else:\n",
        "      return 1\n",
        "  else:\n",
        "    return 0"
      ],
      "metadata": {
        "id": "uB6ukHOmVX_v"
      },
      "execution_count": 16,
      "outputs": []
    },
    {
      "cell_type": "code",
      "source": [
        "data[\"home_win_streak\"] = data.apply(lambda x: wincounter(x), axis = 1)"
      ],
      "metadata": {
        "id": "Nddcq-WTVYCb"
      },
      "execution_count": 17,
      "outputs": []
    },
    {
      "cell_type": "code",
      "source": [
        "data[\"away_win_streak\"] = data.apply(lambda x: aw_wincounter(x), axis = 1)"
      ],
      "metadata": {
        "id": "u1ie2aVNaeJe"
      },
      "execution_count": 18,
      "outputs": []
    },
    {
      "cell_type": "code",
      "source": [
        "data[\"home_win_streak\"].value_counts()"
      ],
      "metadata": {
        "colab": {
          "base_uri": "https://localhost:8080/"
        },
        "id": "wpESpFvVVYE-",
        "outputId": "02d0fc87-b05f-4c30-f6fd-75974777581c"
      },
      "execution_count": 19,
      "outputs": [
        {
          "output_type": "execute_result",
          "data": {
            "text/plain": [
              "0    43376\n",
              "1    11991\n",
              "2     4968\n",
              "4     1943\n",
              "3     1888\n",
              "Name: home_win_streak, dtype: int64"
            ]
          },
          "metadata": {},
          "execution_count": 19
        }
      ]
    },
    {
      "cell_type": "code",
      "source": [
        "data[\"away_win_streak\"].value_counts()"
      ],
      "metadata": {
        "colab": {
          "base_uri": "https://localhost:8080/"
        },
        "id": "iBFV_YaignV1",
        "outputId": "1195e311-54fb-4d58-cdd4-451a9e1753fe"
      },
      "execution_count": 20,
      "outputs": [
        {
          "output_type": "execute_result",
          "data": {
            "text/plain": [
              "0    37675\n",
              "1    16584\n",
              "2     5415\n",
              "3     2342\n",
              "4     2150\n",
              "Name: away_win_streak, dtype: int64"
            ]
          },
          "metadata": {},
          "execution_count": 20
        }
      ]
    },
    {
      "cell_type": "code",
      "source": [
        "clean_cols = []\n",
        "for item in sum_cols:\n",
        "  val = item.split(\"_team_\")[1]\n",
        "  if (\"opponents_\" not in val) & (val not in clean_cols):\n",
        "    clean_cols.append(val)"
      ],
      "metadata": {
        "id": "tdPu-hfKbWcS"
      },
      "execution_count": 21,
      "outputs": []
    },
    {
      "cell_type": "code",
      "source": [
        "clean_cols"
      ],
      "metadata": {
        "colab": {
          "base_uri": "https://localhost:8080/"
        },
        "id": "z_OJiCqAd6pc",
        "outputId": "2d77ac95-b2b2-4a88-e9ce-908844c910b5"
      },
      "execution_count": 22,
      "outputs": [
        {
          "output_type": "execute_result",
          "data": {
            "text/plain": [
              "['goal',\n",
              " 'shot',\n",
              " 'shot_on_target',\n",
              " 'fault',\n",
              " 'corner',\n",
              " 'yellow_card',\n",
              " 'red_card',\n",
              " 'point',\n",
              " 'expected_point']"
            ]
          },
          "metadata": {},
          "execution_count": 22
        }
      ]
    },
    {
      "cell_type": "code",
      "source": [
        "def ratio(data):\n",
        "  for item in clean_cols:\n",
        "    home_val = \"home_team_\" + item + \"_median\"\n",
        "    away_val = \"away_team_\" + item + \"_median\"\n",
        "    rat = item+\"_ratio\"\n",
        "    data[rat] = data[home_val] / data[away_val]\n",
        "  return data\n",
        "\n",
        "def pre_match_ratio(data):\n",
        "  for item in clean_cols[:-2]:\n",
        "    home_val = \"home_team_\" + item + \"_median\"\n",
        "    home_opp_val = \"home_team_opponents_\" + item + \"_median\"\n",
        "    rat = item+\"home_ratio\"\n",
        "    data[rat] = data[home_val] / data[home_opp_val]\n",
        "    away_val = \"away_team_\" + item + \"_median\"\n",
        "    away_opp_val = \"away_team_opponents_\" + item + \"_median\"\n",
        "    rat_aw = item+\"away_ratio\"\n",
        "    data[rat_aw] = data[away_val] / data[away_opp_val]\n",
        "  return data\n",
        "\n",
        "\n"
      ],
      "metadata": {
        "id": "H33lV7oEVYH1"
      },
      "execution_count": 23,
      "outputs": []
    },
    {
      "cell_type": "code",
      "source": [
        "data = pre_match_ratio(data)"
      ],
      "metadata": {
        "id": "5pMwnSR4VYJ3"
      },
      "execution_count": 24,
      "outputs": []
    },
    {
      "cell_type": "code",
      "source": [
        "cols_use = []\n",
        "\n",
        "for item in data.columns:\n",
        "  if (\"ratio\" in item) & (\"opponents\" not in item):\n",
        "    cols_use.append(item)\n",
        "  elif (\"median\" in item) & (\"opponents\" not in item):\n",
        "    cols_use.append(item)"
      ],
      "metadata": {
        "id": "0b4Zef0id_8h"
      },
      "execution_count": 25,
      "outputs": []
    },
    {
      "cell_type": "code",
      "source": [
        "cols_use"
      ],
      "metadata": {
        "colab": {
          "base_uri": "https://localhost:8080/"
        },
        "id": "2XwZfT4duonx",
        "outputId": "d51874d1-39d3-4603-e8cf-2d1f28ddea27"
      },
      "execution_count": 26,
      "outputs": [
        {
          "output_type": "execute_result",
          "data": {
            "text/plain": [
              "['home_team_goal_median',\n",
              " 'home_team_shot_median',\n",
              " 'home_team_shot_on_target_median',\n",
              " 'home_team_fault_median',\n",
              " 'home_team_corner_median',\n",
              " 'home_team_yellow_card_median',\n",
              " 'home_team_red_card_median',\n",
              " 'home_team_point_median',\n",
              " 'home_team_expected_point_median',\n",
              " 'away_team_goal_median',\n",
              " 'away_team_shot_median',\n",
              " 'away_team_shot_on_target_median',\n",
              " 'away_team_fault_median',\n",
              " 'away_team_corner_median',\n",
              " 'away_team_yellow_card_median',\n",
              " 'away_team_red_card_median',\n",
              " 'away_team_point_median',\n",
              " 'away_team_expected_point_median',\n",
              " 'goalhome_ratio',\n",
              " 'goalaway_ratio',\n",
              " 'shothome_ratio',\n",
              " 'shotaway_ratio',\n",
              " 'shot_on_targethome_ratio',\n",
              " 'shot_on_targetaway_ratio',\n",
              " 'faulthome_ratio',\n",
              " 'faultaway_ratio',\n",
              " 'cornerhome_ratio',\n",
              " 'corneraway_ratio',\n",
              " 'yellow_cardhome_ratio',\n",
              " 'yellow_cardaway_ratio',\n",
              " 'red_cardhome_ratio',\n",
              " 'red_cardaway_ratio']"
            ]
          },
          "metadata": {},
          "execution_count": 26
        }
      ]
    },
    {
      "cell_type": "code",
      "source": [
        "data[\"Pos_diff\"] = data[\"home_team_pos_str\"] - data[\"away_team_pos_str\"]"
      ],
      "metadata": {
        "id": "g3aA-AVCzjia"
      },
      "execution_count": 27,
      "outputs": []
    },
    {
      "cell_type": "code",
      "source": [
        "# good 67.42\n",
        "data[\"home_team_roll4_points_diff\"] = data[\"home_team_point_roll4_sum\"]-data[\"home_team_expected_point_roll4_sum\"]\n",
        "data[\"away_team_roll4_points_diff\"] = data[\"away_team_point_roll4_sum\"]-data[\"away_team_expected_point_roll4_sum\"]\n",
        "# good 67.46\n",
        "data[\"home_team_roll1_points_diff\"] = data[\"home_team_point_roll1_sum\"]-data[\"home_team_expected_point_roll1_sum\"]\n",
        "data[\"away_team_roll1_points_diff\"] = data[\"home_team_point_roll1_sum\"]-data[\"home_team_expected_point_roll1_sum\"]"
      ],
      "metadata": {
        "id": "eJvlumTfCidF"
      },
      "execution_count": 28,
      "outputs": []
    },
    {
      "cell_type": "code",
      "source": [
        "df = data[['odds_home_team_win','odds_away_team_win','odds_draw',\"Pos_diff\",'odds_diff','Win_draw_diff', 'home_team_pos_str', 'away_team_pos_str', 'home_team_shot_median', 'home_team_shot_on_target_median', 'home_team_corner_median','away_team_goal_median',\n",
        " 'away_team_shot_median','away_team_shot_on_target_median','away_team_corner_median','away_team_red_card_roll1_sum','shothome_ratio',\n",
        " 'shotaway_ratio',\n",
        " 'shot_on_targethome_ratio',\n",
        " 'shot_on_targetaway_ratio','cornerhome_ratio','corneraway_ratio', \"home_win_flag\"]]"
      ],
      "metadata": {
        "id": "FlqYlNUNnnfR"
      },
      "execution_count": 29,
      "outputs": []
    },
    {
      "cell_type": "code",
      "source": [
        "#'home_team_fault_median','home_team_yellow_card_median','home_team_red_card_roll1_sum','away_team_fault_median','away_team_yellow_card_median','faulthome_ratio','faultaway_ratio','yellow_cardhome_ratio','yellow_cardaway_ratio','home_team_roll1_points_diff','away_team_roll1_points_diff','home_team_roll4_points_diff',"
      ],
      "metadata": {
        "id": "YSE2vctTomE1"
      },
      "execution_count": 30,
      "outputs": []
    },
    {
      "cell_type": "code",
      "source": [
        "from sklearn.ensemble import RandomForestClassifier\n",
        "from sklearn.preprocessing import StandardScaler, MinMaxScaler\n",
        "from sklearn.naive_bayes import GaussianNB\n",
        "from sklearn.model_selection import train_test_split, GridSearchCV\n",
        "from sklearn.metrics import accuracy_score, roc_auc_score"
      ],
      "metadata": {
        "id": "hp3K0ttikGMq"
      },
      "execution_count": 31,
      "outputs": []
    },
    {
      "cell_type": "code",
      "source": [
        "model = GaussianNB()"
      ],
      "metadata": {
        "id": "KqL1g-m6qEO8"
      },
      "execution_count": 32,
      "outputs": []
    },
    {
      "cell_type": "code",
      "source": [
        "for item in df.columns:\n",
        "  maxi = df[item].max()\n",
        "  df[item] = df[item].replace([np.inf, -np.inf], -200000)"
      ],
      "metadata": {
        "colab": {
          "base_uri": "https://localhost:8080/"
        },
        "id": "fPpUav_rE7gu",
        "outputId": "a99d1ea3-da0a-4f4a-95f6-1e51ef3b0722"
      },
      "execution_count": 33,
      "outputs": [
        {
          "output_type": "stream",
          "name": "stderr",
          "text": [
            "<ipython-input-33-7ed1d7d1e8b1>:3: SettingWithCopyWarning: \n",
            "A value is trying to be set on a copy of a slice from a DataFrame.\n",
            "Try using .loc[row_indexer,col_indexer] = value instead\n",
            "\n",
            "See the caveats in the documentation: https://pandas.pydata.org/pandas-docs/stable/user_guide/indexing.html#returning-a-view-versus-a-copy\n",
            "  df[item] = df[item].replace([np.inf, -np.inf], -200000)\n"
          ]
        }
      ]
    },
    {
      "cell_type": "code",
      "source": [
        "for item in df.columns:\n",
        "  val = df[item].apply(np.isinf).sum()\n",
        "  maxi = df[item].max()\n",
        "  df[item] = df[item].replace(-200000, maxi)"
      ],
      "metadata": {
        "colab": {
          "base_uri": "https://localhost:8080/"
        },
        "id": "hn8WmXN1GbrH",
        "outputId": "aab70166-636c-4292-9184-951dc5656771"
      },
      "execution_count": 34,
      "outputs": [
        {
          "output_type": "stream",
          "name": "stderr",
          "text": [
            "<ipython-input-34-61f9dd506e39>:4: SettingWithCopyWarning: \n",
            "A value is trying to be set on a copy of a slice from a DataFrame.\n",
            "Try using .loc[row_indexer,col_indexer] = value instead\n",
            "\n",
            "See the caveats in the documentation: https://pandas.pydata.org/pandas-docs/stable/user_guide/indexing.html#returning-a-view-versus-a-copy\n",
            "  df[item] = df[item].replace(-200000, maxi)\n"
          ]
        }
      ]
    },
    {
      "cell_type": "code",
      "source": [
        "df = df.fillna(0)"
      ],
      "metadata": {
        "id": "YNKcmr9yGMmL"
      },
      "execution_count": 35,
      "outputs": []
    },
    {
      "cell_type": "code",
      "source": [
        "y = df[\"home_win_flag\"]\n",
        "X = df.drop(\"home_win_flag\", axis = 1)"
      ],
      "metadata": {
        "id": "sZ8ak2mgq4HE"
      },
      "execution_count": 36,
      "outputs": []
    },
    {
      "cell_type": "code",
      "source": [
        "X_train, X_test, y_train, y_test = train_test_split(X, y, test_size = 0.3, random_state=42)"
      ],
      "metadata": {
        "id": "88QxKHLXFtfD"
      },
      "execution_count": 37,
      "outputs": []
    },
    {
      "cell_type": "code",
      "source": [
        "model.fit(X_train, y_train)"
      ],
      "metadata": {
        "colab": {
          "base_uri": "https://localhost:8080/",
          "height": 75
        },
        "id": "eepwLjKlFtZ6",
        "outputId": "e241a6ab-cf16-4623-e54e-1ea21a68ad79"
      },
      "execution_count": 38,
      "outputs": [
        {
          "output_type": "execute_result",
          "data": {
            "text/plain": [
              "GaussianNB()"
            ],
            "text/html": [
              "<style>#sk-container-id-1 {color: black;background-color: white;}#sk-container-id-1 pre{padding: 0;}#sk-container-id-1 div.sk-toggleable {background-color: white;}#sk-container-id-1 label.sk-toggleable__label {cursor: pointer;display: block;width: 100%;margin-bottom: 0;padding: 0.3em;box-sizing: border-box;text-align: center;}#sk-container-id-1 label.sk-toggleable__label-arrow:before {content: \"▸\";float: left;margin-right: 0.25em;color: #696969;}#sk-container-id-1 label.sk-toggleable__label-arrow:hover:before {color: black;}#sk-container-id-1 div.sk-estimator:hover label.sk-toggleable__label-arrow:before {color: black;}#sk-container-id-1 div.sk-toggleable__content {max-height: 0;max-width: 0;overflow: hidden;text-align: left;background-color: #f0f8ff;}#sk-container-id-1 div.sk-toggleable__content pre {margin: 0.2em;color: black;border-radius: 0.25em;background-color: #f0f8ff;}#sk-container-id-1 input.sk-toggleable__control:checked~div.sk-toggleable__content {max-height: 200px;max-width: 100%;overflow: auto;}#sk-container-id-1 input.sk-toggleable__control:checked~label.sk-toggleable__label-arrow:before {content: \"▾\";}#sk-container-id-1 div.sk-estimator input.sk-toggleable__control:checked~label.sk-toggleable__label {background-color: #d4ebff;}#sk-container-id-1 div.sk-label input.sk-toggleable__control:checked~label.sk-toggleable__label {background-color: #d4ebff;}#sk-container-id-1 input.sk-hidden--visually {border: 0;clip: rect(1px 1px 1px 1px);clip: rect(1px, 1px, 1px, 1px);height: 1px;margin: -1px;overflow: hidden;padding: 0;position: absolute;width: 1px;}#sk-container-id-1 div.sk-estimator {font-family: monospace;background-color: #f0f8ff;border: 1px dotted black;border-radius: 0.25em;box-sizing: border-box;margin-bottom: 0.5em;}#sk-container-id-1 div.sk-estimator:hover {background-color: #d4ebff;}#sk-container-id-1 div.sk-parallel-item::after {content: \"\";width: 100%;border-bottom: 1px solid gray;flex-grow: 1;}#sk-container-id-1 div.sk-label:hover label.sk-toggleable__label {background-color: #d4ebff;}#sk-container-id-1 div.sk-serial::before {content: \"\";position: absolute;border-left: 1px solid gray;box-sizing: border-box;top: 0;bottom: 0;left: 50%;z-index: 0;}#sk-container-id-1 div.sk-serial {display: flex;flex-direction: column;align-items: center;background-color: white;padding-right: 0.2em;padding-left: 0.2em;position: relative;}#sk-container-id-1 div.sk-item {position: relative;z-index: 1;}#sk-container-id-1 div.sk-parallel {display: flex;align-items: stretch;justify-content: center;background-color: white;position: relative;}#sk-container-id-1 div.sk-item::before, #sk-container-id-1 div.sk-parallel-item::before {content: \"\";position: absolute;border-left: 1px solid gray;box-sizing: border-box;top: 0;bottom: 0;left: 50%;z-index: -1;}#sk-container-id-1 div.sk-parallel-item {display: flex;flex-direction: column;z-index: 1;position: relative;background-color: white;}#sk-container-id-1 div.sk-parallel-item:first-child::after {align-self: flex-end;width: 50%;}#sk-container-id-1 div.sk-parallel-item:last-child::after {align-self: flex-start;width: 50%;}#sk-container-id-1 div.sk-parallel-item:only-child::after {width: 0;}#sk-container-id-1 div.sk-dashed-wrapped {border: 1px dashed gray;margin: 0 0.4em 0.5em 0.4em;box-sizing: border-box;padding-bottom: 0.4em;background-color: white;}#sk-container-id-1 div.sk-label label {font-family: monospace;font-weight: bold;display: inline-block;line-height: 1.2em;}#sk-container-id-1 div.sk-label-container {text-align: center;}#sk-container-id-1 div.sk-container {/* jupyter's `normalize.less` sets `[hidden] { display: none; }` but bootstrap.min.css set `[hidden] { display: none !important; }` so we also need the `!important` here to be able to override the default hidden behavior on the sphinx rendered scikit-learn.org. See: https://github.com/scikit-learn/scikit-learn/issues/21755 */display: inline-block !important;position: relative;}#sk-container-id-1 div.sk-text-repr-fallback {display: none;}</style><div id=\"sk-container-id-1\" class=\"sk-top-container\"><div class=\"sk-text-repr-fallback\"><pre>GaussianNB()</pre><b>In a Jupyter environment, please rerun this cell to show the HTML representation or trust the notebook. <br />On GitHub, the HTML representation is unable to render, please try loading this page with nbviewer.org.</b></div><div class=\"sk-container\" hidden><div class=\"sk-item\"><div class=\"sk-estimator sk-toggleable\"><input class=\"sk-toggleable__control sk-hidden--visually\" id=\"sk-estimator-id-1\" type=\"checkbox\" checked><label for=\"sk-estimator-id-1\" class=\"sk-toggleable__label sk-toggleable__label-arrow\">GaussianNB</label><div class=\"sk-toggleable__content\"><pre>GaussianNB()</pre></div></div></div></div></div>"
            ]
          },
          "metadata": {},
          "execution_count": 38
        }
      ]
    },
    {
      "cell_type": "code",
      "source": [
        "y_proba = model.predict_proba(X_test)[:, 1]"
      ],
      "metadata": {
        "id": "NqoX1PFMFtXi"
      },
      "execution_count": 39,
      "outputs": []
    },
    {
      "cell_type": "code",
      "source": [
        "auc = roc_auc_score(y_test, y_proba)"
      ],
      "metadata": {
        "id": "2Q55yG6UFtVV"
      },
      "execution_count": 40,
      "outputs": []
    },
    {
      "cell_type": "code",
      "source": [
        "auc"
      ],
      "metadata": {
        "colab": {
          "base_uri": "https://localhost:8080/"
        },
        "id": "7pGnigxkFtTI",
        "outputId": "22ad40a0-c7a7-4c2c-9e9f-6cc964ce97cb"
      },
      "execution_count": 41,
      "outputs": [
        {
          "output_type": "execute_result",
          "data": {
            "text/plain": [
              "0.6606260249830056"
            ]
          },
          "metadata": {},
          "execution_count": 41
        }
      ]
    },
    {
      "cell_type": "code",
      "source": [
        "param_grid = {\n",
        "    'n_estimators': [100, 200],\n",
        "    'max_depth': [5, 10],\n",
        "    'min_samples_split': [2, 5],\n",
        "    'min_samples_leaf': [1, 2]\n",
        "}"
      ],
      "metadata": {
        "id": "b8eccN-43qY-"
      },
      "execution_count": 42,
      "outputs": []
    },
    {
      "cell_type": "code",
      "source": [
        "rf = RandomForestClassifier(random_state = 42)"
      ],
      "metadata": {
        "id": "358c0nXp3qbH"
      },
      "execution_count": 43,
      "outputs": []
    },
    {
      "cell_type": "code",
      "source": [
        "grid = GridSearchCV(rf, param_grid = param_grid, cv = 5)"
      ],
      "metadata": {
        "id": "d-PkHZnB3qdW"
      },
      "execution_count": 44,
      "outputs": []
    },
    {
      "cell_type": "code",
      "source": [
        "grid.fit(X_train, y_train)"
      ],
      "metadata": {
        "colab": {
          "base_uri": "https://localhost:8080/",
          "height": 119
        },
        "id": "2F4CK9qO3qfi",
        "outputId": "8ded8e8e-6640-4176-92f5-1b62385eb920"
      },
      "execution_count": 45,
      "outputs": [
        {
          "output_type": "execute_result",
          "data": {
            "text/plain": [
              "GridSearchCV(cv=5, estimator=RandomForestClassifier(random_state=42),\n",
              "             param_grid={'max_depth': [5, 10], 'min_samples_leaf': [1, 2],\n",
              "                         'min_samples_split': [2, 5],\n",
              "                         'n_estimators': [100, 200]})"
            ],
            "text/html": [
              "<style>#sk-container-id-2 {color: black;background-color: white;}#sk-container-id-2 pre{padding: 0;}#sk-container-id-2 div.sk-toggleable {background-color: white;}#sk-container-id-2 label.sk-toggleable__label {cursor: pointer;display: block;width: 100%;margin-bottom: 0;padding: 0.3em;box-sizing: border-box;text-align: center;}#sk-container-id-2 label.sk-toggleable__label-arrow:before {content: \"▸\";float: left;margin-right: 0.25em;color: #696969;}#sk-container-id-2 label.sk-toggleable__label-arrow:hover:before {color: black;}#sk-container-id-2 div.sk-estimator:hover label.sk-toggleable__label-arrow:before {color: black;}#sk-container-id-2 div.sk-toggleable__content {max-height: 0;max-width: 0;overflow: hidden;text-align: left;background-color: #f0f8ff;}#sk-container-id-2 div.sk-toggleable__content pre {margin: 0.2em;color: black;border-radius: 0.25em;background-color: #f0f8ff;}#sk-container-id-2 input.sk-toggleable__control:checked~div.sk-toggleable__content {max-height: 200px;max-width: 100%;overflow: auto;}#sk-container-id-2 input.sk-toggleable__control:checked~label.sk-toggleable__label-arrow:before {content: \"▾\";}#sk-container-id-2 div.sk-estimator input.sk-toggleable__control:checked~label.sk-toggleable__label {background-color: #d4ebff;}#sk-container-id-2 div.sk-label input.sk-toggleable__control:checked~label.sk-toggleable__label {background-color: #d4ebff;}#sk-container-id-2 input.sk-hidden--visually {border: 0;clip: rect(1px 1px 1px 1px);clip: rect(1px, 1px, 1px, 1px);height: 1px;margin: -1px;overflow: hidden;padding: 0;position: absolute;width: 1px;}#sk-container-id-2 div.sk-estimator {font-family: monospace;background-color: #f0f8ff;border: 1px dotted black;border-radius: 0.25em;box-sizing: border-box;margin-bottom: 0.5em;}#sk-container-id-2 div.sk-estimator:hover {background-color: #d4ebff;}#sk-container-id-2 div.sk-parallel-item::after {content: \"\";width: 100%;border-bottom: 1px solid gray;flex-grow: 1;}#sk-container-id-2 div.sk-label:hover label.sk-toggleable__label {background-color: #d4ebff;}#sk-container-id-2 div.sk-serial::before {content: \"\";position: absolute;border-left: 1px solid gray;box-sizing: border-box;top: 0;bottom: 0;left: 50%;z-index: 0;}#sk-container-id-2 div.sk-serial {display: flex;flex-direction: column;align-items: center;background-color: white;padding-right: 0.2em;padding-left: 0.2em;position: relative;}#sk-container-id-2 div.sk-item {position: relative;z-index: 1;}#sk-container-id-2 div.sk-parallel {display: flex;align-items: stretch;justify-content: center;background-color: white;position: relative;}#sk-container-id-2 div.sk-item::before, #sk-container-id-2 div.sk-parallel-item::before {content: \"\";position: absolute;border-left: 1px solid gray;box-sizing: border-box;top: 0;bottom: 0;left: 50%;z-index: -1;}#sk-container-id-2 div.sk-parallel-item {display: flex;flex-direction: column;z-index: 1;position: relative;background-color: white;}#sk-container-id-2 div.sk-parallel-item:first-child::after {align-self: flex-end;width: 50%;}#sk-container-id-2 div.sk-parallel-item:last-child::after {align-self: flex-start;width: 50%;}#sk-container-id-2 div.sk-parallel-item:only-child::after {width: 0;}#sk-container-id-2 div.sk-dashed-wrapped {border: 1px dashed gray;margin: 0 0.4em 0.5em 0.4em;box-sizing: border-box;padding-bottom: 0.4em;background-color: white;}#sk-container-id-2 div.sk-label label {font-family: monospace;font-weight: bold;display: inline-block;line-height: 1.2em;}#sk-container-id-2 div.sk-label-container {text-align: center;}#sk-container-id-2 div.sk-container {/* jupyter's `normalize.less` sets `[hidden] { display: none; }` but bootstrap.min.css set `[hidden] { display: none !important; }` so we also need the `!important` here to be able to override the default hidden behavior on the sphinx rendered scikit-learn.org. See: https://github.com/scikit-learn/scikit-learn/issues/21755 */display: inline-block !important;position: relative;}#sk-container-id-2 div.sk-text-repr-fallback {display: none;}</style><div id=\"sk-container-id-2\" class=\"sk-top-container\"><div class=\"sk-text-repr-fallback\"><pre>GridSearchCV(cv=5, estimator=RandomForestClassifier(random_state=42),\n",
              "             param_grid={&#x27;max_depth&#x27;: [5, 10], &#x27;min_samples_leaf&#x27;: [1, 2],\n",
              "                         &#x27;min_samples_split&#x27;: [2, 5],\n",
              "                         &#x27;n_estimators&#x27;: [100, 200]})</pre><b>In a Jupyter environment, please rerun this cell to show the HTML representation or trust the notebook. <br />On GitHub, the HTML representation is unable to render, please try loading this page with nbviewer.org.</b></div><div class=\"sk-container\" hidden><div class=\"sk-item sk-dashed-wrapped\"><div class=\"sk-label-container\"><div class=\"sk-label sk-toggleable\"><input class=\"sk-toggleable__control sk-hidden--visually\" id=\"sk-estimator-id-2\" type=\"checkbox\" ><label for=\"sk-estimator-id-2\" class=\"sk-toggleable__label sk-toggleable__label-arrow\">GridSearchCV</label><div class=\"sk-toggleable__content\"><pre>GridSearchCV(cv=5, estimator=RandomForestClassifier(random_state=42),\n",
              "             param_grid={&#x27;max_depth&#x27;: [5, 10], &#x27;min_samples_leaf&#x27;: [1, 2],\n",
              "                         &#x27;min_samples_split&#x27;: [2, 5],\n",
              "                         &#x27;n_estimators&#x27;: [100, 200]})</pre></div></div></div><div class=\"sk-parallel\"><div class=\"sk-parallel-item\"><div class=\"sk-item\"><div class=\"sk-label-container\"><div class=\"sk-label sk-toggleable\"><input class=\"sk-toggleable__control sk-hidden--visually\" id=\"sk-estimator-id-3\" type=\"checkbox\" ><label for=\"sk-estimator-id-3\" class=\"sk-toggleable__label sk-toggleable__label-arrow\">estimator: RandomForestClassifier</label><div class=\"sk-toggleable__content\"><pre>RandomForestClassifier(random_state=42)</pre></div></div></div><div class=\"sk-serial\"><div class=\"sk-item\"><div class=\"sk-estimator sk-toggleable\"><input class=\"sk-toggleable__control sk-hidden--visually\" id=\"sk-estimator-id-4\" type=\"checkbox\" ><label for=\"sk-estimator-id-4\" class=\"sk-toggleable__label sk-toggleable__label-arrow\">RandomForestClassifier</label><div class=\"sk-toggleable__content\"><pre>RandomForestClassifier(random_state=42)</pre></div></div></div></div></div></div></div></div></div></div>"
            ]
          },
          "metadata": {},
          "execution_count": 45
        }
      ]
    },
    {
      "cell_type": "code",
      "source": [
        "print(\"Best parameters:\", grid.best_params_)\n",
        "print(\"Best score:\", grid.best_score_)"
      ],
      "metadata": {
        "id": "x5oB1Pyd-kub",
        "colab": {
          "base_uri": "https://localhost:8080/"
        },
        "outputId": "a6be7e5a-4081-4292-c0c5-857781703b04"
      },
      "execution_count": 46,
      "outputs": [
        {
          "output_type": "stream",
          "name": "stdout",
          "text": [
            "Best parameters: {'max_depth': 5, 'min_samples_leaf': 1, 'min_samples_split': 5, 'n_estimators': 100}\n",
            "Best score: 0.6424660526775172\n"
          ]
        }
      ]
    },
    {
      "cell_type": "code",
      "source": [
        "y_pred = grid.best_estimator_.predict_proba(X_test)[:, 1]"
      ],
      "metadata": {
        "id": "Xn5zQgWI-kwy"
      },
      "execution_count": 47,
      "outputs": []
    },
    {
      "cell_type": "code",
      "source": [
        "from sklearn.metrics import accuracy_score, roc_auc_score"
      ],
      "metadata": {
        "id": "CW5_fv6jPEvt"
      },
      "execution_count": 48,
      "outputs": []
    },
    {
      "cell_type": "code",
      "source": [
        "auc = roc_auc_score(y_test, y_pred)"
      ],
      "metadata": {
        "id": "D0U6tSF9-kzc"
      },
      "execution_count": 49,
      "outputs": []
    },
    {
      "cell_type": "code",
      "source": [
        "print(auc)"
      ],
      "metadata": {
        "id": "J1W8v3fLPMVD",
        "colab": {
          "base_uri": "https://localhost:8080/"
        },
        "outputId": "e6ebc27f-d6a2-4a7f-afb7-379e2470ab0b"
      },
      "execution_count": 50,
      "outputs": [
        {
          "output_type": "stream",
          "name": "stdout",
          "text": [
            "0.6740696245788187\n"
          ]
        }
      ]
    },
    {
      "cell_type": "code",
      "source": [
        "best_rf = grid.best_estimator_"
      ],
      "metadata": {
        "id": "HwkgcoK9-k1n"
      },
      "execution_count": 51,
      "outputs": []
    },
    {
      "cell_type": "code",
      "source": [
        "importances = best_rf.feature_importances_"
      ],
      "metadata": {
        "id": "y31tNNL2R4Qk"
      },
      "execution_count": 52,
      "outputs": []
    },
    {
      "cell_type": "code",
      "source": [
        "for feature, importance in zip(X.columns, importances):\n",
        "    print(f'{feature}: {importance}')"
      ],
      "metadata": {
        "id": "p9Pg_3nh-k4G",
        "colab": {
          "base_uri": "https://localhost:8080/"
        },
        "outputId": "31670173-8b92-4a60-e50a-2339705c06ad"
      },
      "execution_count": 53,
      "outputs": [
        {
          "output_type": "stream",
          "name": "stdout",
          "text": [
            "odds_home_team_win: 0.1765923314596245\n",
            "odds_away_team_win: 0.2101498032551366\n",
            "odds_draw: 0.055821964348186565\n",
            "Pos_diff: 0.024373977445716902\n",
            "odds_diff: 0.23385346085015643\n",
            "Win_draw_diff: 0.19966929519502924\n",
            "home_team_pos_str: 0.00892179787906359\n",
            "away_team_pos_str: 0.010705633611062011\n",
            "home_team_shot_median: 0.005702204951708855\n",
            "home_team_shot_on_target_median: 0.0017195685216214833\n",
            "home_team_corner_median: 0.002790279020534312\n",
            "away_team_goal_median: 0.0036186966894981524\n",
            "away_team_shot_median: 0.004474347761198636\n",
            "away_team_shot_on_target_median: 0.0016559548305675443\n",
            "away_team_corner_median: 0.0022893745579948086\n",
            "away_team_red_card_roll1_sum: 0.00016365643688360515\n",
            "shothome_ratio: 0.00859325577940825\n",
            "shotaway_ratio: 0.01398308646761966\n",
            "shot_on_targethome_ratio: 0.012278205687789069\n",
            "shot_on_targetaway_ratio: 0.010742065868363735\n",
            "cornerhome_ratio: 0.005200161343604177\n",
            "corneraway_ratio: 0.006700878039231828\n"
          ]
        }
      ]
    },
    {
      "cell_type": "code",
      "source": [],
      "metadata": {
        "id": "pQPaEpiqTcbP"
      },
      "execution_count": null,
      "outputs": []
    },
    {
      "cell_type": "markdown",
      "source": [
        "**For away prediction**"
      ],
      "metadata": {
        "id": "ACTbpgYmoMbu"
      }
    },
    {
      "cell_type": "code",
      "source": [
        "away = data[['odds_home_team_win','odds_away_team_win','odds_draw',\"Pos_diff\",'odds_diff','Win_draw_diff', 'home_team_pos_str', 'away_team_pos_str', 'home_team_shot_median', 'home_team_shot_on_target_median', 'home_team_corner_median','away_team_goal_median',\n",
        " 'away_team_shot_median','away_team_shot_on_target_median','away_team_corner_median','away_team_red_card_roll1_sum','shothome_ratio',\n",
        " 'shotaway_ratio',\n",
        " 'shot_on_targethome_ratio',\n",
        " 'shot_on_targetaway_ratio','cornerhome_ratio','corneraway_ratio', \"away_win_flag\"]]"
      ],
      "metadata": {
        "id": "IoEar0SGTcdv"
      },
      "execution_count": 54,
      "outputs": []
    },
    {
      "cell_type": "code",
      "source": [
        "for item in away.columns:\n",
        "  maxi = away[item].max()\n",
        "  away[item] = away[item].replace([np.inf, -np.inf], -200000)"
      ],
      "metadata": {
        "id": "SvtpBp6MTcf9",
        "colab": {
          "base_uri": "https://localhost:8080/"
        },
        "outputId": "4c80430d-c126-47f1-afeb-90e0b2c6c890"
      },
      "execution_count": 55,
      "outputs": [
        {
          "output_type": "stream",
          "name": "stderr",
          "text": [
            "<ipython-input-55-9cdccbb82b1b>:3: SettingWithCopyWarning: \n",
            "A value is trying to be set on a copy of a slice from a DataFrame.\n",
            "Try using .loc[row_indexer,col_indexer] = value instead\n",
            "\n",
            "See the caveats in the documentation: https://pandas.pydata.org/pandas-docs/stable/user_guide/indexing.html#returning-a-view-versus-a-copy\n",
            "  away[item] = away[item].replace([np.inf, -np.inf], -200000)\n"
          ]
        }
      ]
    },
    {
      "cell_type": "code",
      "source": [
        "for item in away.columns:\n",
        "  val = away[item].apply(np.isinf).sum()\n",
        "  maxi = away[item].max()\n",
        "  away[item] = away[item].replace(-200000, maxi)"
      ],
      "metadata": {
        "id": "7p-_yhoeTch6",
        "colab": {
          "base_uri": "https://localhost:8080/"
        },
        "outputId": "41471202-0b7c-4d20-e52c-eb793c6f252e"
      },
      "execution_count": 56,
      "outputs": [
        {
          "output_type": "stream",
          "name": "stderr",
          "text": [
            "<ipython-input-56-232d14e1c800>:4: SettingWithCopyWarning: \n",
            "A value is trying to be set on a copy of a slice from a DataFrame.\n",
            "Try using .loc[row_indexer,col_indexer] = value instead\n",
            "\n",
            "See the caveats in the documentation: https://pandas.pydata.org/pandas-docs/stable/user_guide/indexing.html#returning-a-view-versus-a-copy\n",
            "  away[item] = away[item].replace(-200000, maxi)\n"
          ]
        }
      ]
    },
    {
      "cell_type": "code",
      "source": [
        "away = away.fillna(0)"
      ],
      "metadata": {
        "id": "6kBLUxhATck2"
      },
      "execution_count": 57,
      "outputs": []
    },
    {
      "cell_type": "code",
      "source": [
        "y = away[\"away_win_flag\"]\n",
        "X = away.drop(\"away_win_flag\", axis = 1)"
      ],
      "metadata": {
        "id": "kiZ3OIScTcnL"
      },
      "execution_count": 58,
      "outputs": []
    },
    {
      "cell_type": "code",
      "source": [
        "X_train, X_test, y_train, y_test = train_test_split(X, y, test_size = 0.3, random_state=42)"
      ],
      "metadata": {
        "id": "j0p8y-xIr6mO"
      },
      "execution_count": 59,
      "outputs": []
    },
    {
      "cell_type": "code",
      "source": [
        "param_grid = {\n",
        "    'n_estimators': [100, 200],\n",
        "    'max_depth': [5, 10],\n",
        "    'min_samples_split': [2, 5],\n",
        "    'min_samples_leaf': [1, 2]\n",
        "}"
      ],
      "metadata": {
        "id": "wC9I6WNCr6o_"
      },
      "execution_count": 60,
      "outputs": []
    },
    {
      "cell_type": "code",
      "source": [
        "rf = RandomForestClassifier(random_state = 42)\n",
        "grid = GridSearchCV(rf, param_grid = param_grid, cv = 5)"
      ],
      "metadata": {
        "id": "G2qE6lDMr6rB"
      },
      "execution_count": 61,
      "outputs": []
    },
    {
      "cell_type": "code",
      "source": [
        "grid.fit(X_train, y_train)"
      ],
      "metadata": {
        "colab": {
          "base_uri": "https://localhost:8080/",
          "height": 119
        },
        "id": "vcqlYfDfr6t3",
        "outputId": "c528dcfb-8119-46c9-d403-4bf76122c280"
      },
      "execution_count": 62,
      "outputs": [
        {
          "output_type": "execute_result",
          "data": {
            "text/plain": [
              "GridSearchCV(cv=5, estimator=RandomForestClassifier(random_state=42),\n",
              "             param_grid={'max_depth': [5, 10], 'min_samples_leaf': [1, 2],\n",
              "                         'min_samples_split': [2, 5],\n",
              "                         'n_estimators': [100, 200]})"
            ],
            "text/html": [
              "<style>#sk-container-id-3 {color: black;background-color: white;}#sk-container-id-3 pre{padding: 0;}#sk-container-id-3 div.sk-toggleable {background-color: white;}#sk-container-id-3 label.sk-toggleable__label {cursor: pointer;display: block;width: 100%;margin-bottom: 0;padding: 0.3em;box-sizing: border-box;text-align: center;}#sk-container-id-3 label.sk-toggleable__label-arrow:before {content: \"▸\";float: left;margin-right: 0.25em;color: #696969;}#sk-container-id-3 label.sk-toggleable__label-arrow:hover:before {color: black;}#sk-container-id-3 div.sk-estimator:hover label.sk-toggleable__label-arrow:before {color: black;}#sk-container-id-3 div.sk-toggleable__content {max-height: 0;max-width: 0;overflow: hidden;text-align: left;background-color: #f0f8ff;}#sk-container-id-3 div.sk-toggleable__content pre {margin: 0.2em;color: black;border-radius: 0.25em;background-color: #f0f8ff;}#sk-container-id-3 input.sk-toggleable__control:checked~div.sk-toggleable__content {max-height: 200px;max-width: 100%;overflow: auto;}#sk-container-id-3 input.sk-toggleable__control:checked~label.sk-toggleable__label-arrow:before {content: \"▾\";}#sk-container-id-3 div.sk-estimator input.sk-toggleable__control:checked~label.sk-toggleable__label {background-color: #d4ebff;}#sk-container-id-3 div.sk-label input.sk-toggleable__control:checked~label.sk-toggleable__label {background-color: #d4ebff;}#sk-container-id-3 input.sk-hidden--visually {border: 0;clip: rect(1px 1px 1px 1px);clip: rect(1px, 1px, 1px, 1px);height: 1px;margin: -1px;overflow: hidden;padding: 0;position: absolute;width: 1px;}#sk-container-id-3 div.sk-estimator {font-family: monospace;background-color: #f0f8ff;border: 1px dotted black;border-radius: 0.25em;box-sizing: border-box;margin-bottom: 0.5em;}#sk-container-id-3 div.sk-estimator:hover {background-color: #d4ebff;}#sk-container-id-3 div.sk-parallel-item::after {content: \"\";width: 100%;border-bottom: 1px solid gray;flex-grow: 1;}#sk-container-id-3 div.sk-label:hover label.sk-toggleable__label {background-color: #d4ebff;}#sk-container-id-3 div.sk-serial::before {content: \"\";position: absolute;border-left: 1px solid gray;box-sizing: border-box;top: 0;bottom: 0;left: 50%;z-index: 0;}#sk-container-id-3 div.sk-serial {display: flex;flex-direction: column;align-items: center;background-color: white;padding-right: 0.2em;padding-left: 0.2em;position: relative;}#sk-container-id-3 div.sk-item {position: relative;z-index: 1;}#sk-container-id-3 div.sk-parallel {display: flex;align-items: stretch;justify-content: center;background-color: white;position: relative;}#sk-container-id-3 div.sk-item::before, #sk-container-id-3 div.sk-parallel-item::before {content: \"\";position: absolute;border-left: 1px solid gray;box-sizing: border-box;top: 0;bottom: 0;left: 50%;z-index: -1;}#sk-container-id-3 div.sk-parallel-item {display: flex;flex-direction: column;z-index: 1;position: relative;background-color: white;}#sk-container-id-3 div.sk-parallel-item:first-child::after {align-self: flex-end;width: 50%;}#sk-container-id-3 div.sk-parallel-item:last-child::after {align-self: flex-start;width: 50%;}#sk-container-id-3 div.sk-parallel-item:only-child::after {width: 0;}#sk-container-id-3 div.sk-dashed-wrapped {border: 1px dashed gray;margin: 0 0.4em 0.5em 0.4em;box-sizing: border-box;padding-bottom: 0.4em;background-color: white;}#sk-container-id-3 div.sk-label label {font-family: monospace;font-weight: bold;display: inline-block;line-height: 1.2em;}#sk-container-id-3 div.sk-label-container {text-align: center;}#sk-container-id-3 div.sk-container {/* jupyter's `normalize.less` sets `[hidden] { display: none; }` but bootstrap.min.css set `[hidden] { display: none !important; }` so we also need the `!important` here to be able to override the default hidden behavior on the sphinx rendered scikit-learn.org. See: https://github.com/scikit-learn/scikit-learn/issues/21755 */display: inline-block !important;position: relative;}#sk-container-id-3 div.sk-text-repr-fallback {display: none;}</style><div id=\"sk-container-id-3\" class=\"sk-top-container\"><div class=\"sk-text-repr-fallback\"><pre>GridSearchCV(cv=5, estimator=RandomForestClassifier(random_state=42),\n",
              "             param_grid={&#x27;max_depth&#x27;: [5, 10], &#x27;min_samples_leaf&#x27;: [1, 2],\n",
              "                         &#x27;min_samples_split&#x27;: [2, 5],\n",
              "                         &#x27;n_estimators&#x27;: [100, 200]})</pre><b>In a Jupyter environment, please rerun this cell to show the HTML representation or trust the notebook. <br />On GitHub, the HTML representation is unable to render, please try loading this page with nbviewer.org.</b></div><div class=\"sk-container\" hidden><div class=\"sk-item sk-dashed-wrapped\"><div class=\"sk-label-container\"><div class=\"sk-label sk-toggleable\"><input class=\"sk-toggleable__control sk-hidden--visually\" id=\"sk-estimator-id-5\" type=\"checkbox\" ><label for=\"sk-estimator-id-5\" class=\"sk-toggleable__label sk-toggleable__label-arrow\">GridSearchCV</label><div class=\"sk-toggleable__content\"><pre>GridSearchCV(cv=5, estimator=RandomForestClassifier(random_state=42),\n",
              "             param_grid={&#x27;max_depth&#x27;: [5, 10], &#x27;min_samples_leaf&#x27;: [1, 2],\n",
              "                         &#x27;min_samples_split&#x27;: [2, 5],\n",
              "                         &#x27;n_estimators&#x27;: [100, 200]})</pre></div></div></div><div class=\"sk-parallel\"><div class=\"sk-parallel-item\"><div class=\"sk-item\"><div class=\"sk-label-container\"><div class=\"sk-label sk-toggleable\"><input class=\"sk-toggleable__control sk-hidden--visually\" id=\"sk-estimator-id-6\" type=\"checkbox\" ><label for=\"sk-estimator-id-6\" class=\"sk-toggleable__label sk-toggleable__label-arrow\">estimator: RandomForestClassifier</label><div class=\"sk-toggleable__content\"><pre>RandomForestClassifier(random_state=42)</pre></div></div></div><div class=\"sk-serial\"><div class=\"sk-item\"><div class=\"sk-estimator sk-toggleable\"><input class=\"sk-toggleable__control sk-hidden--visually\" id=\"sk-estimator-id-7\" type=\"checkbox\" ><label for=\"sk-estimator-id-7\" class=\"sk-toggleable__label sk-toggleable__label-arrow\">RandomForestClassifier</label><div class=\"sk-toggleable__content\"><pre>RandomForestClassifier(random_state=42)</pre></div></div></div></div></div></div></div></div></div></div>"
            ]
          },
          "metadata": {},
          "execution_count": 62
        }
      ]
    },
    {
      "cell_type": "code",
      "source": [
        "y_pred = grid.best_estimator_.predict_proba(X_test)[:, 1]\n",
        "auc = roc_auc_score(y_test, y_pred)\n",
        "print(auc)"
      ],
      "metadata": {
        "colab": {
          "base_uri": "https://localhost:8080/"
        },
        "id": "cjC50MoJr6v1",
        "outputId": "e4778595-b1be-4da5-d8df-707f3b8cef45"
      },
      "execution_count": 63,
      "outputs": [
        {
          "output_type": "stream",
          "name": "stdout",
          "text": [
            "0.6791869682971363\n"
          ]
        }
      ]
    },
    {
      "cell_type": "code",
      "source": [],
      "metadata": {
        "id": "Ahw7tfk2sjw3"
      },
      "execution_count": null,
      "outputs": []
    },
    {
      "cell_type": "code",
      "source": [],
      "metadata": {
        "id": "i3iNTMq8sjzd"
      },
      "execution_count": null,
      "outputs": []
    },
    {
      "cell_type": "markdown",
      "source": [
        "Draw prediction"
      ],
      "metadata": {
        "id": "igUuHfZFm9vs"
      }
    },
    {
      "cell_type": "code",
      "source": [
        "draw = data[['odds_home_team_win','odds_away_team_win','odds_draw',\"Pos_diff\",'odds_diff','Win_draw_diff', 'home_team_pos_str', 'away_team_pos_str', 'home_team_shot_median', 'home_team_shot_on_target_median', 'home_team_corner_median','away_team_goal_median',\n",
        " 'away_team_shot_median','away_team_shot_on_target_median','away_team_corner_median','away_team_red_card_roll1_sum','shothome_ratio',\n",
        " 'shotaway_ratio',\n",
        " 'shot_on_targethome_ratio',\n",
        " 'shot_on_targetaway_ratio','cornerhome_ratio','corneraway_ratio', \"draw_flag\"]]"
      ],
      "metadata": {
        "id": "yvKfPd2hsj1l"
      },
      "execution_count": 68,
      "outputs": []
    },
    {
      "cell_type": "code",
      "source": [
        "for item in draw.columns:\n",
        "  maxi = draw[item].max()\n",
        "  draw[item] = draw[item].replace([np.inf, -np.inf], -200000)"
      ],
      "metadata": {
        "colab": {
          "base_uri": "https://localhost:8080/"
        },
        "id": "UV0l7bDanONg",
        "outputId": "5524cb43-d1fc-4de8-a29c-3d71f27d8a5d"
      },
      "execution_count": 69,
      "outputs": [
        {
          "output_type": "stream",
          "name": "stderr",
          "text": [
            "<ipython-input-69-7fa8474eb9e2>:3: SettingWithCopyWarning: \n",
            "A value is trying to be set on a copy of a slice from a DataFrame.\n",
            "Try using .loc[row_indexer,col_indexer] = value instead\n",
            "\n",
            "See the caveats in the documentation: https://pandas.pydata.org/pandas-docs/stable/user_guide/indexing.html#returning-a-view-versus-a-copy\n",
            "  draw[item] = draw[item].replace([np.inf, -np.inf], -200000)\n"
          ]
        }
      ]
    },
    {
      "cell_type": "code",
      "source": [
        "for item in draw.columns:\n",
        "  val = draw[item].apply(np.isinf).sum()\n",
        "  maxi = draw[item].max()\n",
        "  draw[item] = draw[item].replace(-200000, maxi)"
      ],
      "metadata": {
        "colab": {
          "base_uri": "https://localhost:8080/"
        },
        "id": "PxsWxCZ6nTXP",
        "outputId": "4231dce0-393f-4082-d29b-0e662135422e"
      },
      "execution_count": 70,
      "outputs": [
        {
          "output_type": "stream",
          "name": "stderr",
          "text": [
            "<ipython-input-70-f719730546b2>:4: SettingWithCopyWarning: \n",
            "A value is trying to be set on a copy of a slice from a DataFrame.\n",
            "Try using .loc[row_indexer,col_indexer] = value instead\n",
            "\n",
            "See the caveats in the documentation: https://pandas.pydata.org/pandas-docs/stable/user_guide/indexing.html#returning-a-view-versus-a-copy\n",
            "  draw[item] = draw[item].replace(-200000, maxi)\n"
          ]
        }
      ]
    },
    {
      "cell_type": "code",
      "source": [
        "draw = draw.fillna(0)"
      ],
      "metadata": {
        "id": "n_sc9cRXnZjX"
      },
      "execution_count": 71,
      "outputs": []
    },
    {
      "cell_type": "code",
      "source": [
        "y = draw[\"draw_flag\"]\n",
        "X = draw.drop(\"draw_flag\", axis = 1)"
      ],
      "metadata": {
        "id": "M7Rmg_LDnczG"
      },
      "execution_count": 73,
      "outputs": []
    },
    {
      "cell_type": "code",
      "source": [
        "X_train, X_test, y_train, y_test = train_test_split(X, y, test_size = 0.3, random_state=42)"
      ],
      "metadata": {
        "id": "1mkwmQUhnk91"
      },
      "execution_count": 74,
      "outputs": []
    },
    {
      "cell_type": "code",
      "source": [
        "rf = RandomForestClassifier(random_state = 42)\n",
        "grid = GridSearchCV(rf, param_grid = param_grid, cv = 5)"
      ],
      "metadata": {
        "id": "w5-T_iWcno80"
      },
      "execution_count": 75,
      "outputs": []
    },
    {
      "cell_type": "code",
      "source": [
        "grid.fit(X_train, y_train)"
      ],
      "metadata": {
        "colab": {
          "base_uri": "https://localhost:8080/",
          "height": 119
        },
        "id": "hL0-2csfnr4E",
        "outputId": "34102046-da5d-4fd7-c4df-714dfbe092e5"
      },
      "execution_count": 76,
      "outputs": [
        {
          "output_type": "execute_result",
          "data": {
            "text/plain": [
              "GridSearchCV(cv=5, estimator=RandomForestClassifier(random_state=42),\n",
              "             param_grid={'max_depth': [5, 10], 'min_samples_leaf': [1, 2],\n",
              "                         'min_samples_split': [2, 5],\n",
              "                         'n_estimators': [100, 200]})"
            ],
            "text/html": [
              "<style>#sk-container-id-4 {color: black;background-color: white;}#sk-container-id-4 pre{padding: 0;}#sk-container-id-4 div.sk-toggleable {background-color: white;}#sk-container-id-4 label.sk-toggleable__label {cursor: pointer;display: block;width: 100%;margin-bottom: 0;padding: 0.3em;box-sizing: border-box;text-align: center;}#sk-container-id-4 label.sk-toggleable__label-arrow:before {content: \"▸\";float: left;margin-right: 0.25em;color: #696969;}#sk-container-id-4 label.sk-toggleable__label-arrow:hover:before {color: black;}#sk-container-id-4 div.sk-estimator:hover label.sk-toggleable__label-arrow:before {color: black;}#sk-container-id-4 div.sk-toggleable__content {max-height: 0;max-width: 0;overflow: hidden;text-align: left;background-color: #f0f8ff;}#sk-container-id-4 div.sk-toggleable__content pre {margin: 0.2em;color: black;border-radius: 0.25em;background-color: #f0f8ff;}#sk-container-id-4 input.sk-toggleable__control:checked~div.sk-toggleable__content {max-height: 200px;max-width: 100%;overflow: auto;}#sk-container-id-4 input.sk-toggleable__control:checked~label.sk-toggleable__label-arrow:before {content: \"▾\";}#sk-container-id-4 div.sk-estimator input.sk-toggleable__control:checked~label.sk-toggleable__label {background-color: #d4ebff;}#sk-container-id-4 div.sk-label input.sk-toggleable__control:checked~label.sk-toggleable__label {background-color: #d4ebff;}#sk-container-id-4 input.sk-hidden--visually {border: 0;clip: rect(1px 1px 1px 1px);clip: rect(1px, 1px, 1px, 1px);height: 1px;margin: -1px;overflow: hidden;padding: 0;position: absolute;width: 1px;}#sk-container-id-4 div.sk-estimator {font-family: monospace;background-color: #f0f8ff;border: 1px dotted black;border-radius: 0.25em;box-sizing: border-box;margin-bottom: 0.5em;}#sk-container-id-4 div.sk-estimator:hover {background-color: #d4ebff;}#sk-container-id-4 div.sk-parallel-item::after {content: \"\";width: 100%;border-bottom: 1px solid gray;flex-grow: 1;}#sk-container-id-4 div.sk-label:hover label.sk-toggleable__label {background-color: #d4ebff;}#sk-container-id-4 div.sk-serial::before {content: \"\";position: absolute;border-left: 1px solid gray;box-sizing: border-box;top: 0;bottom: 0;left: 50%;z-index: 0;}#sk-container-id-4 div.sk-serial {display: flex;flex-direction: column;align-items: center;background-color: white;padding-right: 0.2em;padding-left: 0.2em;position: relative;}#sk-container-id-4 div.sk-item {position: relative;z-index: 1;}#sk-container-id-4 div.sk-parallel {display: flex;align-items: stretch;justify-content: center;background-color: white;position: relative;}#sk-container-id-4 div.sk-item::before, #sk-container-id-4 div.sk-parallel-item::before {content: \"\";position: absolute;border-left: 1px solid gray;box-sizing: border-box;top: 0;bottom: 0;left: 50%;z-index: -1;}#sk-container-id-4 div.sk-parallel-item {display: flex;flex-direction: column;z-index: 1;position: relative;background-color: white;}#sk-container-id-4 div.sk-parallel-item:first-child::after {align-self: flex-end;width: 50%;}#sk-container-id-4 div.sk-parallel-item:last-child::after {align-self: flex-start;width: 50%;}#sk-container-id-4 div.sk-parallel-item:only-child::after {width: 0;}#sk-container-id-4 div.sk-dashed-wrapped {border: 1px dashed gray;margin: 0 0.4em 0.5em 0.4em;box-sizing: border-box;padding-bottom: 0.4em;background-color: white;}#sk-container-id-4 div.sk-label label {font-family: monospace;font-weight: bold;display: inline-block;line-height: 1.2em;}#sk-container-id-4 div.sk-label-container {text-align: center;}#sk-container-id-4 div.sk-container {/* jupyter's `normalize.less` sets `[hidden] { display: none; }` but bootstrap.min.css set `[hidden] { display: none !important; }` so we also need the `!important` here to be able to override the default hidden behavior on the sphinx rendered scikit-learn.org. See: https://github.com/scikit-learn/scikit-learn/issues/21755 */display: inline-block !important;position: relative;}#sk-container-id-4 div.sk-text-repr-fallback {display: none;}</style><div id=\"sk-container-id-4\" class=\"sk-top-container\"><div class=\"sk-text-repr-fallback\"><pre>GridSearchCV(cv=5, estimator=RandomForestClassifier(random_state=42),\n",
              "             param_grid={&#x27;max_depth&#x27;: [5, 10], &#x27;min_samples_leaf&#x27;: [1, 2],\n",
              "                         &#x27;min_samples_split&#x27;: [2, 5],\n",
              "                         &#x27;n_estimators&#x27;: [100, 200]})</pre><b>In a Jupyter environment, please rerun this cell to show the HTML representation or trust the notebook. <br />On GitHub, the HTML representation is unable to render, please try loading this page with nbviewer.org.</b></div><div class=\"sk-container\" hidden><div class=\"sk-item sk-dashed-wrapped\"><div class=\"sk-label-container\"><div class=\"sk-label sk-toggleable\"><input class=\"sk-toggleable__control sk-hidden--visually\" id=\"sk-estimator-id-8\" type=\"checkbox\" ><label for=\"sk-estimator-id-8\" class=\"sk-toggleable__label sk-toggleable__label-arrow\">GridSearchCV</label><div class=\"sk-toggleable__content\"><pre>GridSearchCV(cv=5, estimator=RandomForestClassifier(random_state=42),\n",
              "             param_grid={&#x27;max_depth&#x27;: [5, 10], &#x27;min_samples_leaf&#x27;: [1, 2],\n",
              "                         &#x27;min_samples_split&#x27;: [2, 5],\n",
              "                         &#x27;n_estimators&#x27;: [100, 200]})</pre></div></div></div><div class=\"sk-parallel\"><div class=\"sk-parallel-item\"><div class=\"sk-item\"><div class=\"sk-label-container\"><div class=\"sk-label sk-toggleable\"><input class=\"sk-toggleable__control sk-hidden--visually\" id=\"sk-estimator-id-9\" type=\"checkbox\" ><label for=\"sk-estimator-id-9\" class=\"sk-toggleable__label sk-toggleable__label-arrow\">estimator: RandomForestClassifier</label><div class=\"sk-toggleable__content\"><pre>RandomForestClassifier(random_state=42)</pre></div></div></div><div class=\"sk-serial\"><div class=\"sk-item\"><div class=\"sk-estimator sk-toggleable\"><input class=\"sk-toggleable__control sk-hidden--visually\" id=\"sk-estimator-id-10\" type=\"checkbox\" ><label for=\"sk-estimator-id-10\" class=\"sk-toggleable__label sk-toggleable__label-arrow\">RandomForestClassifier</label><div class=\"sk-toggleable__content\"><pre>RandomForestClassifier(random_state=42)</pre></div></div></div></div></div></div></div></div></div></div>"
            ]
          },
          "metadata": {},
          "execution_count": 76
        }
      ]
    },
    {
      "cell_type": "code",
      "source": [
        "y_pred = grid.best_estimator_.predict_proba(X_test)[:, 1]\n",
        "auc = roc_auc_score(y_test, y_pred)\n",
        "print(auc)"
      ],
      "metadata": {
        "colab": {
          "base_uri": "https://localhost:8080/"
        },
        "id": "-mC8ueHMnt08",
        "outputId": "8d5fce0c-0b79-45aa-9a96-66041608a9cc"
      },
      "execution_count": 77,
      "outputs": [
        {
          "output_type": "stream",
          "name": "stdout",
          "text": [
            "0.564657942520559\n"
          ]
        }
      ]
    },
    {
      "cell_type": "code",
      "source": [],
      "metadata": {
        "id": "8UiOPL1Nphdp"
      },
      "execution_count": null,
      "outputs": []
    }
  ]
}