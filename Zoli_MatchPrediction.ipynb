{
  "nbformat": 4,
  "nbformat_minor": 0,
  "metadata": {
    "colab": {
      "provenance": [],
      "authorship_tag": "ABX9TyP6YO3Un+AwJg5i0b1yWZZK",
      "include_colab_link": true
    },
    "kernelspec": {
      "name": "python3",
      "display_name": "Python 3"
    },
    "language_info": {
      "name": "python"
    }
  },
  "cells": [
    {
      "cell_type": "markdown",
      "metadata": {
        "id": "view-in-github",
        "colab_type": "text"
      },
      "source": [
        "<a href=\"https://colab.research.google.com/github/relew/matchPrediction/blob/master/Zoli_MatchPrediction.ipynb\" target=\"_parent\"><img src=\"https://colab.research.google.com/assets/colab-badge.svg\" alt=\"Open In Colab\"/></a>"
      ]
    },
    {
      "cell_type": "code",
      "execution_count": 89,
      "metadata": {
        "id": "k1WeR3xPgYIT"
      },
      "outputs": [],
      "source": [
        "import pandas as pd\n",
        "import seaborn as sns\n",
        "import matplotlib.pyplot as plt\n",
        "import numpy as np\n",
        "from sklearn.decomposition import PCA"
      ]
    },
    {
      "cell_type": "code",
      "source": [
        "url = 'http://dataevents.hu/202303/filedataevents/competition_table.xlsx'"
      ],
      "metadata": {
        "id": "OBc-ut-_gecG"
      },
      "execution_count": 2,
      "outputs": []
    },
    {
      "cell_type": "code",
      "source": [
        "data = pd.read_excel(url)"
      ],
      "metadata": {
        "id": "apS-cNmHggmV"
      },
      "execution_count": 3,
      "outputs": []
    },
    {
      "cell_type": "code",
      "source": [
        "data.head()"
      ],
      "metadata": {
        "colab": {
          "base_uri": "https://localhost:8080/",
          "height": 386
        },
        "id": "FVPdTVBmglMc",
        "outputId": "f249313e-f44e-4dca-c3b8-252783d507b3"
      },
      "execution_count": 4,
      "outputs": [
        {
          "output_type": "execute_result",
          "data": {
            "text/plain": [
              "   match_id     season   div  odds_home_team_win  odds_draw  \\\n",
              "0         0  2008-2009  div0                1.73        3.5   \n",
              "1         1  2008-2009  div0                1.25        5.5   \n",
              "2         2  2008-2009  div0                1.57        3.8   \n",
              "3         3  2008-2009  div0                1.17        7.0   \n",
              "4         4  2008-2009  div0                1.17        7.0   \n",
              "\n",
              "   odds_away_team_win  home_team_match_nr  home_team_goal_roll1_sum  \\\n",
              "0                5.00                   5                         3   \n",
              "1               12.00                   7                         0   \n",
              "2                5.75                   9                         1   \n",
              "3               15.00                  11                         2   \n",
              "4               15.00                  14                         2   \n",
              "\n",
              "   home_team_goal_roll2_sum  home_team_goal_roll3_sum  ...  \\\n",
              "0                         7                         8  ...   \n",
              "1                         2                         5  ...   \n",
              "2                         4                         4  ...   \n",
              "3                         6                         7  ...   \n",
              "4                         4                         7  ...   \n",
              "\n",
              "   odds_away_team_draw_roll4_mean  odds_away_team_defeat_roll1_mean  \\\n",
              "0                           3.825                             11.00   \n",
              "1                           3.582                              2.10   \n",
              "2                           3.525                              6.75   \n",
              "3                           3.975                              4.20   \n",
              "4                           3.925                              3.10   \n",
              "\n",
              "   odds_away_team_defeat_roll2_mean  odds_away_team_defeat_roll3_mean  \\\n",
              "0                             7.665                             6.377   \n",
              "1                             2.250                             2.833   \n",
              "2                             4.275                             3.883   \n",
              "3                             2.750                             2.333   \n",
              "4                             2.175                             2.050   \n",
              "\n",
              "   odds_away_team_defeat_roll4_mean  away_team_point_mean  \\\n",
              "0                             5.908                 0.500   \n",
              "1                             2.475                 0.333   \n",
              "2                             3.638                 0.750   \n",
              "3                             2.550                 0.600   \n",
              "4                             2.015                 0.833   \n",
              "\n",
              "   away_team_expected_point_mean  home_win_flag  draw_flag  away_win_flag  \n",
              "0                            3.0              0          0              1  \n",
              "1                            0.0              0          1              0  \n",
              "2                            1.5              1          0              0  \n",
              "3                            0.0              1          0              0  \n",
              "4                            0.0              1          0              0  \n",
              "\n",
              "[5 rows x 167 columns]"
            ],
            "text/html": [
              "\n",
              "  <div id=\"df-3a96085b-ed27-4a1e-a7b0-2582790e1b8f\">\n",
              "    <div class=\"colab-df-container\">\n",
              "      <div>\n",
              "<style scoped>\n",
              "    .dataframe tbody tr th:only-of-type {\n",
              "        vertical-align: middle;\n",
              "    }\n",
              "\n",
              "    .dataframe tbody tr th {\n",
              "        vertical-align: top;\n",
              "    }\n",
              "\n",
              "    .dataframe thead th {\n",
              "        text-align: right;\n",
              "    }\n",
              "</style>\n",
              "<table border=\"1\" class=\"dataframe\">\n",
              "  <thead>\n",
              "    <tr style=\"text-align: right;\">\n",
              "      <th></th>\n",
              "      <th>match_id</th>\n",
              "      <th>season</th>\n",
              "      <th>div</th>\n",
              "      <th>odds_home_team_win</th>\n",
              "      <th>odds_draw</th>\n",
              "      <th>odds_away_team_win</th>\n",
              "      <th>home_team_match_nr</th>\n",
              "      <th>home_team_goal_roll1_sum</th>\n",
              "      <th>home_team_goal_roll2_sum</th>\n",
              "      <th>home_team_goal_roll3_sum</th>\n",
              "      <th>...</th>\n",
              "      <th>odds_away_team_draw_roll4_mean</th>\n",
              "      <th>odds_away_team_defeat_roll1_mean</th>\n",
              "      <th>odds_away_team_defeat_roll2_mean</th>\n",
              "      <th>odds_away_team_defeat_roll3_mean</th>\n",
              "      <th>odds_away_team_defeat_roll4_mean</th>\n",
              "      <th>away_team_point_mean</th>\n",
              "      <th>away_team_expected_point_mean</th>\n",
              "      <th>home_win_flag</th>\n",
              "      <th>draw_flag</th>\n",
              "      <th>away_win_flag</th>\n",
              "    </tr>\n",
              "  </thead>\n",
              "  <tbody>\n",
              "    <tr>\n",
              "      <th>0</th>\n",
              "      <td>0</td>\n",
              "      <td>2008-2009</td>\n",
              "      <td>div0</td>\n",
              "      <td>1.73</td>\n",
              "      <td>3.5</td>\n",
              "      <td>5.00</td>\n",
              "      <td>5</td>\n",
              "      <td>3</td>\n",
              "      <td>7</td>\n",
              "      <td>8</td>\n",
              "      <td>...</td>\n",
              "      <td>3.825</td>\n",
              "      <td>11.00</td>\n",
              "      <td>7.665</td>\n",
              "      <td>6.377</td>\n",
              "      <td>5.908</td>\n",
              "      <td>0.500</td>\n",
              "      <td>3.0</td>\n",
              "      <td>0</td>\n",
              "      <td>0</td>\n",
              "      <td>1</td>\n",
              "    </tr>\n",
              "    <tr>\n",
              "      <th>1</th>\n",
              "      <td>1</td>\n",
              "      <td>2008-2009</td>\n",
              "      <td>div0</td>\n",
              "      <td>1.25</td>\n",
              "      <td>5.5</td>\n",
              "      <td>12.00</td>\n",
              "      <td>7</td>\n",
              "      <td>0</td>\n",
              "      <td>2</td>\n",
              "      <td>5</td>\n",
              "      <td>...</td>\n",
              "      <td>3.582</td>\n",
              "      <td>2.10</td>\n",
              "      <td>2.250</td>\n",
              "      <td>2.833</td>\n",
              "      <td>2.475</td>\n",
              "      <td>0.333</td>\n",
              "      <td>0.0</td>\n",
              "      <td>0</td>\n",
              "      <td>1</td>\n",
              "      <td>0</td>\n",
              "    </tr>\n",
              "    <tr>\n",
              "      <th>2</th>\n",
              "      <td>2</td>\n",
              "      <td>2008-2009</td>\n",
              "      <td>div0</td>\n",
              "      <td>1.57</td>\n",
              "      <td>3.8</td>\n",
              "      <td>5.75</td>\n",
              "      <td>9</td>\n",
              "      <td>1</td>\n",
              "      <td>4</td>\n",
              "      <td>4</td>\n",
              "      <td>...</td>\n",
              "      <td>3.525</td>\n",
              "      <td>6.75</td>\n",
              "      <td>4.275</td>\n",
              "      <td>3.883</td>\n",
              "      <td>3.638</td>\n",
              "      <td>0.750</td>\n",
              "      <td>1.5</td>\n",
              "      <td>1</td>\n",
              "      <td>0</td>\n",
              "      <td>0</td>\n",
              "    </tr>\n",
              "    <tr>\n",
              "      <th>3</th>\n",
              "      <td>3</td>\n",
              "      <td>2008-2009</td>\n",
              "      <td>div0</td>\n",
              "      <td>1.17</td>\n",
              "      <td>7.0</td>\n",
              "      <td>15.00</td>\n",
              "      <td>11</td>\n",
              "      <td>2</td>\n",
              "      <td>6</td>\n",
              "      <td>7</td>\n",
              "      <td>...</td>\n",
              "      <td>3.975</td>\n",
              "      <td>4.20</td>\n",
              "      <td>2.750</td>\n",
              "      <td>2.333</td>\n",
              "      <td>2.550</td>\n",
              "      <td>0.600</td>\n",
              "      <td>0.0</td>\n",
              "      <td>1</td>\n",
              "      <td>0</td>\n",
              "      <td>0</td>\n",
              "    </tr>\n",
              "    <tr>\n",
              "      <th>4</th>\n",
              "      <td>4</td>\n",
              "      <td>2008-2009</td>\n",
              "      <td>div0</td>\n",
              "      <td>1.17</td>\n",
              "      <td>7.0</td>\n",
              "      <td>15.00</td>\n",
              "      <td>14</td>\n",
              "      <td>2</td>\n",
              "      <td>4</td>\n",
              "      <td>7</td>\n",
              "      <td>...</td>\n",
              "      <td>3.925</td>\n",
              "      <td>3.10</td>\n",
              "      <td>2.175</td>\n",
              "      <td>2.050</td>\n",
              "      <td>2.015</td>\n",
              "      <td>0.833</td>\n",
              "      <td>0.0</td>\n",
              "      <td>1</td>\n",
              "      <td>0</td>\n",
              "      <td>0</td>\n",
              "    </tr>\n",
              "  </tbody>\n",
              "</table>\n",
              "<p>5 rows × 167 columns</p>\n",
              "</div>\n",
              "      <button class=\"colab-df-convert\" onclick=\"convertToInteractive('df-3a96085b-ed27-4a1e-a7b0-2582790e1b8f')\"\n",
              "              title=\"Convert this dataframe to an interactive table.\"\n",
              "              style=\"display:none;\">\n",
              "        \n",
              "  <svg xmlns=\"http://www.w3.org/2000/svg\" height=\"24px\"viewBox=\"0 0 24 24\"\n",
              "       width=\"24px\">\n",
              "    <path d=\"M0 0h24v24H0V0z\" fill=\"none\"/>\n",
              "    <path d=\"M18.56 5.44l.94 2.06.94-2.06 2.06-.94-2.06-.94-.94-2.06-.94 2.06-2.06.94zm-11 1L8.5 8.5l.94-2.06 2.06-.94-2.06-.94L8.5 2.5l-.94 2.06-2.06.94zm10 10l.94 2.06.94-2.06 2.06-.94-2.06-.94-.94-2.06-.94 2.06-2.06.94z\"/><path d=\"M17.41 7.96l-1.37-1.37c-.4-.4-.92-.59-1.43-.59-.52 0-1.04.2-1.43.59L10.3 9.45l-7.72 7.72c-.78.78-.78 2.05 0 2.83L4 21.41c.39.39.9.59 1.41.59.51 0 1.02-.2 1.41-.59l7.78-7.78 2.81-2.81c.8-.78.8-2.07 0-2.86zM5.41 20L4 18.59l7.72-7.72 1.47 1.35L5.41 20z\"/>\n",
              "  </svg>\n",
              "      </button>\n",
              "      \n",
              "  <style>\n",
              "    .colab-df-container {\n",
              "      display:flex;\n",
              "      flex-wrap:wrap;\n",
              "      gap: 12px;\n",
              "    }\n",
              "\n",
              "    .colab-df-convert {\n",
              "      background-color: #E8F0FE;\n",
              "      border: none;\n",
              "      border-radius: 50%;\n",
              "      cursor: pointer;\n",
              "      display: none;\n",
              "      fill: #1967D2;\n",
              "      height: 32px;\n",
              "      padding: 0 0 0 0;\n",
              "      width: 32px;\n",
              "    }\n",
              "\n",
              "    .colab-df-convert:hover {\n",
              "      background-color: #E2EBFA;\n",
              "      box-shadow: 0px 1px 2px rgba(60, 64, 67, 0.3), 0px 1px 3px 1px rgba(60, 64, 67, 0.15);\n",
              "      fill: #174EA6;\n",
              "    }\n",
              "\n",
              "    [theme=dark] .colab-df-convert {\n",
              "      background-color: #3B4455;\n",
              "      fill: #D2E3FC;\n",
              "    }\n",
              "\n",
              "    [theme=dark] .colab-df-convert:hover {\n",
              "      background-color: #434B5C;\n",
              "      box-shadow: 0px 1px 3px 1px rgba(0, 0, 0, 0.15);\n",
              "      filter: drop-shadow(0px 1px 2px rgba(0, 0, 0, 0.3));\n",
              "      fill: #FFFFFF;\n",
              "    }\n",
              "  </style>\n",
              "\n",
              "      <script>\n",
              "        const buttonEl =\n",
              "          document.querySelector('#df-3a96085b-ed27-4a1e-a7b0-2582790e1b8f button.colab-df-convert');\n",
              "        buttonEl.style.display =\n",
              "          google.colab.kernel.accessAllowed ? 'block' : 'none';\n",
              "\n",
              "        async function convertToInteractive(key) {\n",
              "          const element = document.querySelector('#df-3a96085b-ed27-4a1e-a7b0-2582790e1b8f');\n",
              "          const dataTable =\n",
              "            await google.colab.kernel.invokeFunction('convertToInteractive',\n",
              "                                                     [key], {});\n",
              "          if (!dataTable) return;\n",
              "\n",
              "          const docLinkHtml = 'Like what you see? Visit the ' +\n",
              "            '<a target=\"_blank\" href=https://colab.research.google.com/notebooks/data_table.ipynb>data table notebook</a>'\n",
              "            + ' to learn more about interactive tables.';\n",
              "          element.innerHTML = '';\n",
              "          dataTable['output_type'] = 'display_data';\n",
              "          await google.colab.output.renderOutput(dataTable, element);\n",
              "          const docLink = document.createElement('div');\n",
              "          docLink.innerHTML = docLinkHtml;\n",
              "          element.appendChild(docLink);\n",
              "        }\n",
              "      </script>\n",
              "    </div>\n",
              "  </div>\n",
              "  "
            ]
          },
          "metadata": {},
          "execution_count": 4
        }
      ]
    },
    {
      "cell_type": "code",
      "source": [
        "data.shape"
      ],
      "metadata": {
        "colab": {
          "base_uri": "https://localhost:8080/"
        },
        "id": "XaaMqy1Thyrw",
        "outputId": "0a01633f-a1db-4bd9-b86f-486996819e61"
      },
      "execution_count": 5,
      "outputs": [
        {
          "output_type": "execute_result",
          "data": {
            "text/plain": [
              "(64166, 167)"
            ]
          },
          "metadata": {},
          "execution_count": 5
        }
      ]
    },
    {
      "cell_type": "code",
      "source": [
        "data.groupby(\"div\").home_team_match_nr.describe()"
      ],
      "metadata": {
        "colab": {
          "base_uri": "https://localhost:8080/",
          "height": 771
        },
        "id": "o9AE4jFxu8HC",
        "outputId": "a169139c-2d23-4aa7-bb7f-ebb087eee025"
      },
      "execution_count": 6,
      "outputs": [
        {
          "output_type": "execute_result",
          "data": {
            "text/plain": [
              "        count       mean        std  min   25%   50%   75%   max\n",
              "div                                                             \n",
              "div0   3779.0  19.503308   8.655067  5.0  12.0  20.0  27.0  34.0\n",
              "div1   4753.0  21.526404   9.800675  5.0  13.0  22.0  30.0  38.0\n",
              "div10  1348.0  19.520030   8.645817  5.0  12.0  20.0  27.0  34.0\n",
              "div11  1723.0  21.758561   9.997838  5.0  13.0  22.0  30.0  42.0\n",
              "div12  1270.0  18.934646   8.438512  5.0  12.0  19.0  26.0  34.0\n",
              "div13  1349.0  19.509266   8.653190  5.0  12.0  20.0  27.0  34.0\n",
              "div14   710.0  19.100000   8.718275  5.0  12.0  19.0  26.0  36.0\n",
              "div15   686.0  18.874636   8.810016  5.0  11.0  18.0  26.0  36.0\n",
              "div16   681.0  18.885463   8.798652  5.0  11.0  18.0  26.0  36.0\n",
              "div17  2046.0  23.350929  10.962529  5.0  14.0  23.0  33.0  42.0\n",
              "div18  1515.0  20.670627   9.448835  5.0  13.0  21.0  29.0  40.0\n",
              "div19  1254.0  20.553429   9.522097  5.0  12.0  20.0  28.0  38.0\n",
              "div2   7051.0  25.501347  12.112210  5.0  15.0  25.0  36.0  46.0\n",
              "div20   738.0  18.810298   8.376928  5.0  12.0  19.0  26.0  34.0\n",
              "div21   630.0  19.692063   8.741133  5.0  12.0  20.0  27.0  36.0\n",
              "div3   6896.0  25.242749  12.026907  5.0  15.0  25.0  35.0  46.0\n",
              "div4   6922.0  25.249639  12.022703  5.0  15.0  25.0  36.0  46.0\n",
              "div5   3881.0  25.077300  12.007738  5.0  15.0  25.0  35.0  46.0\n",
              "div6   4649.0  21.235750   9.739415  5.0  13.0  21.0  30.0  38.0\n",
              "div7   4739.0  21.495885   9.796049  5.0  13.0  21.0  30.0  38.0\n",
              "div8   2795.0  21.346333   9.704082  5.0  13.0  21.0  30.0  38.0\n",
              "div9   4751.0  21.528310   9.796798  5.0  13.0  22.0  30.0  38.0"
            ],
            "text/html": [
              "\n",
              "  <div id=\"df-1276f8c5-da76-443c-aadb-570fed3736d8\">\n",
              "    <div class=\"colab-df-container\">\n",
              "      <div>\n",
              "<style scoped>\n",
              "    .dataframe tbody tr th:only-of-type {\n",
              "        vertical-align: middle;\n",
              "    }\n",
              "\n",
              "    .dataframe tbody tr th {\n",
              "        vertical-align: top;\n",
              "    }\n",
              "\n",
              "    .dataframe thead th {\n",
              "        text-align: right;\n",
              "    }\n",
              "</style>\n",
              "<table border=\"1\" class=\"dataframe\">\n",
              "  <thead>\n",
              "    <tr style=\"text-align: right;\">\n",
              "      <th></th>\n",
              "      <th>count</th>\n",
              "      <th>mean</th>\n",
              "      <th>std</th>\n",
              "      <th>min</th>\n",
              "      <th>25%</th>\n",
              "      <th>50%</th>\n",
              "      <th>75%</th>\n",
              "      <th>max</th>\n",
              "    </tr>\n",
              "    <tr>\n",
              "      <th>div</th>\n",
              "      <th></th>\n",
              "      <th></th>\n",
              "      <th></th>\n",
              "      <th></th>\n",
              "      <th></th>\n",
              "      <th></th>\n",
              "      <th></th>\n",
              "      <th></th>\n",
              "    </tr>\n",
              "  </thead>\n",
              "  <tbody>\n",
              "    <tr>\n",
              "      <th>div0</th>\n",
              "      <td>3779.0</td>\n",
              "      <td>19.503308</td>\n",
              "      <td>8.655067</td>\n",
              "      <td>5.0</td>\n",
              "      <td>12.0</td>\n",
              "      <td>20.0</td>\n",
              "      <td>27.0</td>\n",
              "      <td>34.0</td>\n",
              "    </tr>\n",
              "    <tr>\n",
              "      <th>div1</th>\n",
              "      <td>4753.0</td>\n",
              "      <td>21.526404</td>\n",
              "      <td>9.800675</td>\n",
              "      <td>5.0</td>\n",
              "      <td>13.0</td>\n",
              "      <td>22.0</td>\n",
              "      <td>30.0</td>\n",
              "      <td>38.0</td>\n",
              "    </tr>\n",
              "    <tr>\n",
              "      <th>div10</th>\n",
              "      <td>1348.0</td>\n",
              "      <td>19.520030</td>\n",
              "      <td>8.645817</td>\n",
              "      <td>5.0</td>\n",
              "      <td>12.0</td>\n",
              "      <td>20.0</td>\n",
              "      <td>27.0</td>\n",
              "      <td>34.0</td>\n",
              "    </tr>\n",
              "    <tr>\n",
              "      <th>div11</th>\n",
              "      <td>1723.0</td>\n",
              "      <td>21.758561</td>\n",
              "      <td>9.997838</td>\n",
              "      <td>5.0</td>\n",
              "      <td>13.0</td>\n",
              "      <td>22.0</td>\n",
              "      <td>30.0</td>\n",
              "      <td>42.0</td>\n",
              "    </tr>\n",
              "    <tr>\n",
              "      <th>div12</th>\n",
              "      <td>1270.0</td>\n",
              "      <td>18.934646</td>\n",
              "      <td>8.438512</td>\n",
              "      <td>5.0</td>\n",
              "      <td>12.0</td>\n",
              "      <td>19.0</td>\n",
              "      <td>26.0</td>\n",
              "      <td>34.0</td>\n",
              "    </tr>\n",
              "    <tr>\n",
              "      <th>div13</th>\n",
              "      <td>1349.0</td>\n",
              "      <td>19.509266</td>\n",
              "      <td>8.653190</td>\n",
              "      <td>5.0</td>\n",
              "      <td>12.0</td>\n",
              "      <td>20.0</td>\n",
              "      <td>27.0</td>\n",
              "      <td>34.0</td>\n",
              "    </tr>\n",
              "    <tr>\n",
              "      <th>div14</th>\n",
              "      <td>710.0</td>\n",
              "      <td>19.100000</td>\n",
              "      <td>8.718275</td>\n",
              "      <td>5.0</td>\n",
              "      <td>12.0</td>\n",
              "      <td>19.0</td>\n",
              "      <td>26.0</td>\n",
              "      <td>36.0</td>\n",
              "    </tr>\n",
              "    <tr>\n",
              "      <th>div15</th>\n",
              "      <td>686.0</td>\n",
              "      <td>18.874636</td>\n",
              "      <td>8.810016</td>\n",
              "      <td>5.0</td>\n",
              "      <td>11.0</td>\n",
              "      <td>18.0</td>\n",
              "      <td>26.0</td>\n",
              "      <td>36.0</td>\n",
              "    </tr>\n",
              "    <tr>\n",
              "      <th>div16</th>\n",
              "      <td>681.0</td>\n",
              "      <td>18.885463</td>\n",
              "      <td>8.798652</td>\n",
              "      <td>5.0</td>\n",
              "      <td>11.0</td>\n",
              "      <td>18.0</td>\n",
              "      <td>26.0</td>\n",
              "      <td>36.0</td>\n",
              "    </tr>\n",
              "    <tr>\n",
              "      <th>div17</th>\n",
              "      <td>2046.0</td>\n",
              "      <td>23.350929</td>\n",
              "      <td>10.962529</td>\n",
              "      <td>5.0</td>\n",
              "      <td>14.0</td>\n",
              "      <td>23.0</td>\n",
              "      <td>33.0</td>\n",
              "      <td>42.0</td>\n",
              "    </tr>\n",
              "    <tr>\n",
              "      <th>div18</th>\n",
              "      <td>1515.0</td>\n",
              "      <td>20.670627</td>\n",
              "      <td>9.448835</td>\n",
              "      <td>5.0</td>\n",
              "      <td>13.0</td>\n",
              "      <td>21.0</td>\n",
              "      <td>29.0</td>\n",
              "      <td>40.0</td>\n",
              "    </tr>\n",
              "    <tr>\n",
              "      <th>div19</th>\n",
              "      <td>1254.0</td>\n",
              "      <td>20.553429</td>\n",
              "      <td>9.522097</td>\n",
              "      <td>5.0</td>\n",
              "      <td>12.0</td>\n",
              "      <td>20.0</td>\n",
              "      <td>28.0</td>\n",
              "      <td>38.0</td>\n",
              "    </tr>\n",
              "    <tr>\n",
              "      <th>div2</th>\n",
              "      <td>7051.0</td>\n",
              "      <td>25.501347</td>\n",
              "      <td>12.112210</td>\n",
              "      <td>5.0</td>\n",
              "      <td>15.0</td>\n",
              "      <td>25.0</td>\n",
              "      <td>36.0</td>\n",
              "      <td>46.0</td>\n",
              "    </tr>\n",
              "    <tr>\n",
              "      <th>div20</th>\n",
              "      <td>738.0</td>\n",
              "      <td>18.810298</td>\n",
              "      <td>8.376928</td>\n",
              "      <td>5.0</td>\n",
              "      <td>12.0</td>\n",
              "      <td>19.0</td>\n",
              "      <td>26.0</td>\n",
              "      <td>34.0</td>\n",
              "    </tr>\n",
              "    <tr>\n",
              "      <th>div21</th>\n",
              "      <td>630.0</td>\n",
              "      <td>19.692063</td>\n",
              "      <td>8.741133</td>\n",
              "      <td>5.0</td>\n",
              "      <td>12.0</td>\n",
              "      <td>20.0</td>\n",
              "      <td>27.0</td>\n",
              "      <td>36.0</td>\n",
              "    </tr>\n",
              "    <tr>\n",
              "      <th>div3</th>\n",
              "      <td>6896.0</td>\n",
              "      <td>25.242749</td>\n",
              "      <td>12.026907</td>\n",
              "      <td>5.0</td>\n",
              "      <td>15.0</td>\n",
              "      <td>25.0</td>\n",
              "      <td>35.0</td>\n",
              "      <td>46.0</td>\n",
              "    </tr>\n",
              "    <tr>\n",
              "      <th>div4</th>\n",
              "      <td>6922.0</td>\n",
              "      <td>25.249639</td>\n",
              "      <td>12.022703</td>\n",
              "      <td>5.0</td>\n",
              "      <td>15.0</td>\n",
              "      <td>25.0</td>\n",
              "      <td>36.0</td>\n",
              "      <td>46.0</td>\n",
              "    </tr>\n",
              "    <tr>\n",
              "      <th>div5</th>\n",
              "      <td>3881.0</td>\n",
              "      <td>25.077300</td>\n",
              "      <td>12.007738</td>\n",
              "      <td>5.0</td>\n",
              "      <td>15.0</td>\n",
              "      <td>25.0</td>\n",
              "      <td>35.0</td>\n",
              "      <td>46.0</td>\n",
              "    </tr>\n",
              "    <tr>\n",
              "      <th>div6</th>\n",
              "      <td>4649.0</td>\n",
              "      <td>21.235750</td>\n",
              "      <td>9.739415</td>\n",
              "      <td>5.0</td>\n",
              "      <td>13.0</td>\n",
              "      <td>21.0</td>\n",
              "      <td>30.0</td>\n",
              "      <td>38.0</td>\n",
              "    </tr>\n",
              "    <tr>\n",
              "      <th>div7</th>\n",
              "      <td>4739.0</td>\n",
              "      <td>21.495885</td>\n",
              "      <td>9.796049</td>\n",
              "      <td>5.0</td>\n",
              "      <td>13.0</td>\n",
              "      <td>21.0</td>\n",
              "      <td>30.0</td>\n",
              "      <td>38.0</td>\n",
              "    </tr>\n",
              "    <tr>\n",
              "      <th>div8</th>\n",
              "      <td>2795.0</td>\n",
              "      <td>21.346333</td>\n",
              "      <td>9.704082</td>\n",
              "      <td>5.0</td>\n",
              "      <td>13.0</td>\n",
              "      <td>21.0</td>\n",
              "      <td>30.0</td>\n",
              "      <td>38.0</td>\n",
              "    </tr>\n",
              "    <tr>\n",
              "      <th>div9</th>\n",
              "      <td>4751.0</td>\n",
              "      <td>21.528310</td>\n",
              "      <td>9.796798</td>\n",
              "      <td>5.0</td>\n",
              "      <td>13.0</td>\n",
              "      <td>22.0</td>\n",
              "      <td>30.0</td>\n",
              "      <td>38.0</td>\n",
              "    </tr>\n",
              "  </tbody>\n",
              "</table>\n",
              "</div>\n",
              "      <button class=\"colab-df-convert\" onclick=\"convertToInteractive('df-1276f8c5-da76-443c-aadb-570fed3736d8')\"\n",
              "              title=\"Convert this dataframe to an interactive table.\"\n",
              "              style=\"display:none;\">\n",
              "        \n",
              "  <svg xmlns=\"http://www.w3.org/2000/svg\" height=\"24px\"viewBox=\"0 0 24 24\"\n",
              "       width=\"24px\">\n",
              "    <path d=\"M0 0h24v24H0V0z\" fill=\"none\"/>\n",
              "    <path d=\"M18.56 5.44l.94 2.06.94-2.06 2.06-.94-2.06-.94-.94-2.06-.94 2.06-2.06.94zm-11 1L8.5 8.5l.94-2.06 2.06-.94-2.06-.94L8.5 2.5l-.94 2.06-2.06.94zm10 10l.94 2.06.94-2.06 2.06-.94-2.06-.94-.94-2.06-.94 2.06-2.06.94z\"/><path d=\"M17.41 7.96l-1.37-1.37c-.4-.4-.92-.59-1.43-.59-.52 0-1.04.2-1.43.59L10.3 9.45l-7.72 7.72c-.78.78-.78 2.05 0 2.83L4 21.41c.39.39.9.59 1.41.59.51 0 1.02-.2 1.41-.59l7.78-7.78 2.81-2.81c.8-.78.8-2.07 0-2.86zM5.41 20L4 18.59l7.72-7.72 1.47 1.35L5.41 20z\"/>\n",
              "  </svg>\n",
              "      </button>\n",
              "      \n",
              "  <style>\n",
              "    .colab-df-container {\n",
              "      display:flex;\n",
              "      flex-wrap:wrap;\n",
              "      gap: 12px;\n",
              "    }\n",
              "\n",
              "    .colab-df-convert {\n",
              "      background-color: #E8F0FE;\n",
              "      border: none;\n",
              "      border-radius: 50%;\n",
              "      cursor: pointer;\n",
              "      display: none;\n",
              "      fill: #1967D2;\n",
              "      height: 32px;\n",
              "      padding: 0 0 0 0;\n",
              "      width: 32px;\n",
              "    }\n",
              "\n",
              "    .colab-df-convert:hover {\n",
              "      background-color: #E2EBFA;\n",
              "      box-shadow: 0px 1px 2px rgba(60, 64, 67, 0.3), 0px 1px 3px 1px rgba(60, 64, 67, 0.15);\n",
              "      fill: #174EA6;\n",
              "    }\n",
              "\n",
              "    [theme=dark] .colab-df-convert {\n",
              "      background-color: #3B4455;\n",
              "      fill: #D2E3FC;\n",
              "    }\n",
              "\n",
              "    [theme=dark] .colab-df-convert:hover {\n",
              "      background-color: #434B5C;\n",
              "      box-shadow: 0px 1px 3px 1px rgba(0, 0, 0, 0.15);\n",
              "      filter: drop-shadow(0px 1px 2px rgba(0, 0, 0, 0.3));\n",
              "      fill: #FFFFFF;\n",
              "    }\n",
              "  </style>\n",
              "\n",
              "      <script>\n",
              "        const buttonEl =\n",
              "          document.querySelector('#df-1276f8c5-da76-443c-aadb-570fed3736d8 button.colab-df-convert');\n",
              "        buttonEl.style.display =\n",
              "          google.colab.kernel.accessAllowed ? 'block' : 'none';\n",
              "\n",
              "        async function convertToInteractive(key) {\n",
              "          const element = document.querySelector('#df-1276f8c5-da76-443c-aadb-570fed3736d8');\n",
              "          const dataTable =\n",
              "            await google.colab.kernel.invokeFunction('convertToInteractive',\n",
              "                                                     [key], {});\n",
              "          if (!dataTable) return;\n",
              "\n",
              "          const docLinkHtml = 'Like what you see? Visit the ' +\n",
              "            '<a target=\"_blank\" href=https://colab.research.google.com/notebooks/data_table.ipynb>data table notebook</a>'\n",
              "            + ' to learn more about interactive tables.';\n",
              "          element.innerHTML = '';\n",
              "          dataTable['output_type'] = 'display_data';\n",
              "          await google.colab.output.renderOutput(dataTable, element);\n",
              "          const docLink = document.createElement('div');\n",
              "          docLink.innerHTML = docLinkHtml;\n",
              "          element.appendChild(docLink);\n",
              "        }\n",
              "      </script>\n",
              "    </div>\n",
              "  </div>\n",
              "  "
            ]
          },
          "metadata": {},
          "execution_count": 6
        }
      ]
    },
    {
      "cell_type": "code",
      "source": [
        "all_cols = []\n",
        "for item in data.columns:\n",
        "  if \"_roll\" in item:\n",
        "    value = item.split(\"_roll\")[0]\n",
        "    if value not in all_cols:\n",
        "      all_cols.append(value)"
      ],
      "metadata": {
        "id": "Un7M6I0UQECE"
      },
      "execution_count": 7,
      "outputs": []
    },
    {
      "cell_type": "code",
      "source": [
        "def col_creator(data):\n",
        "  used = []\n",
        "  for item in data.columns:\n",
        "    if \"sum\" in item:\n",
        "      val = item.split(\"_roll\")[0]\n",
        "      if (val not in used) & (\"sum\" in item):\n",
        "        used.append(val)\n",
        "        color1 = val+\"_roll1_sum\"\n",
        "        color2 = val+\"_roll2_sum\"\n",
        "        color3 = val+\"_roll3_sum\"\n",
        "        color4 = val+\"_roll4_sum\"\n",
        "        sec = \"second_match_\"+val\n",
        "        third = \"third_match_\"+val\n",
        "        four = \"forth_match_\"+val\n",
        "        data[sec] = data[color2] - data[color1] \n",
        "        data[third] = data[color3] - data[color1] - data[sec]\n",
        "        data[four] = data[color4] - data[color1] - data[sec] - data[third]\n",
        "      elif (val not in used) & (\"mean\" in item):\n",
        "        color1 = val+\"_roll1_mean\"\n",
        "        color2 = val+\"_roll2_mean\"\n",
        "        color3 = val+\"_roll3_mean\"\n",
        "        color4 = val+\"_roll4_mean\"\n",
        "        sec = \"second_match_\"+val\n",
        "        third = \"third_match_\"+val\n",
        "        four = \"forth_match_\"+val\n",
        "        data[sec] = data[color2] * 2 - data[color1] \n",
        "        data[third] = data[color3] * 3 - data[color1] - data[sec]\n",
        "        data[four] = data[color4] * 4 - data[color1] - data[sec] - data[third]\n",
        "  return data"
      ],
      "metadata": {
        "id": "UJWSKXWFTRzn"
      },
      "execution_count": 8,
      "outputs": []
    },
    {
      "cell_type": "code",
      "source": [
        "data = col_creator(data)"
      ],
      "metadata": {
        "id": "Vzq8QLzjaF1W"
      },
      "execution_count": 9,
      "outputs": []
    },
    {
      "cell_type": "code",
      "source": [
        "data.columns"
      ],
      "metadata": {
        "colab": {
          "base_uri": "https://localhost:8080/"
        },
        "id": "TxeJnTTtYC49",
        "outputId": "92993ff7-ab28-40da-b6a9-4d6a05f46a46"
      },
      "execution_count": 10,
      "outputs": [
        {
          "data": {
            "text/plain": [
              "Index(['match_id', 'season', 'div', 'odds_home_team_win', 'odds_draw',\n",
              "       'odds_away_team_win', 'home_team_match_nr', 'home_team_goal_roll1_sum',\n",
              "       'home_team_goal_roll2_sum', 'home_team_goal_roll3_sum',\n",
              "       ...\n",
              "       'forth_match_away_team_red_card',\n",
              "       'second_match_away_team_opponents_red_card',\n",
              "       'third_match_away_team_opponents_red_card',\n",
              "       'forth_match_away_team_opponents_red_card',\n",
              "       'second_match_away_team_point', 'third_match_away_team_point',\n",
              "       'forth_match_away_team_point', 'second_match_away_team_expected_point',\n",
              "       'third_match_away_team_expected_point',\n",
              "       'forth_match_away_team_expected_point'],\n",
              "      dtype='object', length=263)"
            ]
          },
          "execution_count": 10,
          "metadata": {},
          "output_type": "execute_result"
        }
      ]
    },
    {
      "cell_type": "code",
      "source": [
        "data[\"odds_diff\"] = data[\"odds_home_team_win\"] - data[\"odds_away_team_win\"]\n",
        "data[\"odds_diff\"] = np.where(data[\"odds_diff\"] > 10, 10, data[\"odds_diff\"])\n",
        "data[\"odds_diff\"] = np.where(data[\"odds_diff\"] < -10, -10, data[\"odds_diff\"])"
      ],
      "metadata": {
        "id": "EDhYrvZcbDoZ"
      },
      "execution_count": 11,
      "outputs": []
    },
    {
      "cell_type": "code",
      "source": [
        "data[\"roundest\"] = np.where(data[\"home_team_match_nr\"] < data[\"away_team_match_nr\"],data[\"home_team_match_nr\"],np.where(data[\"home_team_match_nr\"] > data[\"away_team_match_nr\"], data[\"away_team_match_nr\"],data[\"home_team_match_nr\"]))\n",
        "data[\"home_pos\"] = data[\"home_team_point_mean\"] / (data[\"roundest\"] *3)\n",
        "data[\"away_pos\"] = data[\"away_team_point_mean\"] / (data[\"roundest\"] *3)"
      ],
      "metadata": {
        "colab": {
          "base_uri": "https://localhost:8080/"
        },
        "id": "HYkECnaAa9NN",
        "outputId": "cde3dc15-31ab-45d1-9ea0-d993f1a2cdf3"
      },
      "execution_count": 12,
      "outputs": [
        {
          "metadata": {
            "tags": null
          },
          "name": "stderr",
          "output_type": "stream",
          "text": [
            "<ipython-input-12-86b0d7880c73>:1: PerformanceWarning: DataFrame is highly fragmented.  This is usually the result of calling `frame.insert` many times, which has poor performance.  Consider joining all columns at once using pd.concat(axis=1) instead.  To get a de-fragmented frame, use `newframe = frame.copy()`\n",
            "  data[\"roundest\"] = np.where(data[\"home_team_match_nr\"] < data[\"away_team_match_nr\"],data[\"home_team_match_nr\"],np.where(data[\"home_team_match_nr\"] > data[\"away_team_match_nr\"], data[\"away_team_match_nr\"],data[\"home_team_match_nr\"]))\n",
            "<ipython-input-12-86b0d7880c73>:2: PerformanceWarning: DataFrame is highly fragmented.  This is usually the result of calling `frame.insert` many times, which has poor performance.  Consider joining all columns at once using pd.concat(axis=1) instead.  To get a de-fragmented frame, use `newframe = frame.copy()`\n",
            "  data[\"home_pos\"] = data[\"home_team_point_mean\"] / (data[\"roundest\"] *3)\n",
            "<ipython-input-12-86b0d7880c73>:3: PerformanceWarning: DataFrame is highly fragmented.  This is usually the result of calling `frame.insert` many times, which has poor performance.  Consider joining all columns at once using pd.concat(axis=1) instead.  To get a de-fragmented frame, use `newframe = frame.copy()`\n",
            "  data[\"away_pos\"] = data[\"away_team_point_mean\"] / (data[\"roundest\"] *3)\n"
          ]
        }
      ]
    },
    {
      "cell_type": "code",
      "source": [
        "# Seeing where team is located on table based on str....3 mean top team, 2 middle, 1 relegation pos\n",
        "data[\"home_team_pos_str\"] = np.where(data[\"home_pos\"] > 0.075, 3, np.where(data[\"home_pos\"] < 0.01, 1, 2))\n",
        "data[\"away_team_pos_str\"] = np.where(data[\"away_pos\"] > 0.075, 3, np.where(data[\"away_pos\"] < 0.01, 1, 2))"
      ],
      "metadata": {
        "colab": {
          "base_uri": "https://localhost:8080/"
        },
        "id": "q4UZp0WgerRi",
        "outputId": "567ba5a0-5b37-43f2-a8f1-4f34c1507a52"
      },
      "execution_count": 13,
      "outputs": [
        {
          "output_type": "stream",
          "name": "stderr",
          "text": [
            "<ipython-input-13-3785d816dc1c>:2: PerformanceWarning: DataFrame is highly fragmented.  This is usually the result of calling `frame.insert` many times, which has poor performance.  Consider joining all columns at once using pd.concat(axis=1) instead.  To get a de-fragmented frame, use `newframe = frame.copy()`\n",
            "  data[\"home_team_pos_str\"] = np.where(data[\"home_pos\"] > 0.075, 3, np.where(data[\"home_pos\"] < 0.01, 1, 2))\n",
            "<ipython-input-13-3785d816dc1c>:3: PerformanceWarning: DataFrame is highly fragmented.  This is usually the result of calling `frame.insert` many times, which has poor performance.  Consider joining all columns at once using pd.concat(axis=1) instead.  To get a de-fragmented frame, use `newframe = frame.copy()`\n",
            "  data[\"away_team_pos_str\"] = np.where(data[\"away_pos\"] > 0.075, 3, np.where(data[\"away_pos\"] < 0.01, 1, 2))\n"
          ]
        }
      ]
    },
    {
      "cell_type": "code",
      "source": [
        "data[\"Pos_diff\"] = data[\"home_team_pos_str\"] - data[\"away_team_pos_str\"]"
      ],
      "metadata": {
        "colab": {
          "base_uri": "https://localhost:8080/"
        },
        "id": "g3aA-AVCzjia",
        "outputId": "0d46aecb-f7cf-4399-dee8-ee1aef5641d0"
      },
      "execution_count": 14,
      "outputs": [
        {
          "metadata": {
            "tags": null
          },
          "name": "stderr",
          "output_type": "stream",
          "text": [
            "<ipython-input-14-a42c98bcd166>:1: PerformanceWarning: DataFrame is highly fragmented.  This is usually the result of calling `frame.insert` many times, which has poor performance.  Consider joining all columns at once using pd.concat(axis=1) instead.  To get a de-fragmented frame, use `newframe = frame.copy()`\n",
            "  data[\"Pos_diff\"] = data[\"home_team_pos_str\"] - data[\"away_team_pos_str\"]\n"
          ]
        }
      ]
    },
    {
      "cell_type": "code",
      "source": [
        "def pos_multi(X):\n",
        "  if pos_multi == 2:\n",
        "    return 1.2\n",
        "  elif pos_multi == 1:\n",
        "    return 1.1\n",
        "  elif pos_multi == -1:\n",
        "    return 0.9\n",
        "  elif pos_multi == -2:\n",
        "    return 0.8\n",
        "  else:\n",
        "    return 1"
      ],
      "metadata": {
        "id": "HA0zF_Ft0i3k"
      },
      "execution_count": 15,
      "outputs": []
    },
    {
      "cell_type": "code",
      "source": [
        "data[\"multiplier\"] = data.apply(lambda x: pos_multi(x), axis = 1)"
      ],
      "metadata": {
        "id": "EgZ5mlWL1pfs"
      },
      "execution_count": 16,
      "outputs": []
    },
    {
      "cell_type": "code",
      "source": [
        "data[\"Pos_diff_away\"] = np.where(data[\"away_team_pos_str\"] - data[\"home_team_pos_str\"] == 2, 1.2, np.where(data[\"away_team_pos_str\"] - data[\"home_team_pos_str\"] == 1, 1.1, 0))"
      ],
      "metadata": {
        "id": "-xWjGNks0B3N"
      },
      "execution_count": 18,
      "outputs": []
    },
    {
      "cell_type": "code",
      "source": [
        "def col_changer(X):\n",
        "  return (X[\"home_team_shot_roll4_sum\"] + X[\"home_team_shot_on_target_roll4_sum\"] + X[\"home_team_corner_roll4_sum\"]) * X[\"multiplier\"]"
      ],
      "metadata": {
        "id": "tXmvzwKGzMSD"
      },
      "execution_count": 21,
      "outputs": []
    },
    {
      "cell_type": "code",
      "source": [
        "data[\"strength\"] = data.apply(lambda x: col_changer(x), axis = 1)"
      ],
      "metadata": {
        "id": "_xGdus9w21iG"
      },
      "execution_count": 22,
      "outputs": []
    },
    {
      "cell_type": "code",
      "source": [
        "data[\"away_strength\"] = data[\"away_team_shot_roll4_sum\"] + data[\"away_team_shot_on_target_roll4_sum\"] + data[\"away_team_corner_roll4_sum\"]"
      ],
      "metadata": {
        "id": "6CZxrcXlmLt3"
      },
      "execution_count": 23,
      "outputs": []
    },
    {
      "cell_type": "code",
      "source": [
        "data[\"home_ratio\"] = data[\"home_team_shot_roll4_sum\"]/data[\"home_team_opponents_shot_roll4_sum\"] + data[\"home_team_shot_on_target_roll4_sum\"]/data[\"home_team_opponents_shot_on_target_roll4_sum\"]+data[\"home_team_corner_roll4_sum\"]/data[\"home_team_opponents_corner_roll4_sum\"]"
      ],
      "metadata": {
        "id": "ykgE-C2Tm64o"
      },
      "execution_count": 24,
      "outputs": []
    },
    {
      "cell_type": "code",
      "source": [
        "data[\"away_ratio\"] = data[\"away_team_shot_roll4_sum\"]/data[\"away_team_opponents_shot_roll4_sum\"] + data[\"away_team_shot_on_target_roll4_sum\"]/data[\"away_team_opponents_shot_on_target_roll4_sum\"]+data[\"away_team_corner_roll4_sum\"]/data[\"away_team_opponents_corner_roll4_sum\"]"
      ],
      "metadata": {
        "id": "C2tRJYR6osAm"
      },
      "execution_count": 25,
      "outputs": []
    },
    {
      "cell_type": "markdown",
      "source": [],
      "metadata": {
        "id": "MbK-Tos8a7tS"
      }
    },
    {
      "cell_type": "code",
      "source": [
        "from pandas.core.describe import DataFrameDescriber\n",
        "plt.hist(data[\"odds_diff\"], bins = 20)\n",
        "plt.show()"
      ],
      "metadata": {
        "colab": {
          "base_uri": "https://localhost:8080/",
          "height": 265
        },
        "id": "hOYdpfxibSwN",
        "outputId": "c165b65c-bb0f-45fe-b589-b73300a5c659"
      },
      "execution_count": 12,
      "outputs": [
        {
          "output_type": "display_data",
          "data": {
            "text/plain": [
              "<Figure size 432x288 with 1 Axes>"
            ],
            "image/png": "[encoded data removed]"
          },
          "metadata": {
            "needs_background": "light"
          }
        }
      ]
    },
    {
      "cell_type": "markdown",
      "source": [],
      "metadata": {
        "id": "AiyH6ioXaNzC"
      }
    },
    {
      "cell_type": "code",
      "source": [
        "sns.heatmap(data.corr())"
      ],
      "metadata": {
        "colab": {
          "base_uri": "https://localhost:8080/",
          "height": 526
        },
        "id": "VKjym-7Binlw",
        "outputId": "c7f06387-7cd4-4783-b5ae-1a4489686708"
      },
      "execution_count": null,
      "outputs": [
        {
          "output_type": "execute_result",
          "data": {
            "text/plain": [
              "<matplotlib.axes._subplots.AxesSubplot at 0x7f92a55d5280>"
            ]
          },
          "metadata": {},
          "execution_count": 17
        },
        {
          "output_type": "display_data",
          "data": {
            "text/plain": [
              "<Figure size 432x288 with 2 Axes>"
            ],
            "image/png": "[encoded data removed]"
          },
          "metadata": {
            "needs_background": "light"
          }
        }
      ]
    },
    {
      "cell_type": "code",
      "source": [
        "from sklearn.ensemble import RandomForestClassifier\n",
        "from sklearn.preprocessing import StandardScaler, MinMaxScaler\n",
        "from sklearn.tree import DecisionTreeClassifier"
      ],
      "metadata": {
        "id": "hp3K0ttikGMq"
      },
      "execution_count": 61,
      "outputs": []
    },
    {
      "cell_type": "code",
      "source": [
        "model = DecisionTreeClassifier()"
      ],
      "metadata": {
        "id": "KqL1g-m6qEO8"
      },
      "execution_count": 62,
      "outputs": []
    },
    {
      "cell_type": "code",
      "source": [
        "MM = MinMaxScaler()\n",
        "SS = StandardScaler()"
      ],
      "metadata": {
        "id": "A-j9sDiKqPGJ"
      },
      "execution_count": 39,
      "outputs": []
    },
    {
      "cell_type": "code",
      "source": [
        "y = data[\"home_win_flag\"]\n",
        "X = data.drop([\"match_id\", \"div\", \"season\", \"draw_flag\", \"away_win_flag\", \"home_win_flag\"], axis = 1).fillna(0)"
      ],
      "metadata": {
        "id": "sZ8ak2mgq4HE"
      },
      "execution_count": 77,
      "outputs": []
    },
    {
      "cell_type": "code",
      "source": [
        "cols = X.columns"
      ],
      "metadata": {
        "id": "zhlrGUakvPxl"
      },
      "execution_count": 84,
      "outputs": []
    },
    {
      "cell_type": "code",
      "source": [
        "X_mod = np.nan_to_num(X)"
      ],
      "metadata": {
        "id": "lqTmNwPwsHy3"
      },
      "execution_count": 78,
      "outputs": []
    },
    {
      "cell_type": "code",
      "source": [
        "X_scaled = MM.fit_transform(X_mod)"
      ],
      "metadata": {
        "id": "EzrLiiJ8rYi9"
      },
      "execution_count": 79,
      "outputs": []
    },
    {
      "cell_type": "code",
      "source": [
        "model.fit(X_scaled,y)"
      ],
      "metadata": {
        "colab": {
          "base_uri": "https://localhost:8080/",
          "height": 75
        },
        "id": "IgP15Mtcrsec",
        "outputId": "3bb7e45e-494e-427c-dce9-53b64d0fd9b5"
      },
      "execution_count": 80,
      "outputs": [
        {
          "output_type": "execute_result",
          "data": {
            "text/plain": [
              "DecisionTreeClassifier()"
            ],
            "text/html": [
              "<style>#sk-container-id-2 {color: black;background-color: white;}#sk-container-id-2 pre{padding: 0;}#sk-container-id-2 div.sk-toggleable {background-color: white;}#sk-container-id-2 label.sk-toggleable__label {cursor: pointer;display: block;width: 100%;margin-bottom: 0;padding: 0.3em;box-sizing: border-box;text-align: center;}#sk-container-id-2 label.sk-toggleable__label-arrow:before {content: \"▸\";float: left;margin-right: 0.25em;color: #696969;}#sk-container-id-2 label.sk-toggleable__label-arrow:hover:before {color: black;}#sk-container-id-2 div.sk-estimator:hover label.sk-toggleable__label-arrow:before {color: black;}#sk-container-id-2 div.sk-toggleable__content {max-height: 0;max-width: 0;overflow: hidden;text-align: left;background-color: #f0f8ff;}#sk-container-id-2 div.sk-toggleable__content pre {margin: 0.2em;color: black;border-radius: 0.25em;background-color: #f0f8ff;}#sk-container-id-2 input.sk-toggleable__control:checked~div.sk-toggleable__content {max-height: 200px;max-width: 100%;overflow: auto;}#sk-container-id-2 input.sk-toggleable__control:checked~label.sk-toggleable__label-arrow:before {content: \"▾\";}#sk-container-id-2 div.sk-estimator input.sk-toggleable__control:checked~label.sk-toggleable__label {background-color: #d4ebff;}#sk-container-id-2 div.sk-label input.sk-toggleable__control:checked~label.sk-toggleable__label {background-color: #d4ebff;}#sk-container-id-2 input.sk-hidden--visually {border: 0;clip: rect(1px 1px 1px 1px);clip: rect(1px, 1px, 1px, 1px);height: 1px;margin: -1px;overflow: hidden;padding: 0;position: absolute;width: 1px;}#sk-container-id-2 div.sk-estimator {font-family: monospace;background-color: #f0f8ff;border: 1px dotted black;border-radius: 0.25em;box-sizing: border-box;margin-bottom: 0.5em;}#sk-container-id-2 div.sk-estimator:hover {background-color: #d4ebff;}#sk-container-id-2 div.sk-parallel-item::after {content: \"\";width: 100%;border-bottom: 1px solid gray;flex-grow: 1;}#sk-container-id-2 div.sk-label:hover label.sk-toggleable__label {background-color: #d4ebff;}#sk-container-id-2 div.sk-serial::before {content: \"\";position: absolute;border-left: 1px solid gray;box-sizing: border-box;top: 0;bottom: 0;left: 50%;z-index: 0;}#sk-container-id-2 div.sk-serial {display: flex;flex-direction: column;align-items: center;background-color: white;padding-right: 0.2em;padding-left: 0.2em;position: relative;}#sk-container-id-2 div.sk-item {position: relative;z-index: 1;}#sk-container-id-2 div.sk-parallel {display: flex;align-items: stretch;justify-content: center;background-color: white;position: relative;}#sk-container-id-2 div.sk-item::before, #sk-container-id-2 div.sk-parallel-item::before {content: \"\";position: absolute;border-left: 1px solid gray;box-sizing: border-box;top: 0;bottom: 0;left: 50%;z-index: -1;}#sk-container-id-2 div.sk-parallel-item {display: flex;flex-direction: column;z-index: 1;position: relative;background-color: white;}#sk-container-id-2 div.sk-parallel-item:first-child::after {align-self: flex-end;width: 50%;}#sk-container-id-2 div.sk-parallel-item:last-child::after {align-self: flex-start;width: 50%;}#sk-container-id-2 div.sk-parallel-item:only-child::after {width: 0;}#sk-container-id-2 div.sk-dashed-wrapped {border: 1px dashed gray;margin: 0 0.4em 0.5em 0.4em;box-sizing: border-box;padding-bottom: 0.4em;background-color: white;}#sk-container-id-2 div.sk-label label {font-family: monospace;font-weight: bold;display: inline-block;line-height: 1.2em;}#sk-container-id-2 div.sk-label-container {text-align: center;}#sk-container-id-2 div.sk-container {/* jupyter's `normalize.less` sets `[hidden] { display: none; }` but bootstrap.min.css set `[hidden] { display: none !important; }` so we also need the `!important` here to be able to override the default hidden behavior on the sphinx rendered scikit-learn.org. See: https://github.com/scikit-learn/scikit-learn/issues/21755 */display: inline-block !important;position: relative;}#sk-container-id-2 div.sk-text-repr-fallback {display: none;}</style><div id=\"sk-container-id-2\" class=\"sk-top-container\"><div class=\"sk-text-repr-fallback\"><pre>DecisionTreeClassifier()</pre><b>In a Jupyter environment, please rerun this cell to show the HTML representation or trust the notebook. <br />On GitHub, the HTML representation is unable to render, please try loading this page with nbviewer.org.</b></div><div class=\"sk-container\" hidden><div class=\"sk-item\"><div class=\"sk-estimator sk-toggleable\"><input class=\"sk-toggleable__control sk-hidden--visually\" id=\"sk-estimator-id-2\" type=\"checkbox\" checked><label for=\"sk-estimator-id-2\" class=\"sk-toggleable__label sk-toggleable__label-arrow\">DecisionTreeClassifier</label><div class=\"sk-toggleable__content\"><pre>DecisionTreeClassifier()</pre></div></div></div></div></div>"
            ]
          },
          "metadata": {},
          "execution_count": 80
        }
      ]
    },
    {
      "cell_type": "code",
      "source": [
        "importance = model.feature_importances_"
      ],
      "metadata": {
        "id": "VHkPY6b_tg_7"
      },
      "execution_count": 81,
      "outputs": []
    },
    {
      "cell_type": "code",
      "source": [
        "for i,v in enumerate(importance):\n",
        " print(f'Feature: {cols[i]} Score: {v}')\n",
        "# plot feature importance\n",
        "plt.bar([x for x in range(len(importance))], importance)\n",
        "plt.show()"
      ],
      "metadata": {
        "colab": {
          "base_uri": "https://localhost:8080/",
          "height": 1000
        },
        "id": "tXXSLfKzuShD",
        "outputId": "07c31fd4-e86e-4d6a-8d3f-a0fe6220029c"
      },
      "execution_count": 86,
      "outputs": [
        {
          "output_type": "stream",
          "name": "stdout",
          "text": [
            "Feature: odds_home_team_win Score: 0.08833517283132002\n",
            "Feature: odds_draw Score: 0.0063565924060335266\n",
            "Feature: odds_away_team_win Score: 0.008900398262440018\n",
            "Feature: home_team_match_nr Score: 0.0031043216821944274\n",
            "Feature: home_team_goal_roll1_sum Score: 0.0015267570774273776\n",
            "Feature: home_team_goal_roll2_sum Score: 0.002259752641228757\n",
            "Feature: home_team_goal_roll3_sum Score: 0.0024305015625966544\n",
            "Feature: home_team_goal_roll4_sum Score: 0.0022626818284208904\n",
            "Feature: home_team_opponents_goal_roll1_sum Score: 0.0014430319197312627\n",
            "Feature: home_team_opponents_goal_roll2_sum Score: 0.002213395006107445\n",
            "Feature: home_team_opponents_goal_roll3_sum Score: 0.0031687202008475216\n",
            "Feature: home_team_opponents_goal_roll4_sum Score: 0.0031257085316000544\n",
            "Feature: home_team_shot_roll1_sum Score: 0.00645298785975279\n",
            "Feature: home_team_shot_roll2_sum Score: 0.004438120467068604\n",
            "Feature: home_team_shot_roll3_sum Score: 0.004747453180874146\n",
            "Feature: home_team_shot_roll4_sum Score: 0.005589326497686344\n",
            "Feature: home_team_opponents_shot_roll1_sum Score: 0.00462628692859386\n",
            "Feature: home_team_opponents_shot_roll2_sum Score: 0.0053544265181725455\n",
            "Feature: home_team_opponents_shot_roll3_sum Score: 0.004786439911719079\n",
            "Feature: home_team_opponents_shot_roll4_sum Score: 0.004916044762645437\n",
            "Feature: home_team_shot_on_target_roll1_sum Score: 0.004029117666665792\n",
            "Feature: home_team_shot_on_target_roll2_sum Score: 0.0036095861787079552\n",
            "Feature: home_team_shot_on_target_roll3_sum Score: 0.004055799698287352\n",
            "Feature: home_team_shot_on_target_roll4_sum Score: 0.004560574885543772\n",
            "Feature: home_team_opponents_shot_on_target_roll1_sum Score: 0.003471413277975246\n",
            "Feature: home_team_opponents_shot_on_target_roll2_sum Score: 0.0034674580292879007\n",
            "Feature: home_team_opponents_shot_on_target_roll3_sum Score: 0.004081640898203353\n",
            "Feature: home_team_opponents_shot_on_target_roll4_sum Score: 0.004025404722188345\n",
            "Feature: home_team_fault_roll1_sum Score: 0.004517976646275685\n",
            "Feature: home_team_fault_roll2_sum Score: 0.007204733308818979\n",
            "Feature: home_team_fault_roll3_sum Score: 0.004001062758653423\n",
            "Feature: home_team_fault_roll4_sum Score: 0.005120645739903519\n",
            "Feature: home_team_opponents_fault_roll1_sum Score: 0.004946069405093105\n",
            "Feature: home_team_opponents_fault_roll2_sum Score: 0.0037974253545622963\n",
            "Feature: home_team_opponents_fault_roll3_sum Score: 0.003964455571682179\n",
            "Feature: home_team_opponents_fault_roll4_sum Score: 0.004954420965776513\n",
            "Feature: home_team_corner_roll1_sum Score: 0.0036793437441970792\n",
            "Feature: home_team_corner_roll2_sum Score: 0.005123722666212124\n",
            "Feature: home_team_corner_roll3_sum Score: 0.0037129113595969205\n",
            "Feature: home_team_corner_roll4_sum Score: 0.0044175906660172196\n",
            "Feature: home_team_opponents_corner_roll1_sum Score: 0.004042839798082196\n",
            "Feature: home_team_opponents_corner_roll2_sum Score: 0.003723063988893338\n",
            "Feature: home_team_opponents_corner_roll3_sum Score: 0.0031577897302093837\n",
            "Feature: home_team_opponents_corner_roll4_sum Score: 0.005479290433578498\n",
            "Feature: home_team_yellow_card_roll1_sum Score: 0.0034178104702085447\n",
            "Feature: home_team_yellow_card_roll2_sum Score: 0.002716669437228738\n",
            "Feature: home_team_yellow_card_roll3_sum Score: 0.0028839561102916725\n",
            "Feature: home_team_yellow_card_roll4_sum Score: 0.0023187070017599235\n",
            "Feature: home_team_opponents_yellow_card_roll1_sum Score: 0.0023416571038525503\n",
            "Feature: home_team_opponents_yellow_card_roll2_sum Score: 0.0025997136529282163\n",
            "Feature: home_team_opponents_yellow_card_roll3_sum Score: 0.003312778271919227\n",
            "Feature: home_team_opponents_yellow_card_roll4_sum Score: 0.0027033092762853016\n",
            "Feature: home_team_red_card_roll1_sum Score: 0.00043263091177955023\n",
            "Feature: home_team_red_card_roll2_sum Score: 0.0012737822249947722\n",
            "Feature: home_team_red_card_roll3_sum Score: 0.000496554611204367\n",
            "Feature: home_team_red_card_roll4_sum Score: 0.0004133781826083084\n",
            "Feature: home_team_opponents_red_card_roll1_sum Score: 0.0003207498845059241\n",
            "Feature: home_team_opponents_red_card_roll2_sum Score: 0.0006516987235341019\n",
            "Feature: home_team_opponents_red_card_roll3_sum Score: 0.0010546239020779009\n",
            "Feature: home_team_opponents_red_card_roll4_sum Score: 0.0015958936740002436\n",
            "Feature: home_team_point_roll1_sum Score: 0.0005437457719363298\n",
            "Feature: home_team_point_roll2_sum Score: 0.0024502618376793014\n",
            "Feature: home_team_point_roll3_sum Score: 0.0020614750145869164\n",
            "Feature: home_team_point_roll4_sum Score: 0.0022497501679935423\n",
            "Feature: home_team_expected_point_roll1_sum Score: 8.961518643068627e-05\n",
            "Feature: home_team_expected_point_roll2_sum Score: 0.0008221828620317331\n",
            "Feature: home_team_expected_point_roll3_sum Score: 0.0006099355181772591\n",
            "Feature: home_team_expected_point_roll4_sum Score: 0.0006501810202415117\n",
            "Feature: odds_home_team_win_roll1_mean Score: 0.004849314299106319\n",
            "Feature: odds_home_team_win_roll2_mean Score: 0.005792654752646168\n",
            "Feature: odds_home_team_win_roll3_mean Score: 0.006213756287376948\n",
            "Feature: odds_home_team_win_roll4_mean Score: 0.005094310742868528\n",
            "Feature: odds_home_team_draw_roll1_mean Score: 0.004413335267617736\n",
            "Feature: odds_home_team_draw_roll2_mean Score: 0.005483712244861506\n",
            "Feature: odds_home_team_draw_roll3_mean Score: 0.004020234548910167\n",
            "Feature: odds_home_team_draw_roll4_mean Score: 0.006040053021503124\n",
            "Feature: odds_home_team_defeat_roll1_mean Score: 0.004268806221914136\n",
            "Feature: odds_home_team_defeat_roll2_mean Score: 0.0054358861059196776\n",
            "Feature: odds_home_team_defeat_roll3_mean Score: 0.006383239425722282\n",
            "Feature: odds_home_team_defeat_roll4_mean Score: 0.006462850580882404\n",
            "Feature: home_team_point_mean Score: 0.0077908553918082666\n",
            "Feature: home_team_expected_point_mean Score: 0.005818495812121165\n",
            "Feature: away_team_match_nr Score: 0.0023517177378654707\n",
            "Feature: away_team_goal_roll1_sum Score: 0.0023416763479903696\n",
            "Feature: away_team_goal_roll2_sum Score: 0.0021115330616891578\n",
            "Feature: away_team_goal_roll3_sum Score: 0.002889046893941406\n",
            "Feature: away_team_goal_roll4_sum Score: 0.0038600576345016167\n",
            "Feature: away_team_opponents_goal_roll1_sum Score: 0.0010427509408697153\n",
            "Feature: away_team_opponents_goal_roll2_sum Score: 0.0033006866161875387\n",
            "Feature: away_team_opponents_goal_roll3_sum Score: 0.0028623906533179174\n",
            "Feature: away_team_opponents_goal_roll4_sum Score: 0.005383694319404281\n",
            "Feature: away_team_shot_roll1_sum Score: 0.00415602674099058\n",
            "Feature: away_team_shot_roll2_sum Score: 0.0031967691437821597\n",
            "Feature: away_team_shot_roll3_sum Score: 0.004476443263423863\n",
            "Feature: away_team_shot_roll4_sum Score: 0.004247273222958615\n",
            "Feature: away_team_opponents_shot_roll1_sum Score: 0.004593612161600541\n",
            "Feature: away_team_opponents_shot_roll2_sum Score: 0.005929093444638704\n",
            "Feature: away_team_opponents_shot_roll3_sum Score: 0.0040809983939781615\n",
            "Feature: away_team_opponents_shot_roll4_sum Score: 0.004357313285223831\n",
            "Feature: away_team_shot_on_target_roll1_sum Score: 0.0025004292444409833\n",
            "Feature: away_team_shot_on_target_roll2_sum Score: 0.0036552749660710864\n",
            "Feature: away_team_shot_on_target_roll3_sum Score: 0.0036763320500263937\n",
            "Feature: away_team_shot_on_target_roll4_sum Score: 0.003901090088873286\n",
            "Feature: away_team_opponents_shot_on_target_roll1_sum Score: 0.002521288620743933\n",
            "Feature: away_team_opponents_shot_on_target_roll2_sum Score: 0.003691297142693724\n",
            "Feature: away_team_opponents_shot_on_target_roll3_sum Score: 0.0033359589911402905\n",
            "Feature: away_team_opponents_shot_on_target_roll4_sum Score: 0.0031075149787553897\n",
            "Feature: away_team_fault_roll1_sum Score: 0.004075429649697343\n",
            "Feature: away_team_fault_roll2_sum Score: 0.0031577186260802513\n",
            "Feature: away_team_fault_roll3_sum Score: 0.003367595443037009\n",
            "Feature: away_team_fault_roll4_sum Score: 0.004303051260818664\n",
            "Feature: away_team_opponents_fault_roll1_sum Score: 0.0055662499319866976\n",
            "Feature: away_team_opponents_fault_roll2_sum Score: 0.005699214283528235\n",
            "Feature: away_team_opponents_fault_roll3_sum Score: 0.004270965957599477\n",
            "Feature: away_team_opponents_fault_roll4_sum Score: 0.005441459464758279\n",
            "Feature: away_team_corner_roll1_sum Score: 0.0035783983034703487\n",
            "Feature: away_team_corner_roll2_sum Score: 0.004221505571700262\n",
            "Feature: away_team_corner_roll3_sum Score: 0.00546593284443248\n",
            "Feature: away_team_corner_roll4_sum Score: 0.004945740626223937\n",
            "Feature: away_team_opponents_corner_roll1_sum Score: 0.004098711264235338\n",
            "Feature: away_team_opponents_corner_roll2_sum Score: 0.004276508003610102\n",
            "Feature: away_team_opponents_corner_roll3_sum Score: 0.0051960105961404894\n",
            "Feature: away_team_opponents_corner_roll4_sum Score: 0.005026614053302807\n",
            "Feature: away_team_yelllow_card_roll1_sum Score: 0.0020387253591932207\n",
            "Feature: away_team_yelllow_card_roll2_sum Score: 0.002815628351678898\n",
            "Feature: away_team_yelllow_card_roll3_sum Score: 0.003588139398953463\n",
            "Feature: away_team_yelllow_card_roll4_sum Score: 0.0036095905621568213\n",
            "Feature: away_team_opponents_yellow_card_roll1_sum Score: 0.0020139625562786037\n",
            "Feature: away_team_opponents_yellow_card_roll2_sum Score: 0.00268398521359174\n",
            "Feature: away_team_opponents_yellow_card_roll3_sum Score: 0.0032613197175083795\n",
            "Feature: away_team_opponents_yellow_card_roll4_sum Score: 0.0037180340795635544\n",
            "Feature: away_team_red_card_roll1_sum Score: 0.0006707939128316963\n",
            "Feature: away_team_red_card_roll2_sum Score: 0.0005229377814161052\n",
            "Feature: away_team_red_card_roll3_sum Score: 0.0005760667032242134\n",
            "Feature: away_team_red_card_roll4_sum Score: 0.0008201704171941801\n",
            "Feature: away_team_opponents_red_card_roll1_sum Score: 0.0009711295964094502\n",
            "Feature: away_team_opponents_red_card_roll2_sum Score: 0.00037478555598164883\n",
            "Feature: away_team_opponents_red_card_roll3_sum Score: 0.000963511838855697\n",
            "Feature: away_team_opponents_red_card_roll4_sum Score: 0.0012112907062025743\n",
            "Feature: away_team_point_roll1_sum Score: 0.0011118676972709592\n",
            "Feature: away_team_point_roll2_sum Score: 0.0021283660541661664\n",
            "Feature: away_team_point_roll3_sum Score: 0.0020059525314788705\n",
            "Feature: away_team_point_roll4_sum Score: 0.0025721889057348808\n",
            "Feature: away_team_expected_point_roll1_sum Score: 0.0001454928909109965\n",
            "Feature: away_team_expected_point_roll2_sum Score: 0.00029113303654440596\n",
            "Feature: away_team_expected_point_roll3_sum Score: 0.0006321256469925819\n",
            "Feature: away_team_expected_point_roll4_sum Score: 0.0009005707433533952\n",
            "Feature: odds_away_team_win_roll1_mean Score: 0.004295310502161323\n",
            "Feature: odds_away_team_win_roll2_mean Score: 0.0052762459127336766\n",
            "Feature: odds_away_team_win_roll3_mean Score: 0.0050414295490407\n",
            "Feature: odds_away_team_win_roll4_mean Score: 0.005758354119528374\n",
            "Feature: odds_away_team_draw_roll1_mean Score: 0.0053431104051130125\n",
            "Feature: odds_away_team_draw_roll2_mean Score: 0.006143633812474225\n",
            "Feature: odds_away_team_draw_roll3_mean Score: 0.005589676790912212\n",
            "Feature: odds_away_team_draw_roll4_mean Score: 0.004579404571308152\n",
            "Feature: odds_away_team_defeat_roll1_mean Score: 0.004352357828229502\n",
            "Feature: odds_away_team_defeat_roll2_mean Score: 0.005573991376899292\n",
            "Feature: odds_away_team_defeat_roll3_mean Score: 0.005555142525784488\n",
            "Feature: odds_away_team_defeat_roll4_mean Score: 0.0045884384809757066\n",
            "Feature: away_team_point_mean Score: 0.006378475820267289\n",
            "Feature: away_team_expected_point_mean Score: 0.00306925192805471\n",
            "Feature: second_match_home_team_goal Score: 0.0013194611404857151\n",
            "Feature: third_match_home_team_goal Score: 0.002429735046044625\n",
            "Feature: forth_match_home_team_goal Score: 0.001510079524518013\n",
            "Feature: second_match_home_team_opponents_goal Score: 0.0014159736719162902\n",
            "Feature: third_match_home_team_opponents_goal Score: 0.0015240086120178506\n",
            "Feature: forth_match_home_team_opponents_goal Score: 0.001877409529749411\n",
            "Feature: second_match_home_team_shot Score: 0.00479499223291547\n",
            "Feature: third_match_home_team_shot Score: 0.0055770486807102835\n",
            "Feature: forth_match_home_team_shot Score: 0.005334426928204251\n",
            "Feature: second_match_home_team_opponents_shot Score: 0.004814474015988446\n",
            "Feature: third_match_home_team_opponents_shot Score: 0.0040723675012003385\n",
            "Feature: forth_match_home_team_opponents_shot Score: 0.006429704078911158\n",
            "Feature: second_match_home_team_shot_on_target Score: 0.0023701396316067125\n",
            "Feature: third_match_home_team_shot_on_target Score: 0.0034139817255235748\n",
            "Feature: forth_match_home_team_shot_on_target Score: 0.004973189143946756\n",
            "Feature: second_match_home_team_opponents_shot_on_target Score: 0.0028473572148063303\n",
            "Feature: third_match_home_team_opponents_shot_on_target Score: 0.003325835057463775\n",
            "Feature: forth_match_home_team_opponents_shot_on_target Score: 0.003750781913919225\n",
            "Feature: second_match_home_team_fault Score: 0.00505432948750186\n",
            "Feature: third_match_home_team_fault Score: 0.0057429177012111\n",
            "Feature: forth_match_home_team_fault Score: 0.005932774039685657\n",
            "Feature: second_match_home_team_opponents_fault Score: 0.00365581683402775\n",
            "Feature: third_match_home_team_opponents_fault Score: 0.006879193718876754\n",
            "Feature: forth_match_home_team_opponents_fault Score: 0.004751262518064867\n",
            "Feature: second_match_home_team_corner Score: 0.004504974848946239\n",
            "Feature: third_match_home_team_corner Score: 0.0038988771300035017\n",
            "Feature: forth_match_home_team_corner Score: 0.0034305427793073747\n",
            "Feature: second_match_home_team_opponents_corner Score: 0.004359106520839349\n",
            "Feature: third_match_home_team_opponents_corner Score: 0.0055711276372999215\n",
            "Feature: forth_match_home_team_opponents_corner Score: 0.004236439791089382\n",
            "Feature: second_match_home_team_yellow_card Score: 0.0013857834692370629\n",
            "Feature: third_match_home_team_yellow_card Score: 0.0027904686410222604\n",
            "Feature: forth_match_home_team_yellow_card Score: 0.0030590201035250496\n",
            "Feature: second_match_home_team_opponents_yellow_card Score: 0.0022518951837973014\n",
            "Feature: third_match_home_team_opponents_yellow_card Score: 0.0019451252069676269\n",
            "Feature: forth_match_home_team_opponents_yellow_card Score: 0.0023668956275558774\n",
            "Feature: second_match_home_team_red_card Score: 0.0005088328912591373\n",
            "Feature: third_match_home_team_red_card Score: 0.00031352217598943895\n",
            "Feature: forth_match_home_team_red_card Score: 0.0003075127938262589\n",
            "Feature: second_match_home_team_opponents_red_card Score: 0.00020991358541156758\n",
            "Feature: third_match_home_team_opponents_red_card Score: 0.0006724371339589226\n",
            "Feature: forth_match_home_team_opponents_red_card Score: 0.0005879020810707217\n",
            "Feature: second_match_home_team_point Score: 0.0012865323181935292\n",
            "Feature: third_match_home_team_point Score: 0.0014366067135257816\n",
            "Feature: forth_match_home_team_point Score: 0.0008755625852237065\n",
            "Feature: second_match_home_team_expected_point Score: 0.0002404712834195164\n",
            "Feature: third_match_home_team_expected_point Score: 0.000676890126307733\n",
            "Feature: forth_match_home_team_expected_point Score: 0.00015814444664238753\n",
            "Feature: second_match_away_team_goal Score: 0.0011978252248981928\n",
            "Feature: third_match_away_team_goal Score: 0.002300310463757423\n",
            "Feature: forth_match_away_team_goal Score: 0.0015182399582935493\n",
            "Feature: second_match_away_team_opponents_goal Score: 0.0021519153368244706\n",
            "Feature: third_match_away_team_opponents_goal Score: 0.001540805867360216\n",
            "Feature: forth_match_away_team_opponents_goal Score: 0.002341804415375971\n",
            "Feature: second_match_away_team_shot Score: 0.004772037598695949\n",
            "Feature: third_match_away_team_shot Score: 0.005126560570384658\n",
            "Feature: forth_match_away_team_shot Score: 0.005689510748780392\n",
            "Feature: second_match_away_team_opponents_shot Score: 0.00401778449155933\n",
            "Feature: third_match_away_team_opponents_shot Score: 0.004388868600977237\n",
            "Feature: forth_match_away_team_opponents_shot Score: 0.005244638921083047\n",
            "Feature: second_match_away_team_shot_on_target Score: 0.00440198508833437\n",
            "Feature: third_match_away_team_shot_on_target Score: 0.0032792079275083433\n",
            "Feature: forth_match_away_team_shot_on_target Score: 0.003692167174674921\n",
            "Feature: second_match_away_team_opponents_shot_on_target Score: 0.003279598630251715\n",
            "Feature: third_match_away_team_opponents_shot_on_target Score: 0.0028944752662949055\n",
            "Feature: forth_match_away_team_opponents_shot_on_target Score: 0.002855715060956821\n",
            "Feature: second_match_away_team_fault Score: 0.006343705351719976\n",
            "Feature: third_match_away_team_fault Score: 0.005430755459505415\n",
            "Feature: forth_match_away_team_fault Score: 0.005646872608055645\n",
            "Feature: second_match_away_team_opponents_fault Score: 0.004193829685567917\n",
            "Feature: third_match_away_team_opponents_fault Score: 0.005089609653329781\n",
            "Feature: forth_match_away_team_opponents_fault Score: 0.005973181452854718\n",
            "Feature: second_match_away_team_corner Score: 0.005229714612170131\n",
            "Feature: third_match_away_team_corner Score: 0.0063655526881393745\n",
            "Feature: forth_match_away_team_corner Score: 0.002666249240202822\n",
            "Feature: second_match_away_team_opponents_corner Score: 0.004211759890948767\n",
            "Feature: third_match_away_team_opponents_corner Score: 0.0033967921001321496\n",
            "Feature: forth_match_away_team_opponents_corner Score: 0.004307360343569699\n",
            "Feature: second_match_away_team_yelllow_card Score: 0.0018723743504095616\n",
            "Feature: third_match_away_team_yelllow_card Score: 0.002165395264258548\n",
            "Feature: forth_match_away_team_yelllow_card Score: 0.002121360910668345\n",
            "Feature: second_match_away_team_opponents_yellow_card Score: 0.0019164569129372163\n",
            "Feature: third_match_away_team_opponents_yellow_card Score: 0.002497686608805814\n",
            "Feature: forth_match_away_team_opponents_yellow_card Score: 0.00440909694603844\n",
            "Feature: second_match_away_team_red_card Score: 0.0012200580944346632\n",
            "Feature: third_match_away_team_red_card Score: 0.0007154408709894473\n",
            "Feature: forth_match_away_team_red_card Score: 0.001151335282064599\n",
            "Feature: second_match_away_team_opponents_red_card Score: 0.0007819596551353691\n",
            "Feature: third_match_away_team_opponents_red_card Score: 0.0005078594822316519\n",
            "Feature: forth_match_away_team_opponents_red_card Score: 0.00032239891555850943\n",
            "Feature: second_match_away_team_point Score: 0.0013804788646685571\n",
            "Feature: third_match_away_team_point Score: 0.0009682594996823277\n",
            "Feature: forth_match_away_team_point Score: 0.0010263457249583582\n",
            "Feature: second_match_away_team_expected_point Score: 0.0002578097154576562\n",
            "Feature: third_match_away_team_expected_point Score: 0.00017008539717785391\n",
            "Feature: forth_match_away_team_expected_point Score: 0.00017894899137393993\n",
            "Feature: odds_diff Score: 0.022385410587149004\n",
            "Feature: roundest Score: 0.001934312987581149\n",
            "Feature: home_pos Score: 0.009174038941244437\n",
            "Feature: away_pos Score: 0.008256540077173531\n",
            "Feature: home_team_pos_str Score: 5.9040593413158026e-05\n",
            "Feature: away_team_pos_str Score: 0.00026824597309072987\n",
            "Feature: Pos_diff Score: 0.0010688696714878266\n",
            "Feature: multiplier Score: 0.0\n",
            "Feature: Pos_diff_away Score: 0.0003742158822759258\n",
            "Feature: strength Score: 0.004093280465844192\n",
            "Feature: away_strength Score: 0.0040853913074164324\n",
            "Feature: home_ratio Score: 0.0\n",
            "Feature: away_ratio Score: 0.007521630771455038\n"
          ]
        },
        {
          "output_type": "display_data",
          "data": {
            "text/plain": [
              "<Figure size 432x288 with 1 Axes>"
            ],
            "image/png": "[encoded data removed]"
          },
          "metadata": {
            "needs_background": "light"
          }
        }
      ]
    },
    {
      "cell_type": "code",
      "source": [
        "pca = PCA(n_components=20) # estimate only 2 PCs\n",
        "X_new = pca.fit_transform(X_scaled) # project the original data into the PCA space"
      ],
      "metadata": {
        "id": "s09OCFCxxebc"
      },
      "execution_count": 90,
      "outputs": []
    },
    {
      "cell_type": "code",
      "source": [
        "print(pca.explained_variance_ratio_)"
      ],
      "metadata": {
        "colab": {
          "base_uri": "https://localhost:8080/"
        },
        "id": "aO256Dbfxv7u",
        "outputId": "44409f05-3e71-41d0-e0aa-16541952bab4"
      },
      "execution_count": 91,
      "outputs": [
        {
          "output_type": "stream",
          "name": "stdout",
          "text": [
            "[0.13105075 0.12210977 0.04639572 0.04124701 0.04080315 0.03721854\n",
            " 0.03303809 0.03185895 0.03161302 0.02895935 0.02764791 0.02323056\n",
            " 0.0216772  0.0214009  0.02108553 0.02071297 0.0198558  0.01913239\n",
            " 0.01401438 0.01230412]\n"
          ]
        }
      ]
    },
    {
      "cell_type": "code",
      "source": [
        "X = data[[\"odds_diff\", \"home_team_pos_str\",\"away_team_pos_str\",\"Pos_diff\",\"strength\",\"away_strength\",\"home_ratio\",\"away_ratio\"]]\n",
        "cols = X.columns\n",
        "X_mod = np.nan_to_num(X)\n",
        "X_scaled = MM.fit_transform(X_mod)\n",
        "model.fit(X_scaled, y)\n",
        "importance = model.feature_importances_"
      ],
      "metadata": {
        "id": "qEdq48sjw1AT"
      },
      "execution_count": 101,
      "outputs": []
    },
    {
      "cell_type": "code",
      "source": [
        "for i,v in enumerate(importance):\n",
        " print(f'Feature: {cols[i]} Score: {v}')\n",
        "# plot feature importance\n",
        "plt.bar([x for x in range(len(importance))], importance)\n",
        "plt.show()"
      ],
      "metadata": {
        "colab": {
          "base_uri": "https://localhost:8080/",
          "height": 404
        },
        "id": "4Q4djTjAv5d-",
        "outputId": "4556d260-45e5-480c-ab48-bb972f74a867"
      },
      "execution_count": 102,
      "outputs": [
        {
          "output_type": "stream",
          "name": "stdout",
          "text": [
            "Feature: odds_diff Score: 0.2746952355673258\n",
            "Feature: home_team_pos_str Score: 0.019153147018613117\n",
            "Feature: away_team_pos_str Score: 0.02038731157041838\n",
            "Feature: Pos_diff Score: 0.025162811555222372\n",
            "Feature: strength Score: 0.18074693992290491\n",
            "Feature: away_strength Score: 0.17774428265961414\n",
            "Feature: home_ratio Score: 0.0\n",
            "Feature: away_ratio Score: 0.30211027170590127\n"
          ]
        },
        {
          "output_type": "display_data",
          "data": {
            "text/plain": [
              "<Figure size 432x288 with 1 Axes>"
            ],
            "image/png": "[encoded data removed]"
          },
          "metadata": {
            "needs_background": "light"
          }
        }
      ]
    },
    {
      "cell_type": "code",
      "source": [
        "data_y1= data[data['home_win_flag']==1].reset_index(drop=True)\n",
        "data_y0= data[data['home_win_flag']==0].reset_index(drop=True)"
      ],
      "metadata": {
        "id": "kDFySwzfylS8"
      },
      "execution_count": 120,
      "outputs": []
    },
    {
      "cell_type": "code",
      "source": [
        "### home win col 164\n",
        "data_to_train = pd.concat([data_y1[0:20000],data_y0[0:20000]], ignore_index=True)\n",
        "X_train = data_to_train[[\"odds_diff\", \"home_team_pos_str\",\"away_team_pos_str\",\"Pos_diff\",\"strength\",\"away_strength\",\"home_ratio\",\"away_ratio\"]].values\n",
        "y_train = data_to_train[\"home_win_flag\"].values"
      ],
      "metadata": {
        "id": "TtjJ2QAfzzK5"
      },
      "execution_count": 147,
      "outputs": []
    },
    {
      "cell_type": "code",
      "source": [
        "data_to_test = pd.concat([data_y1[20000:28000],data_y0[20000:28000]], ignore_index=True)\n",
        "X_test = data_to_test[[\"odds_diff\", \"home_team_pos_str\",\"away_team_pos_str\",\"Pos_diff\",\"strength\",\"away_strength\",\"home_ratio\",\"away_ratio\"]].values\n",
        "y_test = data_to_test[\"home_win_flag\"].values"
      ],
      "metadata": {
        "id": "B8ROljCIz2c4"
      },
      "execution_count": 148,
      "outputs": []
    },
    {
      "cell_type": "code",
      "source": [
        "X_train = np.nan_to_num(X_train)\n",
        "X_test = np.nan_to_num(X_test)\n",
        "X_test = MM.fit_transform(X_test)"
      ],
      "metadata": {
        "id": "F4QGlmiu1PrG"
      },
      "execution_count": 149,
      "outputs": []
    },
    {
      "cell_type": "code",
      "source": [
        "from sklearn.ensemble import RandomForestClassifier\n",
        "from sklearn.datasets import make_classification"
      ],
      "metadata": {
        "id": "l1utGf250Q7E"
      },
      "execution_count": 150,
      "outputs": []
    },
    {
      "cell_type": "code",
      "source": [
        "clf = RandomForestClassifier(max_depth=10, random_state=0)\n",
        "X_train = MM.fit_transform(X_train)\n",
        "clf.fit(X_train, y_train)"
      ],
      "metadata": {
        "colab": {
          "base_uri": "https://localhost:8080/",
          "height": 75
        },
        "id": "sW_xTQ3m0S6E",
        "outputId": "f5ae5a9e-ad8a-4b9c-9fda-f49d1bedd725"
      },
      "execution_count": 151,
      "outputs": [
        {
          "output_type": "execute_result",
          "data": {
            "text/plain": [
              "RandomForestClassifier(max_depth=10, random_state=0)"
            ],
            "text/html": [
              "<style>#sk-container-id-10 {color: black;background-color: white;}#sk-container-id-10 pre{padding: 0;}#sk-container-id-10 div.sk-toggleable {background-color: white;}#sk-container-id-10 label.sk-toggleable__label {cursor: pointer;display: block;width: 100%;margin-bottom: 0;padding: 0.3em;box-sizing: border-box;text-align: center;}#sk-container-id-10 label.sk-toggleable__label-arrow:before {content: \"▸\";float: left;margin-right: 0.25em;color: #696969;}#sk-container-id-10 label.sk-toggleable__label-arrow:hover:before {color: black;}#sk-container-id-10 div.sk-estimator:hover label.sk-toggleable__label-arrow:before {color: black;}#sk-container-id-10 div.sk-toggleable__content {max-height: 0;max-width: 0;overflow: hidden;text-align: left;background-color: #f0f8ff;}#sk-container-id-10 div.sk-toggleable__content pre {margin: 0.2em;color: black;border-radius: 0.25em;background-color: #f0f8ff;}#sk-container-id-10 input.sk-toggleable__control:checked~div.sk-toggleable__content {max-height: 200px;max-width: 100%;overflow: auto;}#sk-container-id-10 input.sk-toggleable__control:checked~label.sk-toggleable__label-arrow:before {content: \"▾\";}#sk-container-id-10 div.sk-estimator input.sk-toggleable__control:checked~label.sk-toggleable__label {background-color: #d4ebff;}#sk-container-id-10 div.sk-label input.sk-toggleable__control:checked~label.sk-toggleable__label {background-color: #d4ebff;}#sk-container-id-10 input.sk-hidden--visually {border: 0;clip: rect(1px 1px 1px 1px);clip: rect(1px, 1px, 1px, 1px);height: 1px;margin: -1px;overflow: hidden;padding: 0;position: absolute;width: 1px;}#sk-container-id-10 div.sk-estimator {font-family: monospace;background-color: #f0f8ff;border: 1px dotted black;border-radius: 0.25em;box-sizing: border-box;margin-bottom: 0.5em;}#sk-container-id-10 div.sk-estimator:hover {background-color: #d4ebff;}#sk-container-id-10 div.sk-parallel-item::after {content: \"\";width: 100%;border-bottom: 1px solid gray;flex-grow: 1;}#sk-container-id-10 div.sk-label:hover label.sk-toggleable__label {background-color: #d4ebff;}#sk-container-id-10 div.sk-serial::before {content: \"\";position: absolute;border-left: 1px solid gray;box-sizing: border-box;top: 0;bottom: 0;left: 50%;z-index: 0;}#sk-container-id-10 div.sk-serial {display: flex;flex-direction: column;align-items: center;background-color: white;padding-right: 0.2em;padding-left: 0.2em;position: relative;}#sk-container-id-10 div.sk-item {position: relative;z-index: 1;}#sk-container-id-10 div.sk-parallel {display: flex;align-items: stretch;justify-content: center;background-color: white;position: relative;}#sk-container-id-10 div.sk-item::before, #sk-container-id-10 div.sk-parallel-item::before {content: \"\";position: absolute;border-left: 1px solid gray;box-sizing: border-box;top: 0;bottom: 0;left: 50%;z-index: -1;}#sk-container-id-10 div.sk-parallel-item {display: flex;flex-direction: column;z-index: 1;position: relative;background-color: white;}#sk-container-id-10 div.sk-parallel-item:first-child::after {align-self: flex-end;width: 50%;}#sk-container-id-10 div.sk-parallel-item:last-child::after {align-self: flex-start;width: 50%;}#sk-container-id-10 div.sk-parallel-item:only-child::after {width: 0;}#sk-container-id-10 div.sk-dashed-wrapped {border: 1px dashed gray;margin: 0 0.4em 0.5em 0.4em;box-sizing: border-box;padding-bottom: 0.4em;background-color: white;}#sk-container-id-10 div.sk-label label {font-family: monospace;font-weight: bold;display: inline-block;line-height: 1.2em;}#sk-container-id-10 div.sk-label-container {text-align: center;}#sk-container-id-10 div.sk-container {/* jupyter's `normalize.less` sets `[hidden] { display: none; }` but bootstrap.min.css set `[hidden] { display: none !important; }` so we also need the `!important` here to be able to override the default hidden behavior on the sphinx rendered scikit-learn.org. See: https://github.com/scikit-learn/scikit-learn/issues/21755 */display: inline-block !important;position: relative;}#sk-container-id-10 div.sk-text-repr-fallback {display: none;}</style><div id=\"sk-container-id-10\" class=\"sk-top-container\"><div class=\"sk-text-repr-fallback\"><pre>RandomForestClassifier(max_depth=10, random_state=0)</pre><b>In a Jupyter environment, please rerun this cell to show the HTML representation or trust the notebook. <br />On GitHub, the HTML representation is unable to render, please try loading this page with nbviewer.org.</b></div><div class=\"sk-container\" hidden><div class=\"sk-item\"><div class=\"sk-estimator sk-toggleable\"><input class=\"sk-toggleable__control sk-hidden--visually\" id=\"sk-estimator-id-10\" type=\"checkbox\" checked><label for=\"sk-estimator-id-10\" class=\"sk-toggleable__label sk-toggleable__label-arrow\">RandomForestClassifier</label><div class=\"sk-toggleable__content\"><pre>RandomForestClassifier(max_depth=10, random_state=0)</pre></div></div></div></div></div>"
            ]
          },
          "metadata": {},
          "execution_count": 151
        }
      ]
    },
    {
      "cell_type": "code",
      "source": [
        "preds = clf.predict(X_test)"
      ],
      "metadata": {
        "id": "sjeJpXnf0yVy"
      },
      "execution_count": 152,
      "outputs": []
    },
    {
      "cell_type": "code",
      "source": [
        "from sklearn.metrics import confusion_matrix\n",
        "import sklearn"
      ],
      "metadata": {
        "id": "vvEwyCV00-bG"
      },
      "execution_count": 153,
      "outputs": []
    },
    {
      "cell_type": "code",
      "source": [
        "sklearn.metrics.confusion_matrix(y_test, preds)"
      ],
      "metadata": {
        "colab": {
          "base_uri": "https://localhost:8080/"
        },
        "id": "ROUHZce81fqA",
        "outputId": "e02501bf-5eb2-4317-a2cd-1a2bceb155d5"
      },
      "execution_count": 154,
      "outputs": [
        {
          "output_type": "execute_result",
          "data": {
            "text/plain": [
              "array([[5413, 2587],\n",
              "       [3581, 4419]])"
            ]
          },
          "metadata": {},
          "execution_count": 154
        }
      ]
    },
    {
      "cell_type": "code",
      "source": [
        "print (clf.score(X_train, y_train))\n",
        "print(clf.score(X_test, y_test))"
      ],
      "metadata": {
        "colab": {
          "base_uri": "https://localhost:8080/"
        },
        "id": "SHDh8HEf1iXw",
        "outputId": "1a6164f9-f53e-498b-b057-fa8b44a6abdf"
      },
      "execution_count": 155,
      "outputs": [
        {
          "output_type": "stream",
          "name": "stdout",
          "text": [
            "0.6637\n",
            "0.6145\n"
          ]
        }
      ]
    },
    {
      "cell_type": "code",
      "source": [
        "importance = clf.feature_importances_"
      ],
      "metadata": {
        "id": "aDcDqM4j1nUf"
      },
      "execution_count": 156,
      "outputs": []
    },
    {
      "cell_type": "code",
      "source": [
        "for i,v in enumerate(importance):\n",
        " print(f'Feature: {cols[i]} Score: {v}')\n",
        "# plot feature importance\n",
        "plt.bar([x for x in range(len(importance))], importance)\n",
        "plt.show()"
      ],
      "metadata": {
        "colab": {
          "base_uri": "https://localhost:8080/",
          "height": 407
        },
        "id": "hTOBkMeI16o9",
        "outputId": "21839fb6-99b7-4261-95b3-3b5af279e646"
      },
      "execution_count": 157,
      "outputs": [
        {
          "output_type": "stream",
          "name": "stdout",
          "text": [
            "Feature: odds_diff Score: 0.5378132269490201\n",
            "Feature: home_team_pos_str Score: 0.013300575805555182\n",
            "Feature: away_team_pos_str Score: 0.016340194401124986\n",
            "Feature: Pos_diff Score: 0.028069135202436035\n",
            "Feature: strength Score: 0.13342546961126747\n",
            "Feature: away_strength Score: 0.10633945440493989\n",
            "Feature: home_ratio Score: 0.00015914776228647748\n",
            "Feature: away_ratio Score: 0.16455279586336985\n"
          ]
        },
        {
          "output_type": "display_data",
          "data": {
            "text/plain": [
              "<Figure size 432x288 with 1 Axes>"
            ],
            "image/png": "[encoded data removed]"
          },
          "metadata": {}
        }
      ]
    },
    {
      "cell_type": "code",
      "source": [
        "from keras.models import Sequential\n",
        "from keras.layers import Dense"
      ],
      "metadata": {
        "id": "OxvB2wox2PMS"
      },
      "execution_count": 158,
      "outputs": []
    },
    {
      "cell_type": "code",
      "source": [
        "model = Sequential() \n",
        "model.add(Dense(128, activation='relu', input_dim=8))\n",
        "model.add(Dense(1, activation='sigmoid')) \n",
        "model.compile(loss='binary_crossentropy', optimizer='adam', metrics=['accuracy']) \n",
        "model.summary()"
      ],
      "metadata": {
        "colab": {
          "base_uri": "https://localhost:8080/"
        },
        "id": "HbvJhpAp33RD",
        "outputId": "3d2adb5c-f4f5-4200-f6b9-71acf39a0c3c"
      },
      "execution_count": 159,
      "outputs": [
        {
          "output_type": "stream",
          "name": "stdout",
          "text": [
            "Model: \"sequential_1\"\n",
            "_________________________________________________________________\n",
            " Layer (type)                Output Shape              Param #   \n",
            "=================================================================\n",
            " dense_2 (Dense)             (None, 128)               1152      \n",
            "                                                                 \n",
            " dense_3 (Dense)             (None, 1)                 129       \n",
            "                                                                 \n",
            "=================================================================\n",
            "Total params: 1,281\n",
            "Trainable params: 1,281\n",
            "Non-trainable params: 0\n",
            "_________________________________________________________________\n"
          ]
        }
      ]
    },
    {
      "cell_type": "code",
      "source": [
        "hist = model.fit(X_train, y_train, validation_data=(X_test, y_test), epochs=100, batch_size=100)"
      ],
      "metadata": {
        "colab": {
          "base_uri": "https://localhost:8080/"
        },
        "id": "NQiXws1u38mi",
        "outputId": "53b9e1f2-a7dc-4eaf-e124-6c803aed337e"
      },
      "execution_count": 160,
      "outputs": [
        {
          "output_type": "stream",
          "name": "stdout",
          "text": [
            "Epoch 1/100\n",
            "400/400 [==============================] - 2s 3ms/step - loss: 0.6569 - accuracy: 0.6077 - val_loss: 0.6475 - val_accuracy: 0.6092\n",
            "Epoch 2/100\n",
            "400/400 [==============================] - 1s 3ms/step - loss: 0.6444 - accuracy: 0.6200 - val_loss: 0.6460 - val_accuracy: 0.6093\n",
            "Epoch 3/100\n",
            "400/400 [==============================] - 1s 3ms/step - loss: 0.6432 - accuracy: 0.6217 - val_loss: 0.6447 - val_accuracy: 0.6091\n",
            "Epoch 4/100\n",
            "400/400 [==============================] - 1s 3ms/step - loss: 0.6431 - accuracy: 0.6222 - val_loss: 0.6525 - val_accuracy: 0.6014\n",
            "Epoch 5/100\n",
            "400/400 [==============================] - 2s 4ms/step - loss: 0.6430 - accuracy: 0.6223 - val_loss: 0.6446 - val_accuracy: 0.6089\n",
            "Epoch 6/100\n",
            "400/400 [==============================] - 2s 4ms/step - loss: 0.6424 - accuracy: 0.6225 - val_loss: 0.6447 - val_accuracy: 0.6104\n",
            "Epoch 7/100\n",
            "400/400 [==============================] - 1s 3ms/step - loss: 0.6427 - accuracy: 0.6222 - val_loss: 0.6512 - val_accuracy: 0.6037\n",
            "Epoch 8/100\n",
            "400/400 [==============================] - 1s 3ms/step - loss: 0.6422 - accuracy: 0.6226 - val_loss: 0.6530 - val_accuracy: 0.6026\n",
            "Epoch 9/100\n",
            "400/400 [==============================] - 1s 3ms/step - loss: 0.6424 - accuracy: 0.6217 - val_loss: 0.6460 - val_accuracy: 0.6082\n",
            "Epoch 10/100\n",
            "400/400 [==============================] - 1s 3ms/step - loss: 0.6420 - accuracy: 0.6234 - val_loss: 0.6469 - val_accuracy: 0.6077\n",
            "Epoch 11/100\n",
            "400/400 [==============================] - 1s 3ms/step - loss: 0.6423 - accuracy: 0.6220 - val_loss: 0.6506 - val_accuracy: 0.6044\n",
            "Epoch 12/100\n",
            "400/400 [==============================] - 1s 3ms/step - loss: 0.6424 - accuracy: 0.6223 - val_loss: 0.6501 - val_accuracy: 0.6056\n",
            "Epoch 13/100\n",
            "400/400 [==============================] - 1s 3ms/step - loss: 0.6419 - accuracy: 0.6229 - val_loss: 0.6589 - val_accuracy: 0.5964\n",
            "Epoch 14/100\n",
            "400/400 [==============================] - 2s 4ms/step - loss: 0.6430 - accuracy: 0.6216 - val_loss: 0.6565 - val_accuracy: 0.5987\n",
            "Epoch 15/100\n",
            "400/400 [==============================] - 2s 6ms/step - loss: 0.6424 - accuracy: 0.6218 - val_loss: 0.6537 - val_accuracy: 0.6002\n",
            "Epoch 16/100\n",
            "400/400 [==============================] - 1s 3ms/step - loss: 0.6417 - accuracy: 0.6242 - val_loss: 0.6527 - val_accuracy: 0.6020\n",
            "Epoch 17/100\n",
            "400/400 [==============================] - 1s 3ms/step - loss: 0.6421 - accuracy: 0.6237 - val_loss: 0.6524 - val_accuracy: 0.6032\n",
            "Epoch 18/100\n",
            "400/400 [==============================] - 1s 3ms/step - loss: 0.6423 - accuracy: 0.6238 - val_loss: 0.6586 - val_accuracy: 0.5948\n",
            "Epoch 19/100\n",
            "400/400 [==============================] - 1s 3ms/step - loss: 0.6420 - accuracy: 0.6235 - val_loss: 0.6589 - val_accuracy: 0.5947\n",
            "Epoch 20/100\n",
            "400/400 [==============================] - 1s 3ms/step - loss: 0.6419 - accuracy: 0.6232 - val_loss: 0.6672 - val_accuracy: 0.5836\n",
            "Epoch 21/100\n",
            "400/400 [==============================] - 1s 3ms/step - loss: 0.6419 - accuracy: 0.6237 - val_loss: 0.6612 - val_accuracy: 0.5934\n",
            "Epoch 22/100\n",
            "400/400 [==============================] - 1s 3ms/step - loss: 0.6420 - accuracy: 0.6196 - val_loss: 0.6688 - val_accuracy: 0.5807\n",
            "Epoch 23/100\n",
            "400/400 [==============================] - 1s 3ms/step - loss: 0.6419 - accuracy: 0.6220 - val_loss: 0.6579 - val_accuracy: 0.5956\n",
            "Epoch 24/100\n",
            "400/400 [==============================] - 2s 6ms/step - loss: 0.6418 - accuracy: 0.6245 - val_loss: 0.6715 - val_accuracy: 0.5806\n",
            "Epoch 25/100\n",
            "400/400 [==============================] - 1s 3ms/step - loss: 0.6420 - accuracy: 0.6219 - val_loss: 0.6577 - val_accuracy: 0.5957\n",
            "Epoch 26/100\n",
            "400/400 [==============================] - 1s 3ms/step - loss: 0.6418 - accuracy: 0.6227 - val_loss: 0.6647 - val_accuracy: 0.5876\n",
            "Epoch 27/100\n",
            "400/400 [==============================] - 1s 3ms/step - loss: 0.6418 - accuracy: 0.6236 - val_loss: 0.6721 - val_accuracy: 0.5782\n",
            "Epoch 28/100\n",
            "400/400 [==============================] - 1s 3ms/step - loss: 0.6418 - accuracy: 0.6220 - val_loss: 0.6563 - val_accuracy: 0.5968\n",
            "Epoch 29/100\n",
            "400/400 [==============================] - 1s 3ms/step - loss: 0.6417 - accuracy: 0.6231 - val_loss: 0.6626 - val_accuracy: 0.5917\n",
            "Epoch 30/100\n",
            "400/400 [==============================] - 1s 3ms/step - loss: 0.6416 - accuracy: 0.6232 - val_loss: 0.6698 - val_accuracy: 0.5813\n",
            "Epoch 31/100\n",
            "400/400 [==============================] - 1s 3ms/step - loss: 0.6417 - accuracy: 0.6225 - val_loss: 0.6746 - val_accuracy: 0.5785\n",
            "Epoch 32/100\n",
            "400/400 [==============================] - 1s 3ms/step - loss: 0.6420 - accuracy: 0.6250 - val_loss: 0.6589 - val_accuracy: 0.5936\n",
            "Epoch 33/100\n",
            "400/400 [==============================] - 2s 5ms/step - loss: 0.6415 - accuracy: 0.6229 - val_loss: 0.6788 - val_accuracy: 0.5762\n",
            "Epoch 34/100\n",
            "400/400 [==============================] - 2s 4ms/step - loss: 0.6416 - accuracy: 0.6232 - val_loss: 0.6632 - val_accuracy: 0.5907\n",
            "Epoch 35/100\n",
            "400/400 [==============================] - 1s 3ms/step - loss: 0.6416 - accuracy: 0.6234 - val_loss: 0.6583 - val_accuracy: 0.5951\n",
            "Epoch 36/100\n",
            "400/400 [==============================] - 1s 3ms/step - loss: 0.6415 - accuracy: 0.6229 - val_loss: 0.6768 - val_accuracy: 0.5755\n",
            "Epoch 37/100\n",
            "400/400 [==============================] - 1s 3ms/step - loss: 0.6416 - accuracy: 0.6231 - val_loss: 0.6581 - val_accuracy: 0.5959\n",
            "Epoch 38/100\n",
            "400/400 [==============================] - 1s 3ms/step - loss: 0.6415 - accuracy: 0.6223 - val_loss: 0.6725 - val_accuracy: 0.5789\n",
            "Epoch 39/100\n",
            "400/400 [==============================] - 1s 3ms/step - loss: 0.6416 - accuracy: 0.6230 - val_loss: 0.6645 - val_accuracy: 0.5869\n",
            "Epoch 40/100\n",
            "400/400 [==============================] - 1s 3ms/step - loss: 0.6416 - accuracy: 0.6227 - val_loss: 0.6803 - val_accuracy: 0.5731\n",
            "Epoch 41/100\n",
            "400/400 [==============================] - 1s 3ms/step - loss: 0.6414 - accuracy: 0.6234 - val_loss: 0.6731 - val_accuracy: 0.5776\n",
            "Epoch 42/100\n",
            "400/400 [==============================] - 2s 4ms/step - loss: 0.6414 - accuracy: 0.6237 - val_loss: 0.6719 - val_accuracy: 0.5826\n",
            "Epoch 43/100\n",
            "400/400 [==============================] - 2s 5ms/step - loss: 0.6416 - accuracy: 0.6225 - val_loss: 0.6714 - val_accuracy: 0.5811\n",
            "Epoch 44/100\n",
            "400/400 [==============================] - 3s 7ms/step - loss: 0.6413 - accuracy: 0.6227 - val_loss: 0.6712 - val_accuracy: 0.5820\n",
            "Epoch 45/100\n",
            "400/400 [==============================] - 1s 3ms/step - loss: 0.6417 - accuracy: 0.6248 - val_loss: 0.6725 - val_accuracy: 0.5793\n",
            "Epoch 46/100\n",
            "400/400 [==============================] - 1s 3ms/step - loss: 0.6414 - accuracy: 0.6229 - val_loss: 0.6766 - val_accuracy: 0.5787\n",
            "Epoch 47/100\n",
            "400/400 [==============================] - 1s 3ms/step - loss: 0.6414 - accuracy: 0.6221 - val_loss: 0.6772 - val_accuracy: 0.5762\n",
            "Epoch 48/100\n",
            "400/400 [==============================] - 1s 3ms/step - loss: 0.6416 - accuracy: 0.6233 - val_loss: 0.6816 - val_accuracy: 0.5736\n",
            "Epoch 49/100\n",
            "400/400 [==============================] - 1s 3ms/step - loss: 0.6414 - accuracy: 0.6237 - val_loss: 0.6795 - val_accuracy: 0.5746\n",
            "Epoch 50/100\n",
            "400/400 [==============================] - 1s 3ms/step - loss: 0.6412 - accuracy: 0.6232 - val_loss: 0.6768 - val_accuracy: 0.5764\n",
            "Epoch 51/100\n",
            "400/400 [==============================] - 2s 5ms/step - loss: 0.6415 - accuracy: 0.6236 - val_loss: 0.6699 - val_accuracy: 0.5834\n",
            "Epoch 52/100\n",
            "400/400 [==============================] - 1s 4ms/step - loss: 0.6415 - accuracy: 0.6229 - val_loss: 0.6767 - val_accuracy: 0.5752\n",
            "Epoch 53/100\n",
            "400/400 [==============================] - 1s 3ms/step - loss: 0.6413 - accuracy: 0.6238 - val_loss: 0.6878 - val_accuracy: 0.5694\n",
            "Epoch 54/100\n",
            "400/400 [==============================] - 1s 3ms/step - loss: 0.6412 - accuracy: 0.6246 - val_loss: 0.6737 - val_accuracy: 0.5773\n",
            "Epoch 55/100\n",
            "400/400 [==============================] - 1s 3ms/step - loss: 0.6414 - accuracy: 0.6249 - val_loss: 0.6830 - val_accuracy: 0.5724\n",
            "Epoch 56/100\n",
            "400/400 [==============================] - 1s 3ms/step - loss: 0.6411 - accuracy: 0.6241 - val_loss: 0.6778 - val_accuracy: 0.5744\n",
            "Epoch 57/100\n",
            "400/400 [==============================] - 1s 3ms/step - loss: 0.6414 - accuracy: 0.6225 - val_loss: 0.6897 - val_accuracy: 0.5662\n",
            "Epoch 58/100\n",
            "400/400 [==============================] - 1s 3ms/step - loss: 0.6410 - accuracy: 0.6248 - val_loss: 0.6995 - val_accuracy: 0.5626\n",
            "Epoch 59/100\n",
            "400/400 [==============================] - 1s 3ms/step - loss: 0.6412 - accuracy: 0.6224 - val_loss: 0.6650 - val_accuracy: 0.5875\n",
            "Epoch 60/100\n",
            "400/400 [==============================] - 2s 5ms/step - loss: 0.6413 - accuracy: 0.6240 - val_loss: 0.6924 - val_accuracy: 0.5670\n",
            "Epoch 61/100\n",
            "400/400 [==============================] - 2s 5ms/step - loss: 0.6412 - accuracy: 0.6225 - val_loss: 0.6876 - val_accuracy: 0.5685\n",
            "Epoch 62/100\n",
            "400/400 [==============================] - 1s 3ms/step - loss: 0.6409 - accuracy: 0.6247 - val_loss: 0.6885 - val_accuracy: 0.5692\n",
            "Epoch 63/100\n",
            "400/400 [==============================] - 1s 3ms/step - loss: 0.6411 - accuracy: 0.6246 - val_loss: 0.6987 - val_accuracy: 0.5605\n",
            "Epoch 64/100\n",
            "400/400 [==============================] - 1s 3ms/step - loss: 0.6412 - accuracy: 0.6252 - val_loss: 0.6777 - val_accuracy: 0.5745\n",
            "Epoch 65/100\n",
            "400/400 [==============================] - 1s 3ms/step - loss: 0.6413 - accuracy: 0.6223 - val_loss: 0.6945 - val_accuracy: 0.5649\n",
            "Epoch 66/100\n",
            "400/400 [==============================] - 1s 3ms/step - loss: 0.6412 - accuracy: 0.6240 - val_loss: 0.6849 - val_accuracy: 0.5702\n",
            "Epoch 67/100\n",
            "400/400 [==============================] - 1s 3ms/step - loss: 0.6411 - accuracy: 0.6221 - val_loss: 0.6945 - val_accuracy: 0.5662\n",
            "Epoch 68/100\n",
            "400/400 [==============================] - 1s 3ms/step - loss: 0.6410 - accuracy: 0.6241 - val_loss: 0.6892 - val_accuracy: 0.5673\n",
            "Epoch 69/100\n",
            "400/400 [==============================] - 4s 11ms/step - loss: 0.6410 - accuracy: 0.6228 - val_loss: 0.6900 - val_accuracy: 0.5651\n",
            "Epoch 70/100\n",
            "400/400 [==============================] - 1s 3ms/step - loss: 0.6413 - accuracy: 0.6241 - val_loss: 0.6992 - val_accuracy: 0.5608\n",
            "Epoch 71/100\n",
            "400/400 [==============================] - 2s 4ms/step - loss: 0.6410 - accuracy: 0.6240 - val_loss: 0.6926 - val_accuracy: 0.5662\n",
            "Epoch 72/100\n",
            "400/400 [==============================] - 2s 5ms/step - loss: 0.6412 - accuracy: 0.6246 - val_loss: 0.6872 - val_accuracy: 0.5689\n",
            "Epoch 73/100\n",
            "400/400 [==============================] - 1s 3ms/step - loss: 0.6411 - accuracy: 0.6254 - val_loss: 0.6847 - val_accuracy: 0.5698\n",
            "Epoch 74/100\n",
            "400/400 [==============================] - 1s 3ms/step - loss: 0.6410 - accuracy: 0.6246 - val_loss: 0.6886 - val_accuracy: 0.5661\n",
            "Epoch 75/100\n",
            "400/400 [==============================] - 1s 3ms/step - loss: 0.6409 - accuracy: 0.6241 - val_loss: 0.6947 - val_accuracy: 0.5631\n",
            "Epoch 76/100\n",
            "400/400 [==============================] - 1s 3ms/step - loss: 0.6409 - accuracy: 0.6235 - val_loss: 0.6976 - val_accuracy: 0.5591\n",
            "Epoch 77/100\n",
            "400/400 [==============================] - 2s 5ms/step - loss: 0.6410 - accuracy: 0.6236 - val_loss: 0.6936 - val_accuracy: 0.5649\n",
            "Epoch 78/100\n",
            "400/400 [==============================] - 1s 4ms/step - loss: 0.6411 - accuracy: 0.6238 - val_loss: 0.7024 - val_accuracy: 0.5595\n",
            "Epoch 79/100\n",
            "400/400 [==============================] - 1s 3ms/step - loss: 0.6410 - accuracy: 0.6245 - val_loss: 0.7146 - val_accuracy: 0.5536\n",
            "Epoch 80/100\n",
            "400/400 [==============================] - 1s 3ms/step - loss: 0.6412 - accuracy: 0.6246 - val_loss: 0.7065 - val_accuracy: 0.5567\n",
            "Epoch 81/100\n",
            "400/400 [==============================] - 1s 3ms/step - loss: 0.6409 - accuracy: 0.6244 - val_loss: 0.6924 - val_accuracy: 0.5638\n",
            "Epoch 82/100\n",
            "400/400 [==============================] - 1s 3ms/step - loss: 0.6410 - accuracy: 0.6239 - val_loss: 0.7067 - val_accuracy: 0.5560\n",
            "Epoch 83/100\n",
            "400/400 [==============================] - 1s 3ms/step - loss: 0.6411 - accuracy: 0.6232 - val_loss: 0.7063 - val_accuracy: 0.5590\n",
            "Epoch 84/100\n",
            "400/400 [==============================] - 1s 3ms/step - loss: 0.6412 - accuracy: 0.6227 - val_loss: 0.7064 - val_accuracy: 0.5583\n",
            "Epoch 85/100\n",
            "400/400 [==============================] - 1s 3ms/step - loss: 0.6411 - accuracy: 0.6232 - val_loss: 0.6960 - val_accuracy: 0.5639\n",
            "Epoch 86/100\n",
            "400/400 [==============================] - 2s 5ms/step - loss: 0.6409 - accuracy: 0.6238 - val_loss: 0.7023 - val_accuracy: 0.5616\n",
            "Epoch 87/100\n",
            "400/400 [==============================] - 1s 4ms/step - loss: 0.6408 - accuracy: 0.6245 - val_loss: 0.6948 - val_accuracy: 0.5630\n",
            "Epoch 88/100\n",
            "400/400 [==============================] - 1s 3ms/step - loss: 0.6409 - accuracy: 0.6233 - val_loss: 0.7092 - val_accuracy: 0.5569\n",
            "Epoch 89/100\n",
            "400/400 [==============================] - 1s 3ms/step - loss: 0.6408 - accuracy: 0.6238 - val_loss: 0.7235 - val_accuracy: 0.5533\n",
            "Epoch 90/100\n",
            "400/400 [==============================] - 1s 3ms/step - loss: 0.6410 - accuracy: 0.6225 - val_loss: 0.7165 - val_accuracy: 0.5543\n",
            "Epoch 91/100\n",
            "400/400 [==============================] - 1s 3ms/step - loss: 0.6410 - accuracy: 0.6227 - val_loss: 0.7132 - val_accuracy: 0.5530\n",
            "Epoch 92/100\n",
            "400/400 [==============================] - 1s 3ms/step - loss: 0.6410 - accuracy: 0.6247 - val_loss: 0.7068 - val_accuracy: 0.5576\n",
            "Epoch 93/100\n",
            "400/400 [==============================] - 1s 3ms/step - loss: 0.6409 - accuracy: 0.6246 - val_loss: 0.6984 - val_accuracy: 0.5594\n",
            "Epoch 94/100\n",
            "400/400 [==============================] - 1s 3ms/step - loss: 0.6410 - accuracy: 0.6240 - val_loss: 0.7057 - val_accuracy: 0.5569\n",
            "Epoch 95/100\n",
            "400/400 [==============================] - 2s 4ms/step - loss: 0.6408 - accuracy: 0.6234 - val_loss: 0.7081 - val_accuracy: 0.5584\n",
            "Epoch 96/100\n",
            "400/400 [==============================] - 2s 5ms/step - loss: 0.6409 - accuracy: 0.6233 - val_loss: 0.7031 - val_accuracy: 0.5577\n",
            "Epoch 97/100\n",
            "400/400 [==============================] - 1s 3ms/step - loss: 0.6408 - accuracy: 0.6233 - val_loss: 0.7062 - val_accuracy: 0.5561\n",
            "Epoch 98/100\n",
            "400/400 [==============================] - 1s 3ms/step - loss: 0.6407 - accuracy: 0.6260 - val_loss: 0.7167 - val_accuracy: 0.5536\n",
            "Epoch 99/100\n",
            "400/400 [==============================] - 1s 3ms/step - loss: 0.6409 - accuracy: 0.6230 - val_loss: 0.7254 - val_accuracy: 0.5490\n",
            "Epoch 100/100\n",
            "400/400 [==============================] - 1s 3ms/step - loss: 0.6408 - accuracy: 0.6250 - val_loss: 0.7064 - val_accuracy: 0.5569\n"
          ]
        }
      ]
    },
    {
      "cell_type": "code",
      "source": [
        "import matplotlib.pyplot as plt\n",
        "%matplotlib inline\n",
        "import seaborn as sns\n",
        "sns.set()\n",
        " \n",
        "acc = hist.history['accuracy']\n",
        "val = hist.history['val_accuracy']\n",
        "epochs = range(1, len(acc) + 1)\n",
        " \n",
        "plt.plot(epochs, acc, '-', label='Training accuracy')\n",
        "plt.plot(epochs, val, ':', label='Validation accuracy')\n",
        "plt.title('Training and Validation Accuracy')\n",
        "plt.xlabel('Epoch')\n",
        "plt.ylabel('Accuracy')\n",
        "plt.legend(loc='lower right')\n",
        "plt.plot()"
      ],
      "metadata": {
        "colab": {
          "base_uri": "https://localhost:8080/",
          "height": 318
        },
        "id": "OY8Q5TUz4EjB",
        "outputId": "56151f28-e3e1-4046-c23a-bc604f0c20bc"
      },
      "execution_count": 161,
      "outputs": [
        {
          "output_type": "execute_result",
          "data": {
            "text/plain": [
              "[]"
            ]
          },
          "metadata": {},
          "execution_count": 161
        },
        {
          "output_type": "display_data",
          "data": {
            "text/plain": [
              "<Figure size 432x288 with 1 Axes>"
            ],
            "image/png": "[encoded data removed]"
          },
          "metadata": {}
        }
      ]
    },
    {
      "cell_type": "code",
      "source": [
        "y_predicted = model.predict(X_test) > 0.5\n",
        "mat = confusion_matrix(y_test, y_predicted)\n",
        "labels = ['0', '1']\n",
        " \n",
        "sns.heatmap(mat, square=True, annot=True, fmt='d', cbar=False, cmap='Blues',\n",
        "            xticklabels=labels, yticklabels=labels)\n",
        " \n",
        "plt.xlabel('Pred')\n",
        "plt.ylabel('Actual')"
      ],
      "metadata": {
        "colab": {
          "base_uri": "https://localhost:8080/",
          "height": 320
        },
        "id": "bWrbmiKI5APj",
        "outputId": "20644ace-1832-476b-aa7a-15ea8df834da"
      },
      "execution_count": 162,
      "outputs": [
        {
          "output_type": "stream",
          "name": "stdout",
          "text": [
            "500/500 [==============================] - 1s 2ms/step\n"
          ]
        },
        {
          "output_type": "execute_result",
          "data": {
            "text/plain": [
              "Text(89.18, 0.5, 'Actual')"
            ]
          },
          "metadata": {},
          "execution_count": 162
        },
        {
          "output_type": "display_data",
          "data": {
            "text/plain": [
              "<Figure size 432x288 with 1 Axes>"
            ],
            "image/png": "[encoded data removed]"
          },
          "metadata": {}
        }
      ]
    },
    {
      "cell_type": "code",
      "source": [],
      "metadata": {
        "id": "ayTmrDso5Hvy"
      },
      "execution_count": null,
      "outputs": []
    }
  ]
}