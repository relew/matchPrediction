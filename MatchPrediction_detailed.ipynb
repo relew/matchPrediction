{
  "nbformat": 4,
  "nbformat_minor": 0,
  "metadata": {
    "colab": {
      "provenance": [],
      "authorship_tag": "ABX9TyPvq3YDXLyAjobwuWGwEjEH",
      "include_colab_link": true
    },
    "kernelspec": {
      "name": "python3",
      "display_name": "Python 3"
    },
    "language_info": {
      "name": "python"
    }
  },
  "cells": [
    {
      "cell_type": "markdown",
      "metadata": {
        "id": "view-in-github",
        "colab_type": "text"
      },
      "source": [
        "<a href=\"https://colab.research.google.com/github/relew/matchPrediction/blob/master/MatchPrediction_detailed.ipynb\" target=\"_parent\"><img src=\"https://colab.research.google.com/assets/colab-badge.svg\" alt=\"Open In Colab\"/></a>"
      ]
    },
    {
      "cell_type": "code",
      "execution_count": null,
      "metadata": {
        "id": "k1WeR3xPgYIT"
      },
      "outputs": [],
      "source": [
        "import pandas as pd\n",
        "import seaborn as sns\n",
        "import matplotlib.pyplot as plt\n",
        "import numpy as np\n",
        "from sklearn.decomposition import PCA"
      ]
    },
    {
      "cell_type": "code",
      "source": [
        "url = 'http://dataevents.hu/202303/filedataevents/competition_table.xlsx'"
      ],
      "metadata": {
        "id": "OBc-ut-_gecG"
      },
      "execution_count": null,
      "outputs": []
    },
    {
      "cell_type": "code",
      "source": [
        "data = pd.read_excel(url)"
      ],
      "metadata": {
        "id": "apS-cNmHggmV"
      },
      "execution_count": null,
      "outputs": []
    },
    {
      "cell_type": "code",
      "source": [
        "data.columns = data.columns.str.replace(\"yelllow\", \"yellow\")"
      ],
      "metadata": {
        "id": "tZPUBFuRdHod"
      },
      "execution_count": null,
      "outputs": []
    },
    {
      "cell_type": "code",
      "source": [
        "data.head()"
      ],
      "metadata": {
        "colab": {
          "base_uri": "https://localhost:8080/",
          "height": 386
        },
        "id": "FVPdTVBmglMc",
        "outputId": "79ad6426-2293-4075-8a96-4cd306588745"
      },
      "execution_count": null,
      "outputs": [
        {
          "output_type": "execute_result",
          "data": {
            "text/plain": [
              "   match_id     season   div  odds_home_team_win  odds_draw  \\\n",
              "0         0  2008-2009  div0                1.73        3.5   \n",
              "1         1  2008-2009  div0                1.25        5.5   \n",
              "2         2  2008-2009  div0                1.57        3.8   \n",
              "3         3  2008-2009  div0                1.17        7.0   \n",
              "4         4  2008-2009  div0                1.17        7.0   \n",
              "\n",
              "   odds_away_team_win  home_team_match_nr  home_team_goal_roll1_sum  \\\n",
              "0                5.00                   5                         3   \n",
              "1               12.00                   7                         0   \n",
              "2                5.75                   9                         1   \n",
              "3               15.00                  11                         2   \n",
              "4               15.00                  14                         2   \n",
              "\n",
              "   home_team_goal_roll2_sum  home_team_goal_roll3_sum  ...  \\\n",
              "0                         7                         8  ...   \n",
              "1                         2                         5  ...   \n",
              "2                         4                         4  ...   \n",
              "3                         6                         7  ...   \n",
              "4                         4                         7  ...   \n",
              "\n",
              "   odds_away_team_draw_roll4_mean  odds_away_team_defeat_roll1_mean  \\\n",
              "0                           3.825                             11.00   \n",
              "1                           3.582                              2.10   \n",
              "2                           3.525                              6.75   \n",
              "3                           3.975                              4.20   \n",
              "4                           3.925                              3.10   \n",
              "\n",
              "   odds_away_team_defeat_roll2_mean  odds_away_team_defeat_roll3_mean  \\\n",
              "0                             7.665                             6.377   \n",
              "1                             2.250                             2.833   \n",
              "2                             4.275                             3.883   \n",
              "3                             2.750                             2.333   \n",
              "4                             2.175                             2.050   \n",
              "\n",
              "   odds_away_team_defeat_roll4_mean  away_team_point_mean  \\\n",
              "0                             5.908                 0.500   \n",
              "1                             2.475                 0.333   \n",
              "2                             3.638                 0.750   \n",
              "3                             2.550                 0.600   \n",
              "4                             2.015                 0.833   \n",
              "\n",
              "   away_team_expected_point_mean  home_win_flag  draw_flag  away_win_flag  \n",
              "0                            3.0              0          0              1  \n",
              "1                            0.0              0          1              0  \n",
              "2                            1.5              1          0              0  \n",
              "3                            0.0              1          0              0  \n",
              "4                            0.0              1          0              0  \n",
              "\n",
              "[5 rows x 167 columns]"
            ],
            "text/html": [
              "\n",
              "  <div id=\"df-45e0ad99-a793-480f-af62-36467d7055d1\">\n",
              "    <div class=\"colab-df-container\">\n",
              "      <div>\n",
              "<style scoped>\n",
              "    .dataframe tbody tr th:only-of-type {\n",
              "        vertical-align: middle;\n",
              "    }\n",
              "\n",
              "    .dataframe tbody tr th {\n",
              "        vertical-align: top;\n",
              "    }\n",
              "\n",
              "    .dataframe thead th {\n",
              "        text-align: right;\n",
              "    }\n",
              "</style>\n",
              "<table border=\"1\" class=\"dataframe\">\n",
              "  <thead>\n",
              "    <tr style=\"text-align: right;\">\n",
              "      <th></th>\n",
              "      <th>match_id</th>\n",
              "      <th>season</th>\n",
              "      <th>div</th>\n",
              "      <th>odds_home_team_win</th>\n",
              "      <th>odds_draw</th>\n",
              "      <th>odds_away_team_win</th>\n",
              "      <th>home_team_match_nr</th>\n",
              "      <th>home_team_goal_roll1_sum</th>\n",
              "      <th>home_team_goal_roll2_sum</th>\n",
              "      <th>home_team_goal_roll3_sum</th>\n",
              "      <th>...</th>\n",
              "      <th>odds_away_team_draw_roll4_mean</th>\n",
              "      <th>odds_away_team_defeat_roll1_mean</th>\n",
              "      <th>odds_away_team_defeat_roll2_mean</th>\n",
              "      <th>odds_away_team_defeat_roll3_mean</th>\n",
              "      <th>odds_away_team_defeat_roll4_mean</th>\n",
              "      <th>away_team_point_mean</th>\n",
              "      <th>away_team_expected_point_mean</th>\n",
              "      <th>home_win_flag</th>\n",
              "      <th>draw_flag</th>\n",
              "      <th>away_win_flag</th>\n",
              "    </tr>\n",
              "  </thead>\n",
              "  <tbody>\n",
              "    <tr>\n",
              "      <th>0</th>\n",
              "      <td>0</td>\n",
              "      <td>2008-2009</td>\n",
              "      <td>div0</td>\n",
              "      <td>1.73</td>\n",
              "      <td>3.5</td>\n",
              "      <td>5.00</td>\n",
              "      <td>5</td>\n",
              "      <td>3</td>\n",
              "      <td>7</td>\n",
              "      <td>8</td>\n",
              "      <td>...</td>\n",
              "      <td>3.825</td>\n",
              "      <td>11.00</td>\n",
              "      <td>7.665</td>\n",
              "      <td>6.377</td>\n",
              "      <td>5.908</td>\n",
              "      <td>0.500</td>\n",
              "      <td>3.0</td>\n",
              "      <td>0</td>\n",
              "      <td>0</td>\n",
              "      <td>1</td>\n",
              "    </tr>\n",
              "    <tr>\n",
              "      <th>1</th>\n",
              "      <td>1</td>\n",
              "      <td>2008-2009</td>\n",
              "      <td>div0</td>\n",
              "      <td>1.25</td>\n",
              "      <td>5.5</td>\n",
              "      <td>12.00</td>\n",
              "      <td>7</td>\n",
              "      <td>0</td>\n",
              "      <td>2</td>\n",
              "      <td>5</td>\n",
              "      <td>...</td>\n",
              "      <td>3.582</td>\n",
              "      <td>2.10</td>\n",
              "      <td>2.250</td>\n",
              "      <td>2.833</td>\n",
              "      <td>2.475</td>\n",
              "      <td>0.333</td>\n",
              "      <td>0.0</td>\n",
              "      <td>0</td>\n",
              "      <td>1</td>\n",
              "      <td>0</td>\n",
              "    </tr>\n",
              "    <tr>\n",
              "      <th>2</th>\n",
              "      <td>2</td>\n",
              "      <td>2008-2009</td>\n",
              "      <td>div0</td>\n",
              "      <td>1.57</td>\n",
              "      <td>3.8</td>\n",
              "      <td>5.75</td>\n",
              "      <td>9</td>\n",
              "      <td>1</td>\n",
              "      <td>4</td>\n",
              "      <td>4</td>\n",
              "      <td>...</td>\n",
              "      <td>3.525</td>\n",
              "      <td>6.75</td>\n",
              "      <td>4.275</td>\n",
              "      <td>3.883</td>\n",
              "      <td>3.638</td>\n",
              "      <td>0.750</td>\n",
              "      <td>1.5</td>\n",
              "      <td>1</td>\n",
              "      <td>0</td>\n",
              "      <td>0</td>\n",
              "    </tr>\n",
              "    <tr>\n",
              "      <th>3</th>\n",
              "      <td>3</td>\n",
              "      <td>2008-2009</td>\n",
              "      <td>div0</td>\n",
              "      <td>1.17</td>\n",
              "      <td>7.0</td>\n",
              "      <td>15.00</td>\n",
              "      <td>11</td>\n",
              "      <td>2</td>\n",
              "      <td>6</td>\n",
              "      <td>7</td>\n",
              "      <td>...</td>\n",
              "      <td>3.975</td>\n",
              "      <td>4.20</td>\n",
              "      <td>2.750</td>\n",
              "      <td>2.333</td>\n",
              "      <td>2.550</td>\n",
              "      <td>0.600</td>\n",
              "      <td>0.0</td>\n",
              "      <td>1</td>\n",
              "      <td>0</td>\n",
              "      <td>0</td>\n",
              "    </tr>\n",
              "    <tr>\n",
              "      <th>4</th>\n",
              "      <td>4</td>\n",
              "      <td>2008-2009</td>\n",
              "      <td>div0</td>\n",
              "      <td>1.17</td>\n",
              "      <td>7.0</td>\n",
              "      <td>15.00</td>\n",
              "      <td>14</td>\n",
              "      <td>2</td>\n",
              "      <td>4</td>\n",
              "      <td>7</td>\n",
              "      <td>...</td>\n",
              "      <td>3.925</td>\n",
              "      <td>3.10</td>\n",
              "      <td>2.175</td>\n",
              "      <td>2.050</td>\n",
              "      <td>2.015</td>\n",
              "      <td>0.833</td>\n",
              "      <td>0.0</td>\n",
              "      <td>1</td>\n",
              "      <td>0</td>\n",
              "      <td>0</td>\n",
              "    </tr>\n",
              "  </tbody>\n",
              "</table>\n",
              "<p>5 rows × 167 columns</p>\n",
              "</div>\n",
              "      <button class=\"colab-df-convert\" onclick=\"convertToInteractive('df-45e0ad99-a793-480f-af62-36467d7055d1')\"\n",
              "              title=\"Convert this dataframe to an interactive table.\"\n",
              "              style=\"display:none;\">\n",
              "        \n",
              "  <svg xmlns=\"http://www.w3.org/2000/svg\" height=\"24px\"viewBox=\"0 0 24 24\"\n",
              "       width=\"24px\">\n",
              "    <path d=\"M0 0h24v24H0V0z\" fill=\"none\"/>\n",
              "    <path d=\"M18.56 5.44l.94 2.06.94-2.06 2.06-.94-2.06-.94-.94-2.06-.94 2.06-2.06.94zm-11 1L8.5 8.5l.94-2.06 2.06-.94-2.06-.94L8.5 2.5l-.94 2.06-2.06.94zm10 10l.94 2.06.94-2.06 2.06-.94-2.06-.94-.94-2.06-.94 2.06-2.06.94z\"/><path d=\"M17.41 7.96l-1.37-1.37c-.4-.4-.92-.59-1.43-.59-.52 0-1.04.2-1.43.59L10.3 9.45l-7.72 7.72c-.78.78-.78 2.05 0 2.83L4 21.41c.39.39.9.59 1.41.59.51 0 1.02-.2 1.41-.59l7.78-7.78 2.81-2.81c.8-.78.8-2.07 0-2.86zM5.41 20L4 18.59l7.72-7.72 1.47 1.35L5.41 20z\"/>\n",
              "  </svg>\n",
              "      </button>\n",
              "      \n",
              "  <style>\n",
              "    .colab-df-container {\n",
              "      display:flex;\n",
              "      flex-wrap:wrap;\n",
              "      gap: 12px;\n",
              "    }\n",
              "\n",
              "    .colab-df-convert {\n",
              "      background-color: #E8F0FE;\n",
              "      border: none;\n",
              "      border-radius: 50%;\n",
              "      cursor: pointer;\n",
              "      display: none;\n",
              "      fill: #1967D2;\n",
              "      height: 32px;\n",
              "      padding: 0 0 0 0;\n",
              "      width: 32px;\n",
              "    }\n",
              "\n",
              "    .colab-df-convert:hover {\n",
              "      background-color: #E2EBFA;\n",
              "      box-shadow: 0px 1px 2px rgba(60, 64, 67, 0.3), 0px 1px 3px 1px rgba(60, 64, 67, 0.15);\n",
              "      fill: #174EA6;\n",
              "    }\n",
              "\n",
              "    [theme=dark] .colab-df-convert {\n",
              "      background-color: #3B4455;\n",
              "      fill: #D2E3FC;\n",
              "    }\n",
              "\n",
              "    [theme=dark] .colab-df-convert:hover {\n",
              "      background-color: #434B5C;\n",
              "      box-shadow: 0px 1px 3px 1px rgba(0, 0, 0, 0.15);\n",
              "      filter: drop-shadow(0px 1px 2px rgba(0, 0, 0, 0.3));\n",
              "      fill: #FFFFFF;\n",
              "    }\n",
              "  </style>\n",
              "\n",
              "      <script>\n",
              "        const buttonEl =\n",
              "          document.querySelector('#df-45e0ad99-a793-480f-af62-36467d7055d1 button.colab-df-convert');\n",
              "        buttonEl.style.display =\n",
              "          google.colab.kernel.accessAllowed ? 'block' : 'none';\n",
              "\n",
              "        async function convertToInteractive(key) {\n",
              "          const element = document.querySelector('#df-45e0ad99-a793-480f-af62-36467d7055d1');\n",
              "          const dataTable =\n",
              "            await google.colab.kernel.invokeFunction('convertToInteractive',\n",
              "                                                     [key], {});\n",
              "          if (!dataTable) return;\n",
              "\n",
              "          const docLinkHtml = 'Like what you see? Visit the ' +\n",
              "            '<a target=\"_blank\" href=https://colab.research.google.com/notebooks/data_table.ipynb>data table notebook</a>'\n",
              "            + ' to learn more about interactive tables.';\n",
              "          element.innerHTML = '';\n",
              "          dataTable['output_type'] = 'display_data';\n",
              "          await google.colab.output.renderOutput(dataTable, element);\n",
              "          const docLink = document.createElement('div');\n",
              "          docLink.innerHTML = docLinkHtml;\n",
              "          element.appendChild(docLink);\n",
              "        }\n",
              "      </script>\n",
              "    </div>\n",
              "  </div>\n",
              "  "
            ]
          },
          "metadata": {},
          "execution_count": 176
        }
      ]
    },
    {
      "cell_type": "code",
      "source": [
        "data.shape"
      ],
      "metadata": {
        "colab": {
          "base_uri": "https://localhost:8080/"
        },
        "id": "XaaMqy1Thyrw",
        "outputId": "c494989a-1d53-4587-db93-c0521b09b4b1"
      },
      "execution_count": null,
      "outputs": [
        {
          "output_type": "execute_result",
          "data": {
            "text/plain": [
              "(64166, 167)"
            ]
          },
          "metadata": {},
          "execution_count": 177
        }
      ]
    },
    {
      "cell_type": "code",
      "source": [
        "data.groupby(\"div\").home_team_match_nr.describe()"
      ],
      "metadata": {
        "colab": {
          "base_uri": "https://localhost:8080/",
          "height": 771
        },
        "id": "o9AE4jFxu8HC",
        "outputId": "3d1d1efc-edbc-4e1b-dc7d-eecc62664937"
      },
      "execution_count": null,
      "outputs": [
        {
          "output_type": "execute_result",
          "data": {
            "text/plain": [
              "        count       mean        std  min   25%   50%   75%   max\n",
              "div                                                             \n",
              "div0   3779.0  19.503308   8.655067  5.0  12.0  20.0  27.0  34.0\n",
              "div1   4753.0  21.526404   9.800675  5.0  13.0  22.0  30.0  38.0\n",
              "div10  1348.0  19.520030   8.645817  5.0  12.0  20.0  27.0  34.0\n",
              "div11  1723.0  21.758561   9.997838  5.0  13.0  22.0  30.0  42.0\n",
              "div12  1270.0  18.934646   8.438512  5.0  12.0  19.0  26.0  34.0\n",
              "div13  1349.0  19.509266   8.653190  5.0  12.0  20.0  27.0  34.0\n",
              "div14   710.0  19.100000   8.718275  5.0  12.0  19.0  26.0  36.0\n",
              "div15   686.0  18.874636   8.810016  5.0  11.0  18.0  26.0  36.0\n",
              "div16   681.0  18.885463   8.798652  5.0  11.0  18.0  26.0  36.0\n",
              "div17  2046.0  23.350929  10.962529  5.0  14.0  23.0  33.0  42.0\n",
              "div18  1515.0  20.670627   9.448835  5.0  13.0  21.0  29.0  40.0\n",
              "div19  1254.0  20.553429   9.522097  5.0  12.0  20.0  28.0  38.0\n",
              "div2   7051.0  25.501347  12.112210  5.0  15.0  25.0  36.0  46.0\n",
              "div20   738.0  18.810298   8.376928  5.0  12.0  19.0  26.0  34.0\n",
              "div21   630.0  19.692063   8.741133  5.0  12.0  20.0  27.0  36.0\n",
              "div3   6896.0  25.242749  12.026907  5.0  15.0  25.0  35.0  46.0\n",
              "div4   6922.0  25.249639  12.022703  5.0  15.0  25.0  36.0  46.0\n",
              "div5   3881.0  25.077300  12.007738  5.0  15.0  25.0  35.0  46.0\n",
              "div6   4649.0  21.235750   9.739415  5.0  13.0  21.0  30.0  38.0\n",
              "div7   4739.0  21.495885   9.796049  5.0  13.0  21.0  30.0  38.0\n",
              "div8   2795.0  21.346333   9.704082  5.0  13.0  21.0  30.0  38.0\n",
              "div9   4751.0  21.528310   9.796798  5.0  13.0  22.0  30.0  38.0"
            ],
            "text/html": [
              "\n",
              "  <div id=\"df-b0740a11-f2e9-4778-b7c7-4d3043e98928\">\n",
              "    <div class=\"colab-df-container\">\n",
              "      <div>\n",
              "<style scoped>\n",
              "    .dataframe tbody tr th:only-of-type {\n",
              "        vertical-align: middle;\n",
              "    }\n",
              "\n",
              "    .dataframe tbody tr th {\n",
              "        vertical-align: top;\n",
              "    }\n",
              "\n",
              "    .dataframe thead th {\n",
              "        text-align: right;\n",
              "    }\n",
              "</style>\n",
              "<table border=\"1\" class=\"dataframe\">\n",
              "  <thead>\n",
              "    <tr style=\"text-align: right;\">\n",
              "      <th></th>\n",
              "      <th>count</th>\n",
              "      <th>mean</th>\n",
              "      <th>std</th>\n",
              "      <th>min</th>\n",
              "      <th>25%</th>\n",
              "      <th>50%</th>\n",
              "      <th>75%</th>\n",
              "      <th>max</th>\n",
              "    </tr>\n",
              "    <tr>\n",
              "      <th>div</th>\n",
              "      <th></th>\n",
              "      <th></th>\n",
              "      <th></th>\n",
              "      <th></th>\n",
              "      <th></th>\n",
              "      <th></th>\n",
              "      <th></th>\n",
              "      <th></th>\n",
              "    </tr>\n",
              "  </thead>\n",
              "  <tbody>\n",
              "    <tr>\n",
              "      <th>div0</th>\n",
              "      <td>3779.0</td>\n",
              "      <td>19.503308</td>\n",
              "      <td>8.655067</td>\n",
              "      <td>5.0</td>\n",
              "      <td>12.0</td>\n",
              "      <td>20.0</td>\n",
              "      <td>27.0</td>\n",
              "      <td>34.0</td>\n",
              "    </tr>\n",
              "    <tr>\n",
              "      <th>div1</th>\n",
              "      <td>4753.0</td>\n",
              "      <td>21.526404</td>\n",
              "      <td>9.800675</td>\n",
              "      <td>5.0</td>\n",
              "      <td>13.0</td>\n",
              "      <td>22.0</td>\n",
              "      <td>30.0</td>\n",
              "      <td>38.0</td>\n",
              "    </tr>\n",
              "    <tr>\n",
              "      <th>div10</th>\n",
              "      <td>1348.0</td>\n",
              "      <td>19.520030</td>\n",
              "      <td>8.645817</td>\n",
              "      <td>5.0</td>\n",
              "      <td>12.0</td>\n",
              "      <td>20.0</td>\n",
              "      <td>27.0</td>\n",
              "      <td>34.0</td>\n",
              "    </tr>\n",
              "    <tr>\n",
              "      <th>div11</th>\n",
              "      <td>1723.0</td>\n",
              "      <td>21.758561</td>\n",
              "      <td>9.997838</td>\n",
              "      <td>5.0</td>\n",
              "      <td>13.0</td>\n",
              "      <td>22.0</td>\n",
              "      <td>30.0</td>\n",
              "      <td>42.0</td>\n",
              "    </tr>\n",
              "    <tr>\n",
              "      <th>div12</th>\n",
              "      <td>1270.0</td>\n",
              "      <td>18.934646</td>\n",
              "      <td>8.438512</td>\n",
              "      <td>5.0</td>\n",
              "      <td>12.0</td>\n",
              "      <td>19.0</td>\n",
              "      <td>26.0</td>\n",
              "      <td>34.0</td>\n",
              "    </tr>\n",
              "    <tr>\n",
              "      <th>div13</th>\n",
              "      <td>1349.0</td>\n",
              "      <td>19.509266</td>\n",
              "      <td>8.653190</td>\n",
              "      <td>5.0</td>\n",
              "      <td>12.0</td>\n",
              "      <td>20.0</td>\n",
              "      <td>27.0</td>\n",
              "      <td>34.0</td>\n",
              "    </tr>\n",
              "    <tr>\n",
              "      <th>div14</th>\n",
              "      <td>710.0</td>\n",
              "      <td>19.100000</td>\n",
              "      <td>8.718275</td>\n",
              "      <td>5.0</td>\n",
              "      <td>12.0</td>\n",
              "      <td>19.0</td>\n",
              "      <td>26.0</td>\n",
              "      <td>36.0</td>\n",
              "    </tr>\n",
              "    <tr>\n",
              "      <th>div15</th>\n",
              "      <td>686.0</td>\n",
              "      <td>18.874636</td>\n",
              "      <td>8.810016</td>\n",
              "      <td>5.0</td>\n",
              "      <td>11.0</td>\n",
              "      <td>18.0</td>\n",
              "      <td>26.0</td>\n",
              "      <td>36.0</td>\n",
              "    </tr>\n",
              "    <tr>\n",
              "      <th>div16</th>\n",
              "      <td>681.0</td>\n",
              "      <td>18.885463</td>\n",
              "      <td>8.798652</td>\n",
              "      <td>5.0</td>\n",
              "      <td>11.0</td>\n",
              "      <td>18.0</td>\n",
              "      <td>26.0</td>\n",
              "      <td>36.0</td>\n",
              "    </tr>\n",
              "    <tr>\n",
              "      <th>div17</th>\n",
              "      <td>2046.0</td>\n",
              "      <td>23.350929</td>\n",
              "      <td>10.962529</td>\n",
              "      <td>5.0</td>\n",
              "      <td>14.0</td>\n",
              "      <td>23.0</td>\n",
              "      <td>33.0</td>\n",
              "      <td>42.0</td>\n",
              "    </tr>\n",
              "    <tr>\n",
              "      <th>div18</th>\n",
              "      <td>1515.0</td>\n",
              "      <td>20.670627</td>\n",
              "      <td>9.448835</td>\n",
              "      <td>5.0</td>\n",
              "      <td>13.0</td>\n",
              "      <td>21.0</td>\n",
              "      <td>29.0</td>\n",
              "      <td>40.0</td>\n",
              "    </tr>\n",
              "    <tr>\n",
              "      <th>div19</th>\n",
              "      <td>1254.0</td>\n",
              "      <td>20.553429</td>\n",
              "      <td>9.522097</td>\n",
              "      <td>5.0</td>\n",
              "      <td>12.0</td>\n",
              "      <td>20.0</td>\n",
              "      <td>28.0</td>\n",
              "      <td>38.0</td>\n",
              "    </tr>\n",
              "    <tr>\n",
              "      <th>div2</th>\n",
              "      <td>7051.0</td>\n",
              "      <td>25.501347</td>\n",
              "      <td>12.112210</td>\n",
              "      <td>5.0</td>\n",
              "      <td>15.0</td>\n",
              "      <td>25.0</td>\n",
              "      <td>36.0</td>\n",
              "      <td>46.0</td>\n",
              "    </tr>\n",
              "    <tr>\n",
              "      <th>div20</th>\n",
              "      <td>738.0</td>\n",
              "      <td>18.810298</td>\n",
              "      <td>8.376928</td>\n",
              "      <td>5.0</td>\n",
              "      <td>12.0</td>\n",
              "      <td>19.0</td>\n",
              "      <td>26.0</td>\n",
              "      <td>34.0</td>\n",
              "    </tr>\n",
              "    <tr>\n",
              "      <th>div21</th>\n",
              "      <td>630.0</td>\n",
              "      <td>19.692063</td>\n",
              "      <td>8.741133</td>\n",
              "      <td>5.0</td>\n",
              "      <td>12.0</td>\n",
              "      <td>20.0</td>\n",
              "      <td>27.0</td>\n",
              "      <td>36.0</td>\n",
              "    </tr>\n",
              "    <tr>\n",
              "      <th>div3</th>\n",
              "      <td>6896.0</td>\n",
              "      <td>25.242749</td>\n",
              "      <td>12.026907</td>\n",
              "      <td>5.0</td>\n",
              "      <td>15.0</td>\n",
              "      <td>25.0</td>\n",
              "      <td>35.0</td>\n",
              "      <td>46.0</td>\n",
              "    </tr>\n",
              "    <tr>\n",
              "      <th>div4</th>\n",
              "      <td>6922.0</td>\n",
              "      <td>25.249639</td>\n",
              "      <td>12.022703</td>\n",
              "      <td>5.0</td>\n",
              "      <td>15.0</td>\n",
              "      <td>25.0</td>\n",
              "      <td>36.0</td>\n",
              "      <td>46.0</td>\n",
              "    </tr>\n",
              "    <tr>\n",
              "      <th>div5</th>\n",
              "      <td>3881.0</td>\n",
              "      <td>25.077300</td>\n",
              "      <td>12.007738</td>\n",
              "      <td>5.0</td>\n",
              "      <td>15.0</td>\n",
              "      <td>25.0</td>\n",
              "      <td>35.0</td>\n",
              "      <td>46.0</td>\n",
              "    </tr>\n",
              "    <tr>\n",
              "      <th>div6</th>\n",
              "      <td>4649.0</td>\n",
              "      <td>21.235750</td>\n",
              "      <td>9.739415</td>\n",
              "      <td>5.0</td>\n",
              "      <td>13.0</td>\n",
              "      <td>21.0</td>\n",
              "      <td>30.0</td>\n",
              "      <td>38.0</td>\n",
              "    </tr>\n",
              "    <tr>\n",
              "      <th>div7</th>\n",
              "      <td>4739.0</td>\n",
              "      <td>21.495885</td>\n",
              "      <td>9.796049</td>\n",
              "      <td>5.0</td>\n",
              "      <td>13.0</td>\n",
              "      <td>21.0</td>\n",
              "      <td>30.0</td>\n",
              "      <td>38.0</td>\n",
              "    </tr>\n",
              "    <tr>\n",
              "      <th>div8</th>\n",
              "      <td>2795.0</td>\n",
              "      <td>21.346333</td>\n",
              "      <td>9.704082</td>\n",
              "      <td>5.0</td>\n",
              "      <td>13.0</td>\n",
              "      <td>21.0</td>\n",
              "      <td>30.0</td>\n",
              "      <td>38.0</td>\n",
              "    </tr>\n",
              "    <tr>\n",
              "      <th>div9</th>\n",
              "      <td>4751.0</td>\n",
              "      <td>21.528310</td>\n",
              "      <td>9.796798</td>\n",
              "      <td>5.0</td>\n",
              "      <td>13.0</td>\n",
              "      <td>22.0</td>\n",
              "      <td>30.0</td>\n",
              "      <td>38.0</td>\n",
              "    </tr>\n",
              "  </tbody>\n",
              "</table>\n",
              "</div>\n",
              "      <button class=\"colab-df-convert\" onclick=\"convertToInteractive('df-b0740a11-f2e9-4778-b7c7-4d3043e98928')\"\n",
              "              title=\"Convert this dataframe to an interactive table.\"\n",
              "              style=\"display:none;\">\n",
              "        \n",
              "  <svg xmlns=\"http://www.w3.org/2000/svg\" height=\"24px\"viewBox=\"0 0 24 24\"\n",
              "       width=\"24px\">\n",
              "    <path d=\"M0 0h24v24H0V0z\" fill=\"none\"/>\n",
              "    <path d=\"M18.56 5.44l.94 2.06.94-2.06 2.06-.94-2.06-.94-.94-2.06-.94 2.06-2.06.94zm-11 1L8.5 8.5l.94-2.06 2.06-.94-2.06-.94L8.5 2.5l-.94 2.06-2.06.94zm10 10l.94 2.06.94-2.06 2.06-.94-2.06-.94-.94-2.06-.94 2.06-2.06.94z\"/><path d=\"M17.41 7.96l-1.37-1.37c-.4-.4-.92-.59-1.43-.59-.52 0-1.04.2-1.43.59L10.3 9.45l-7.72 7.72c-.78.78-.78 2.05 0 2.83L4 21.41c.39.39.9.59 1.41.59.51 0 1.02-.2 1.41-.59l7.78-7.78 2.81-2.81c.8-.78.8-2.07 0-2.86zM5.41 20L4 18.59l7.72-7.72 1.47 1.35L5.41 20z\"/>\n",
              "  </svg>\n",
              "      </button>\n",
              "      \n",
              "  <style>\n",
              "    .colab-df-container {\n",
              "      display:flex;\n",
              "      flex-wrap:wrap;\n",
              "      gap: 12px;\n",
              "    }\n",
              "\n",
              "    .colab-df-convert {\n",
              "      background-color: #E8F0FE;\n",
              "      border: none;\n",
              "      border-radius: 50%;\n",
              "      cursor: pointer;\n",
              "      display: none;\n",
              "      fill: #1967D2;\n",
              "      height: 32px;\n",
              "      padding: 0 0 0 0;\n",
              "      width: 32px;\n",
              "    }\n",
              "\n",
              "    .colab-df-convert:hover {\n",
              "      background-color: #E2EBFA;\n",
              "      box-shadow: 0px 1px 2px rgba(60, 64, 67, 0.3), 0px 1px 3px 1px rgba(60, 64, 67, 0.15);\n",
              "      fill: #174EA6;\n",
              "    }\n",
              "\n",
              "    [theme=dark] .colab-df-convert {\n",
              "      background-color: #3B4455;\n",
              "      fill: #D2E3FC;\n",
              "    }\n",
              "\n",
              "    [theme=dark] .colab-df-convert:hover {\n",
              "      background-color: #434B5C;\n",
              "      box-shadow: 0px 1px 3px 1px rgba(0, 0, 0, 0.15);\n",
              "      filter: drop-shadow(0px 1px 2px rgba(0, 0, 0, 0.3));\n",
              "      fill: #FFFFFF;\n",
              "    }\n",
              "  </style>\n",
              "\n",
              "      <script>\n",
              "        const buttonEl =\n",
              "          document.querySelector('#df-b0740a11-f2e9-4778-b7c7-4d3043e98928 button.colab-df-convert');\n",
              "        buttonEl.style.display =\n",
              "          google.colab.kernel.accessAllowed ? 'block' : 'none';\n",
              "\n",
              "        async function convertToInteractive(key) {\n",
              "          const element = document.querySelector('#df-b0740a11-f2e9-4778-b7c7-4d3043e98928');\n",
              "          const dataTable =\n",
              "            await google.colab.kernel.invokeFunction('convertToInteractive',\n",
              "                                                     [key], {});\n",
              "          if (!dataTable) return;\n",
              "\n",
              "          const docLinkHtml = 'Like what you see? Visit the ' +\n",
              "            '<a target=\"_blank\" href=https://colab.research.google.com/notebooks/data_table.ipynb>data table notebook</a>'\n",
              "            + ' to learn more about interactive tables.';\n",
              "          element.innerHTML = '';\n",
              "          dataTable['output_type'] = 'display_data';\n",
              "          await google.colab.output.renderOutput(dataTable, element);\n",
              "          const docLink = document.createElement('div');\n",
              "          docLink.innerHTML = docLinkHtml;\n",
              "          element.appendChild(docLink);\n",
              "        }\n",
              "      </script>\n",
              "    </div>\n",
              "  </div>\n",
              "  "
            ]
          },
          "metadata": {},
          "execution_count": 178
        }
      ]
    },
    {
      "cell_type": "code",
      "source": [
        "all_cols = []\n",
        "for item in data.columns:\n",
        "  if \"_roll\" in item:\n",
        "    value = item.split(\"_roll\")[0]\n",
        "    if value not in all_cols:\n",
        "      all_cols.append(value)"
      ],
      "metadata": {
        "id": "Un7M6I0UQECE"
      },
      "execution_count": null,
      "outputs": []
    },
    {
      "cell_type": "code",
      "source": [
        "def col_creator(data):\n",
        "  used = []\n",
        "  for item in data.columns:\n",
        "    if \"sum\" in item:\n",
        "      val = item.split(\"_roll\")[0]\n",
        "      if (val not in used) & (\"sum\" in item):\n",
        "        used.append(val)\n",
        "        color1 = val+\"_roll1_sum\"\n",
        "        color2 = val+\"_roll2_sum\"\n",
        "        color3 = val+\"_roll3_sum\"\n",
        "        color4 = val+\"_roll4_sum\"\n",
        "        sec = \"second_match_\"+val\n",
        "        third = \"third_match_\"+val\n",
        "        four = \"forth_match_\"+val\n",
        "        data[sec] = data[color2] - data[color1] \n",
        "        data[third] = data[color3] - data[color1] - data[sec]\n",
        "        data[four] = data[color4] - data[color1] - data[sec] - data[third]\n",
        "      elif (val not in used) & (\"mean\" in item):\n",
        "        color1 = val+\"_roll1_mean\"\n",
        "        color2 = val+\"_roll2_mean\"\n",
        "        color3 = val+\"_roll3_mean\"\n",
        "        color4 = val+\"_roll4_mean\"\n",
        "        sec = \"second_match_\"+val\n",
        "        third = \"third_match_\"+val\n",
        "        four = \"forth_match_\"+val\n",
        "        data[sec] = data[color2] * 2 - data[color1] \n",
        "        data[third] = data[color3] * 3 - data[color1] - data[sec]\n",
        "        data[four] = data[color4] * 4 - data[color1] - data[sec] - data[third]\n",
        "  return data"
      ],
      "metadata": {
        "id": "UJWSKXWFTRzn"
      },
      "execution_count": null,
      "outputs": []
    },
    {
      "cell_type": "code",
      "source": [
        "data = col_creator(data)"
      ],
      "metadata": {
        "id": "Vzq8QLzjaF1W"
      },
      "execution_count": null,
      "outputs": []
    },
    {
      "cell_type": "code",
      "source": [
        "for item in data.columns:\n",
        "  if data.columns.isnull().sum() != 0:\n",
        "    print(item)"
      ],
      "metadata": {
        "id": "TxeJnTTtYC49"
      },
      "execution_count": null,
      "outputs": []
    },
    {
      "cell_type": "code",
      "source": [
        "data[\"odds_diff\"] = data[\"odds_home_team_win\"] - data[\"odds_away_team_win\"]\n",
        "data[\"odds_diff\"] = np.where(data[\"odds_diff\"] > 10, 10, data[\"odds_diff\"])\n",
        "data[\"odds_diff\"] = np.where(data[\"odds_diff\"] < -10, -10, data[\"odds_diff\"])"
      ],
      "metadata": {
        "id": "EDhYrvZcbDoZ"
      },
      "execution_count": null,
      "outputs": []
    },
    {
      "cell_type": "code",
      "source": [
        "#?????\n",
        "#data[\"roundest\"] = np.where(data[\"home_team_match_nr\"] < data[\"away_team_match_nr\"],data[\"home_team_match_nr\"],np.where(data[\"home_team_match_nr\"] > data[\"away_team_match_nr\"], data[\"away_team_match_nr\"],data[\"home_team_match_nr\"]))\n",
        "#data[\"home_pos\"] = data[\"home_team_point_mean\"] * data[\"roundest\"]\n",
        "#data[\"away_pos\"] = data[\"away_team_point_mean\"] * data[\"roundest\"]"
      ],
      "metadata": {
        "id": "HYkECnaAa9NN"
      },
      "execution_count": null,
      "outputs": []
    },
    {
      "cell_type": "code",
      "source": [
        "# Seeing where team is located on table based on str....3 mean top team, 2 middle, 1 relegation pos....change this to based on avg points scored\n",
        "data[\"home_team_pos_str\"] = np.where(data[\"home_team_point_mean\"] > 1.8, 3, np.where(data[\"home_team_point_mean\"] < 1.2, 1, 2))\n",
        "data[\"away_team_pos_str\"] = np.where(data[\"home_team_point_mean\"] > 1.8, 3, np.where(data[\"home_team_point_mean\"] < 1.2, 1, 2))"
      ],
      "metadata": {
        "colab": {
          "base_uri": "https://localhost:8080/"
        },
        "id": "q4UZp0WgerRi",
        "outputId": "71fd8288-6123-46b5-cd28-8e321f6c91d4"
      },
      "execution_count": null,
      "outputs": [
        {
          "output_type": "stream",
          "name": "stderr",
          "text": [
            "<ipython-input-185-509f8f520ab0>:2: PerformanceWarning: DataFrame is highly fragmented.  This is usually the result of calling `frame.insert` many times, which has poor performance.  Consider joining all columns at once using pd.concat(axis=1) instead.  To get a de-fragmented frame, use `newframe = frame.copy()`\n",
            "  data[\"home_team_pos_str\"] = np.where(data[\"home_team_point_mean\"] > 1.8, 3, np.where(data[\"home_team_point_mean\"] < 1.2, 1, 2))\n",
            "<ipython-input-185-509f8f520ab0>:3: PerformanceWarning: DataFrame is highly fragmented.  This is usually the result of calling `frame.insert` many times, which has poor performance.  Consider joining all columns at once using pd.concat(axis=1) instead.  To get a de-fragmented frame, use `newframe = frame.copy()`\n",
            "  data[\"away_team_pos_str\"] = np.where(data[\"home_team_point_mean\"] > 1.8, 3, np.where(data[\"home_team_point_mean\"] < 1.2, 1, 2))\n"
          ]
        }
      ]
    },
    {
      "cell_type": "code",
      "source": [
        "sum_cols = []\n",
        "for item in data.columns:\n",
        "  if \"sum\" in item:\n",
        "    value = item.split(\"_roll\")[0]\n",
        "    if value not in sum_cols:\n",
        "      sum_cols.append(value)"
      ],
      "metadata": {
        "id": "tnRgE2tzMfbx"
      },
      "execution_count": null,
      "outputs": []
    },
    {
      "cell_type": "code",
      "source": [
        "sum_cols"
      ],
      "metadata": {
        "colab": {
          "base_uri": "https://localhost:8080/"
        },
        "id": "QzM8BwoFQQMK",
        "outputId": "57ac0ccc-a305-4a63-b10e-18052cecf0dd"
      },
      "execution_count": null,
      "outputs": [
        {
          "output_type": "execute_result",
          "data": {
            "text/plain": [
              "['home_team_goal',\n",
              " 'home_team_opponents_goal',\n",
              " 'home_team_shot',\n",
              " 'home_team_opponents_shot',\n",
              " 'home_team_shot_on_target',\n",
              " 'home_team_opponents_shot_on_target',\n",
              " 'home_team_fault',\n",
              " 'home_team_opponents_fault',\n",
              " 'home_team_corner',\n",
              " 'home_team_opponents_corner',\n",
              " 'home_team_yellow_card',\n",
              " 'home_team_opponents_yellow_card',\n",
              " 'home_team_red_card',\n",
              " 'home_team_opponents_red_card',\n",
              " 'home_team_point',\n",
              " 'home_team_expected_point',\n",
              " 'away_team_goal',\n",
              " 'away_team_opponents_goal',\n",
              " 'away_team_shot',\n",
              " 'away_team_opponents_shot',\n",
              " 'away_team_shot_on_target',\n",
              " 'away_team_opponents_shot_on_target',\n",
              " 'away_team_fault',\n",
              " 'away_team_opponents_fault',\n",
              " 'away_team_corner',\n",
              " 'away_team_opponents_corner',\n",
              " 'away_team_yellow_card',\n",
              " 'away_team_opponents_yellow_card',\n",
              " 'away_team_red_card',\n",
              " 'away_team_opponents_red_card',\n",
              " 'away_team_point',\n",
              " 'away_team_expected_point']"
            ]
          },
          "metadata": {},
          "execution_count": 187
        }
      ]
    },
    {
      "cell_type": "code",
      "source": [
        "def medianer(X):\n",
        "  for item in sum_cols:\n",
        "    colname = item+\"_median\"\n",
        "    val1 = item+\"_roll1_sum\"\n",
        "    val2 = \"second_match_\"+item\n",
        "    val3 =\"third_match_\"+item\n",
        "    val4 =\"forth_match_\"+item\n",
        "    X[colname] = np.sort(X, axis=1)[:, 1:3].sum(1)/2\n",
        "  return X"
      ],
      "metadata": {
        "id": "WivkZhNkL4Bx"
      },
      "execution_count": null,
      "outputs": []
    },
    {
      "cell_type": "code",
      "source": [
        "for item in sum_cols:\n",
        "  colname = item+\"_median\"\n",
        "  columns = [c for c in data.columns if item in c]\n",
        "  data[colname] = data[columns].apply(lambda x: sorted(x)[1:3], axis=1, result_type='expand').sum(1)/2\n"
      ],
      "metadata": {
        "id": "Fdz8UMBsTOX3"
      },
      "execution_count": null,
      "outputs": []
    },
    {
      "cell_type": "code",
      "source": [
        "def wincounter(data):\n",
        "  if data[\"home_team_goal_roll1_sum\"] > data[\"home_team_opponents_goal_roll1_sum\"]:\n",
        "    if data[\"second_match_home_team_goal\"] > data[\"second_match_home_team_opponents_goal\"]:\n",
        "      if data[\"third_match_home_team_goal\"] > data[\"third_match_home_team_opponents_goal\"]:\n",
        "        if data[\"forth_match_home_team_goal\"] > data[\"forth_match_home_team_opponents_goal\"]:\n",
        "          return 4\n",
        "        else: \n",
        "          return 3\n",
        "      else:\n",
        "        return 2\n",
        "    else:\n",
        "      return 1\n",
        "  else:\n",
        "    return 0\n",
        "\n",
        "def aw_wincounter(data):\n",
        "  if data[\"away_team_goal_roll1_sum\"] > data[\"away_team_opponents_goal_roll1_sum\"]:\n",
        "    if data[\"second_match_away_team_goal\"] > data[\"second_match_away_team_opponents_goal\"]:\n",
        "      if data[\"third_match_away_team_goal\"] > data[\"third_match_away_team_opponents_goal\"]:\n",
        "        if data[\"forth_match_away_team_goal\"] > data[\"forth_match_away_team_opponents_goal\"]:\n",
        "          return 4\n",
        "        else: \n",
        "          return 3\n",
        "      else:\n",
        "        return 2\n",
        "    else:\n",
        "      return 1\n",
        "  else:\n",
        "    return 0"
      ],
      "metadata": {
        "id": "uB6ukHOmVX_v"
      },
      "execution_count": null,
      "outputs": []
    },
    {
      "cell_type": "code",
      "source": [
        "data[\"home_win_streak\"] = data.apply(lambda x: wincounter(x), axis = 1)"
      ],
      "metadata": {
        "id": "Nddcq-WTVYCb"
      },
      "execution_count": null,
      "outputs": []
    },
    {
      "cell_type": "code",
      "source": [
        "data[\"away_win_streak\"] = data.apply(lambda x: aw_wincounter(x), axis = 1)"
      ],
      "metadata": {
        "id": "u1ie2aVNaeJe"
      },
      "execution_count": null,
      "outputs": []
    },
    {
      "cell_type": "code",
      "source": [
        "data[\"home_win_streak\"].value_counts()"
      ],
      "metadata": {
        "colab": {
          "base_uri": "https://localhost:8080/"
        },
        "id": "wpESpFvVVYE-",
        "outputId": "886dfadc-79fe-4aa3-f2ed-fb6c8d8ddd71"
      },
      "execution_count": null,
      "outputs": [
        {
          "output_type": "execute_result",
          "data": {
            "text/plain": [
              "0    43376\n",
              "1    11991\n",
              "2     4968\n",
              "4     1943\n",
              "3     1888\n",
              "Name: home_win_streak, dtype: int64"
            ]
          },
          "metadata": {},
          "execution_count": 193
        }
      ]
    },
    {
      "cell_type": "code",
      "source": [
        "data[\"away_win_streak\"].value_counts()"
      ],
      "metadata": {
        "colab": {
          "base_uri": "https://localhost:8080/"
        },
        "id": "iBFV_YaignV1",
        "outputId": "c618f510-d7a9-4441-e193-8c31f706ebe8"
      },
      "execution_count": null,
      "outputs": [
        {
          "output_type": "execute_result",
          "data": {
            "text/plain": [
              "0    37675\n",
              "1    16584\n",
              "2     5415\n",
              "3     2342\n",
              "4     2150\n",
              "Name: away_win_streak, dtype: int64"
            ]
          },
          "metadata": {},
          "execution_count": 194
        }
      ]
    },
    {
      "cell_type": "code",
      "source": [
        "clean_cols = []\n",
        "for item in sum_cols:\n",
        "  val = item.split(\"_team_\")[1]\n",
        "  if (\"opponents_\" not in val) & (val not in clean_cols):\n",
        "    clean_cols.append(val)"
      ],
      "metadata": {
        "id": "tdPu-hfKbWcS"
      },
      "execution_count": null,
      "outputs": []
    },
    {
      "cell_type": "code",
      "source": [
        "clean_cols"
      ],
      "metadata": {
        "colab": {
          "base_uri": "https://localhost:8080/"
        },
        "id": "z_OJiCqAd6pc",
        "outputId": "cebc3d34-fffa-4955-8cd6-8585530e2d40"
      },
      "execution_count": null,
      "outputs": [
        {
          "output_type": "execute_result",
          "data": {
            "text/plain": [
              "['goal',\n",
              " 'shot',\n",
              " 'shot_on_target',\n",
              " 'fault',\n",
              " 'corner',\n",
              " 'yellow_card',\n",
              " 'red_card',\n",
              " 'point',\n",
              " 'expected_point']"
            ]
          },
          "metadata": {},
          "execution_count": 196
        }
      ]
    },
    {
      "cell_type": "code",
      "source": [
        "def ratio(data):\n",
        "  for item in clean_cols:\n",
        "    home_val = \"home_team_\" + item + \"_median\"\n",
        "    away_val = \"away_team_\" + item + \"_median\"\n",
        "    rat = item+\"_ratio\"\n",
        "    data[rat] = data[home_val] / data[away_val]\n",
        "  return data\n",
        "\n",
        "def pre_match_ratio(data):\n",
        "  for item in clean_cols[:-2]:\n",
        "    home_val = \"home_team_\" + item + \"_median\"\n",
        "    home_opp_val = \"home_team_opponents_\" + item + \"_median\"\n",
        "    rat = item+\"home_ratio\"\n",
        "    data[rat] = data[home_val] / data[home_opp_val]\n",
        "    away_val = \"away_team_\" + item + \"_median\"\n",
        "    away_opp_val = \"away_team_opponents_\" + item + \"_median\"\n",
        "    rat_aw = item+\"away_ratio\"\n",
        "    data[rat_aw] = data[away_val] / data[away_opp_val]\n",
        "  return data\n",
        "\n",
        "\n"
      ],
      "metadata": {
        "id": "H33lV7oEVYH1"
      },
      "execution_count": null,
      "outputs": []
    },
    {
      "cell_type": "code",
      "source": [
        "data = pre_match_ratio(data)"
      ],
      "metadata": {
        "id": "5pMwnSR4VYJ3"
      },
      "execution_count": null,
      "outputs": []
    },
    {
      "cell_type": "code",
      "source": [
        "cols_use = []\n",
        "\n",
        "for item in data.columns:\n",
        "  if (\"ratio\" in item) & (\"opponents\" not in item):\n",
        "    cols_use.append(item)\n",
        "  elif (\"median\" in item) & (\"opponents\" not in item):\n",
        "    cols_use.append(item)"
      ],
      "metadata": {
        "id": "0b4Zef0id_8h"
      },
      "execution_count": null,
      "outputs": []
    },
    {
      "cell_type": "code",
      "source": [
        "cols_use"
      ],
      "metadata": {
        "colab": {
          "base_uri": "https://localhost:8080/"
        },
        "id": "2XwZfT4duonx",
        "outputId": "095554c3-ffa6-4a3c-97ec-99c0113e5a70"
      },
      "execution_count": null,
      "outputs": [
        {
          "output_type": "execute_result",
          "data": {
            "text/plain": [
              "['home_team_goal_median',\n",
              " 'home_team_shot_median',\n",
              " 'home_team_shot_on_target_median',\n",
              " 'home_team_fault_median',\n",
              " 'home_team_corner_median',\n",
              " 'home_team_yellow_card_median',\n",
              " 'home_team_red_card_median',\n",
              " 'home_team_point_median',\n",
              " 'home_team_expected_point_median',\n",
              " 'away_team_goal_median',\n",
              " 'away_team_shot_median',\n",
              " 'away_team_shot_on_target_median',\n",
              " 'away_team_fault_median',\n",
              " 'away_team_corner_median',\n",
              " 'away_team_yellow_card_median',\n",
              " 'away_team_red_card_median',\n",
              " 'away_team_point_median',\n",
              " 'away_team_expected_point_median',\n",
              " 'goalhome_ratio',\n",
              " 'goalaway_ratio',\n",
              " 'shothome_ratio',\n",
              " 'shotaway_ratio',\n",
              " 'shot_on_targethome_ratio',\n",
              " 'shot_on_targetaway_ratio',\n",
              " 'faulthome_ratio',\n",
              " 'faultaway_ratio',\n",
              " 'cornerhome_ratio',\n",
              " 'corneraway_ratio',\n",
              " 'yellow_cardhome_ratio',\n",
              " 'yellow_cardaway_ratio',\n",
              " 'red_cardhome_ratio',\n",
              " 'red_cardaway_ratio']"
            ]
          },
          "metadata": {},
          "execution_count": 200
        }
      ]
    },
    {
      "cell_type": "code",
      "source": [
        "data[\"Pos_diff\"] = data[\"home_team_pos_str\"] - data[\"away_team_pos_str\"]"
      ],
      "metadata": {
        "id": "g3aA-AVCzjia"
      },
      "execution_count": null,
      "outputs": []
    },
    {
      "cell_type": "code",
      "source": [
        "data = data[[\"Pos_diff\",'odds_diff','home_team_pos_str', 'away_team_pos_str', 'home_team_goal_median',\n",
        "       'home_team_opponents_goal_median', 'home_team_shot_median', 'home_team_shot_on_target_median',\n",
        " 'home_team_fault_median','home_team_corner_median','home_team_yellow_card_median','home_team_red_card_median','away_team_goal_median',\n",
        " 'away_team_shot_median','away_team_shot_on_target_median','away_team_fault_median','away_team_corner_median','away_team_yellow_card_median','away_team_red_card_median',\n",
        " 'shothome_ratio',\n",
        " 'shotaway_ratio',\n",
        " 'shot_on_targethome_ratio',\n",
        " 'shot_on_targetaway_ratio','faulthome_ratio','faultaway_ratio','cornerhome_ratio','corneraway_ratio','yellow_cardhome_ratio','yellow_cardaway_ratio','red_cardhome_ratio','red_cardaway_ratio', \"home_win_flag\"]]"
      ],
      "metadata": {
        "id": "FlqYlNUNnnfR"
      },
      "execution_count": null,
      "outputs": []
    },
    {
      "cell_type": "markdown",
      "source": [],
      "metadata": {
        "id": "MbK-Tos8a7tS"
      }
    },
    {
      "cell_type": "code",
      "source": [
        "from pandas.core.describe import DataFrameDescriber\n",
        "plt.hist(data[\"odds_diff\"], bins = 20)\n",
        "plt.show()"
      ],
      "metadata": {
        "colab": {
          "base_uri": "https://localhost:8080/",
          "height": 265
        },
        "id": "hOYdpfxibSwN",
        "outputId": "c165b65c-bb0f-45fe-b589-b73300a5c659"
      },
      "execution_count": null,
      "outputs": [
        {
          "output_type": "display_data",
          "data": {
            "text/plain": [
              "<Figure size 432x288 with 1 Axes>"
            ],
            "image/png": "[encoded data removed]"
          },
          "metadata": {
            "needs_background": "light"
          }
        }
      ]
    },
    {
      "cell_type": "markdown",
      "source": [],
      "metadata": {
        "id": "AiyH6ioXaNzC"
      }
    },
    {
      "cell_type": "code",
      "source": [
        "sns.heatmap(data.corr())"
      ],
      "metadata": {
        "colab": {
          "base_uri": "https://localhost:8080/",
          "height": 526
        },
        "id": "VKjym-7Binlw",
        "outputId": "c7f06387-7cd4-4783-b5ae-1a4489686708"
      },
      "execution_count": null,
      "outputs": [
        {
          "output_type": "execute_result",
          "data": {
            "text/plain": [
              "<matplotlib.axes._subplots.AxesSubplot at 0x7f92a55d5280>"
            ]
          },
          "metadata": {},
          "execution_count": 17
        },
        {
          "output_type": "display_data",
          "data": {
            "text/plain": [
              "<Figure size 432x288 with 2 Axes>"
            ],
            "image/png": "[encoded data removed]"
          },
          "metadata": {
            "needs_background": "light"
          }
        }
      ]
    },
    {
      "cell_type": "code",
      "source": [
        "from sklearn.ensemble import RandomForestClassifier\n",
        "from sklearn.preprocessing import StandardScaler, MinMaxScaler\n",
        "from sklearn.tree import DecisionTreeClassifier"
      ],
      "metadata": {
        "id": "hp3K0ttikGMq"
      },
      "execution_count": null,
      "outputs": []
    },
    {
      "cell_type": "code",
      "source": [
        "model = DecisionTreeClassifier()"
      ],
      "metadata": {
        "id": "KqL1g-m6qEO8"
      },
      "execution_count": null,
      "outputs": []
    },
    {
      "cell_type": "code",
      "source": [
        "MM = MinMaxScaler()\n",
        "SS = StandardScaler()"
      ],
      "metadata": {
        "id": "A-j9sDiKqPGJ"
      },
      "execution_count": null,
      "outputs": []
    },
    {
      "cell_type": "code",
      "source": [
        "data.columns"
      ],
      "metadata": {
        "colab": {
          "base_uri": "https://localhost:8080/"
        },
        "id": "hUXOBWne3FGB",
        "outputId": "8cb2f2b5-83f7-4f70-82c4-86e569ac5360"
      },
      "execution_count": null,
      "outputs": [
        {
          "output_type": "execute_result",
          "data": {
            "text/plain": [
              "Index(['Pos_diff', 'odds_diff', 'home_team_pos_str', 'away_team_pos_str',\n",
              "       'home_team_goal_median', 'home_team_opponents_goal_median',\n",
              "       'home_team_shot_median', 'home_team_shot_on_target_median',\n",
              "       'home_team_fault_median', 'home_team_corner_median',\n",
              "       'home_team_yellow_card_median', 'home_team_red_card_median',\n",
              "       'away_team_goal_median', 'away_team_shot_median',\n",
              "       'away_team_shot_on_target_median', 'away_team_fault_median',\n",
              "       'away_team_corner_median', 'away_team_yellow_card_median',\n",
              "       'away_team_red_card_median', 'shothome_ratio', 'shotaway_ratio',\n",
              "       'shot_on_targethome_ratio', 'shot_on_targetaway_ratio',\n",
              "       'faulthome_ratio', 'faultaway_ratio', 'cornerhome_ratio',\n",
              "       'corneraway_ratio', 'yellow_cardhome_ratio', 'yellow_cardaway_ratio',\n",
              "       'red_cardhome_ratio', 'red_cardaway_ratio', 'home_win_flag'],\n",
              "      dtype='object')"
            ]
          },
          "metadata": {},
          "execution_count": 220
        }
      ]
    },
    {
      "cell_type": "code",
      "source": [
        "data = data.drop(\"odds_diff\", axis = 1)"
      ],
      "metadata": {
        "id": "12ufPJHl5IsP"
      },
      "execution_count": null,
      "outputs": []
    },
    {
      "cell_type": "code",
      "source": [
        "y = data.iloc[:, -1].values\n",
        "X = data.iloc[:, :-1].values"
      ],
      "metadata": {
        "id": "sZ8ak2mgq4HE"
      },
      "execution_count": null,
      "outputs": []
    },
    {
      "cell_type": "code",
      "source": [
        "X_mod = np.nan_to_num(X)"
      ],
      "metadata": {
        "id": "lqTmNwPwsHy3"
      },
      "execution_count": null,
      "outputs": []
    },
    {
      "cell_type": "code",
      "source": [
        "X_scaled = MM.fit_transform(X_mod)"
      ],
      "metadata": {
        "id": "EzrLiiJ8rYi9"
      },
      "execution_count": null,
      "outputs": []
    },
    {
      "cell_type": "code",
      "source": [
        "model.fit(X_scaled,y)"
      ],
      "metadata": {
        "colab": {
          "base_uri": "https://localhost:8080/",
          "height": 75
        },
        "id": "IgP15Mtcrsec",
        "outputId": "aff40b29-ba2e-4f99-8e1f-a4c80325ba30"
      },
      "execution_count": null,
      "outputs": [
        {
          "output_type": "execute_result",
          "data": {
            "text/plain": [
              "DecisionTreeClassifier()"
            ],
            "text/html": [
              "<style>#sk-container-id-3 {color: black;background-color: white;}#sk-container-id-3 pre{padding: 0;}#sk-container-id-3 div.sk-toggleable {background-color: white;}#sk-container-id-3 label.sk-toggleable__label {cursor: pointer;display: block;width: 100%;margin-bottom: 0;padding: 0.3em;box-sizing: border-box;text-align: center;}#sk-container-id-3 label.sk-toggleable__label-arrow:before {content: \"▸\";float: left;margin-right: 0.25em;color: #696969;}#sk-container-id-3 label.sk-toggleable__label-arrow:hover:before {color: black;}#sk-container-id-3 div.sk-estimator:hover label.sk-toggleable__label-arrow:before {color: black;}#sk-container-id-3 div.sk-toggleable__content {max-height: 0;max-width: 0;overflow: hidden;text-align: left;background-color: #f0f8ff;}#sk-container-id-3 div.sk-toggleable__content pre {margin: 0.2em;color: black;border-radius: 0.25em;background-color: #f0f8ff;}#sk-container-id-3 input.sk-toggleable__control:checked~div.sk-toggleable__content {max-height: 200px;max-width: 100%;overflow: auto;}#sk-container-id-3 input.sk-toggleable__control:checked~label.sk-toggleable__label-arrow:before {content: \"▾\";}#sk-container-id-3 div.sk-estimator input.sk-toggleable__control:checked~label.sk-toggleable__label {background-color: #d4ebff;}#sk-container-id-3 div.sk-label input.sk-toggleable__control:checked~label.sk-toggleable__label {background-color: #d4ebff;}#sk-container-id-3 input.sk-hidden--visually {border: 0;clip: rect(1px 1px 1px 1px);clip: rect(1px, 1px, 1px, 1px);height: 1px;margin: -1px;overflow: hidden;padding: 0;position: absolute;width: 1px;}#sk-container-id-3 div.sk-estimator {font-family: monospace;background-color: #f0f8ff;border: 1px dotted black;border-radius: 0.25em;box-sizing: border-box;margin-bottom: 0.5em;}#sk-container-id-3 div.sk-estimator:hover {background-color: #d4ebff;}#sk-container-id-3 div.sk-parallel-item::after {content: \"\";width: 100%;border-bottom: 1px solid gray;flex-grow: 1;}#sk-container-id-3 div.sk-label:hover label.sk-toggleable__label {background-color: #d4ebff;}#sk-container-id-3 div.sk-serial::before {content: \"\";position: absolute;border-left: 1px solid gray;box-sizing: border-box;top: 0;bottom: 0;left: 50%;z-index: 0;}#sk-container-id-3 div.sk-serial {display: flex;flex-direction: column;align-items: center;background-color: white;padding-right: 0.2em;padding-left: 0.2em;position: relative;}#sk-container-id-3 div.sk-item {position: relative;z-index: 1;}#sk-container-id-3 div.sk-parallel {display: flex;align-items: stretch;justify-content: center;background-color: white;position: relative;}#sk-container-id-3 div.sk-item::before, #sk-container-id-3 div.sk-parallel-item::before {content: \"\";position: absolute;border-left: 1px solid gray;box-sizing: border-box;top: 0;bottom: 0;left: 50%;z-index: -1;}#sk-container-id-3 div.sk-parallel-item {display: flex;flex-direction: column;z-index: 1;position: relative;background-color: white;}#sk-container-id-3 div.sk-parallel-item:first-child::after {align-self: flex-end;width: 50%;}#sk-container-id-3 div.sk-parallel-item:last-child::after {align-self: flex-start;width: 50%;}#sk-container-id-3 div.sk-parallel-item:only-child::after {width: 0;}#sk-container-id-3 div.sk-dashed-wrapped {border: 1px dashed gray;margin: 0 0.4em 0.5em 0.4em;box-sizing: border-box;padding-bottom: 0.4em;background-color: white;}#sk-container-id-3 div.sk-label label {font-family: monospace;font-weight: bold;display: inline-block;line-height: 1.2em;}#sk-container-id-3 div.sk-label-container {text-align: center;}#sk-container-id-3 div.sk-container {/* jupyter's `normalize.less` sets `[hidden] { display: none; }` but bootstrap.min.css set `[hidden] { display: none !important; }` so we also need the `!important` here to be able to override the default hidden behavior on the sphinx rendered scikit-learn.org. See: https://github.com/scikit-learn/scikit-learn/issues/21755 */display: inline-block !important;position: relative;}#sk-container-id-3 div.sk-text-repr-fallback {display: none;}</style><div id=\"sk-container-id-3\" class=\"sk-top-container\"><div class=\"sk-text-repr-fallback\"><pre>DecisionTreeClassifier()</pre><b>In a Jupyter environment, please rerun this cell to show the HTML representation or trust the notebook. <br />On GitHub, the HTML representation is unable to render, please try loading this page with nbviewer.org.</b></div><div class=\"sk-container\" hidden><div class=\"sk-item\"><div class=\"sk-estimator sk-toggleable\"><input class=\"sk-toggleable__control sk-hidden--visually\" id=\"sk-estimator-id-3\" type=\"checkbox\" checked><label for=\"sk-estimator-id-3\" class=\"sk-toggleable__label sk-toggleable__label-arrow\">DecisionTreeClassifier</label><div class=\"sk-toggleable__content\"><pre>DecisionTreeClassifier()</pre></div></div></div></div></div>"
            ]
          },
          "metadata": {},
          "execution_count": 250
        }
      ]
    },
    {
      "cell_type": "code",
      "source": [
        "cols = data.columns"
      ],
      "metadata": {
        "id": "xVdxZe6mxTOH"
      },
      "execution_count": null,
      "outputs": []
    },
    {
      "cell_type": "code",
      "source": [
        "importance = model.feature_importances_"
      ],
      "metadata": {
        "id": "VHkPY6b_tg_7"
      },
      "execution_count": null,
      "outputs": []
    },
    {
      "cell_type": "code",
      "source": [
        "for i,v in enumerate(importance):\n",
        " print(f'Feature: {cols[i]} Score: {v}')\n",
        "# plot feature importance\n",
        "plt.bar([x for x in range(len(importance))], importance)\n",
        "plt.show()"
      ],
      "metadata": {
        "colab": {
          "base_uri": "https://localhost:8080/",
          "height": 789
        },
        "id": "tXXSLfKzuShD",
        "outputId": "c76694f3-59af-4a23-841d-46518a9fa263"
      },
      "execution_count": null,
      "outputs": [
        {
          "output_type": "stream",
          "name": "stdout",
          "text": [
            "Feature: Pos_diff Score: 0.0\n",
            "Feature: home_team_pos_str Score: 0.020996541231226084\n",
            "Feature: away_team_pos_str Score: 0.0021490810190429874\n",
            "Feature: home_team_goal_median Score: 0.0421962215221868\n",
            "Feature: home_team_opponents_goal_median Score: 0.047147495314760215\n",
            "Feature: home_team_shot_median Score: 0.040732735670000075\n",
            "Feature: home_team_shot_on_target_median Score: 0.03815478977345581\n",
            "Feature: home_team_fault_median Score: 0.09026992392202877\n",
            "Feature: home_team_corner_median Score: 0.06565312172737599\n",
            "Feature: home_team_yellow_card_median Score: 0.053378304390937104\n",
            "Feature: home_team_red_card_median Score: 0.004709066369240641\n",
            "Feature: away_team_goal_median Score: 0.0424262202884853\n",
            "Feature: away_team_shot_median Score: 0.03835786941934878\n",
            "Feature: away_team_shot_on_target_median Score: 0.03782512341207911\n",
            "Feature: away_team_fault_median Score: 0.08124681260053601\n",
            "Feature: away_team_corner_median Score: 0.06852392015051305\n",
            "Feature: away_team_yellow_card_median Score: 0.05265885479028751\n",
            "Feature: away_team_red_card_median Score: 0.003925888220061207\n",
            "Feature: shothome_ratio Score: 0.00015886204832500124\n",
            "Feature: shotaway_ratio Score: 0.0001485837471766364\n",
            "Feature: shot_on_targethome_ratio Score: 0.00010439851946365968\n",
            "Feature: shot_on_targetaway_ratio Score: 9.738642592410648e-05\n",
            "Feature: faulthome_ratio Score: 0.1295094516944681\n",
            "Feature: faultaway_ratio Score: 0.12032078799352672\n",
            "Feature: cornerhome_ratio Score: 9.95244970376957e-05\n",
            "Feature: corneraway_ratio Score: 5.0417444502901136e-05\n",
            "Feature: yellow_cardhome_ratio Score: 0.005749237515807779\n",
            "Feature: yellow_cardaway_ratio Score: 0.0054382857029514195\n",
            "Feature: red_cardhome_ratio Score: 0.004379086029988588\n",
            "Feature: red_cardaway_ratio Score: 0.0035920085592621408\n"
          ]
        },
        {
          "output_type": "display_data",
          "data": {
            "text/plain": [
              "<Figure size 432x288 with 1 Axes>"
            ],
            "image/png": "[encoded data removed]"
          },
          "metadata": {}
        }
      ]
    },
    {
      "cell_type": "code",
      "source": [
        "pca = PCA(n_components=10) # estimate only 2 PCs\n",
        "X_new = pca.fit_transform(X_scaled) # project the original data into the PCA space"
      ],
      "metadata": {
        "id": "s09OCFCxxebc"
      },
      "execution_count": null,
      "outputs": []
    },
    {
      "cell_type": "code",
      "source": [
        "print(pca.explained_variance_ratio_)"
      ],
      "metadata": {
        "colab": {
          "base_uri": "https://localhost:8080/"
        },
        "id": "aO256Dbfxv7u",
        "outputId": "cf98762e-8350-4f7b-f9d5-ee6a2b4b1648"
      },
      "execution_count": null,
      "outputs": [
        {
          "output_type": "stream",
          "name": "stdout",
          "text": [
            "[0.44108152 0.07220956 0.06687831 0.0570114  0.05294047 0.05008693\n",
            " 0.04579203 0.03687675 0.02773294 0.02355794]\n"
          ]
        }
      ]
    },
    {
      "cell_type": "code",
      "source": [
        "data_y1= data[data['home_win_flag']==1].reset_index(drop=True)\n",
        "data_y0= data[data['home_win_flag']==0].reset_index(drop=True)"
      ],
      "metadata": {
        "id": "kDFySwzfylS8"
      },
      "execution_count": null,
      "outputs": []
    },
    {
      "cell_type": "code",
      "source": [
        "### home win col 164\n",
        "data_to_train = pd.concat([data_y1[0:20000],data_y0[0:20000]], ignore_index=True)\n",
        "y_train = data_to_train.iloc[:, -1].values\n",
        "X_train = data_to_train.drop([\"home_win_flag\"], axis = 1).values\n"
      ],
      "metadata": {
        "id": "TtjJ2QAfzzK5"
      },
      "execution_count": null,
      "outputs": []
    },
    {
      "cell_type": "code",
      "source": [
        "data_to_test = pd.concat([data_y1[20000:28000],data_y0[20000:28000]], ignore_index=True)\n",
        "y_test = data_to_test.iloc[:, -1].values\n",
        "X_test = data_to_test.drop([\"home_win_flag\"], axis = 1).values"
      ],
      "metadata": {
        "id": "B8ROljCIz2c4"
      },
      "execution_count": null,
      "outputs": []
    },
    {
      "cell_type": "code",
      "source": [
        "X_train = np.nan_to_num(X_train)\n",
        "X_test = np.nan_to_num(X_test)\n",
        "X_test = MM.fit_transform(X_test)"
      ],
      "metadata": {
        "id": "F4QGlmiu1PrG"
      },
      "execution_count": null,
      "outputs": []
    },
    {
      "cell_type": "code",
      "source": [
        "from sklearn.ensemble import RandomForestClassifier\n",
        "from sklearn.datasets import make_classification"
      ],
      "metadata": {
        "id": "l1utGf250Q7E"
      },
      "execution_count": null,
      "outputs": []
    },
    {
      "cell_type": "code",
      "source": [
        "clf = RandomForestClassifier(max_depth=10, random_state=0)\n",
        "X_train = MM.fit_transform(X_train)\n",
        "clf.fit(X_train, y_train)"
      ],
      "metadata": {
        "colab": {
          "base_uri": "https://localhost:8080/",
          "height": 75
        },
        "id": "sW_xTQ3m0S6E",
        "outputId": "1db0aeea-196b-4ff9-dc41-191b70f366cd"
      },
      "execution_count": null,
      "outputs": [
        {
          "output_type": "execute_result",
          "data": {
            "text/plain": [
              "RandomForestClassifier(max_depth=10, random_state=0)"
            ],
            "text/html": [
              "<style>#sk-container-id-4 {color: black;background-color: white;}#sk-container-id-4 pre{padding: 0;}#sk-container-id-4 div.sk-toggleable {background-color: white;}#sk-container-id-4 label.sk-toggleable__label {cursor: pointer;display: block;width: 100%;margin-bottom: 0;padding: 0.3em;box-sizing: border-box;text-align: center;}#sk-container-id-4 label.sk-toggleable__label-arrow:before {content: \"▸\";float: left;margin-right: 0.25em;color: #696969;}#sk-container-id-4 label.sk-toggleable__label-arrow:hover:before {color: black;}#sk-container-id-4 div.sk-estimator:hover label.sk-toggleable__label-arrow:before {color: black;}#sk-container-id-4 div.sk-toggleable__content {max-height: 0;max-width: 0;overflow: hidden;text-align: left;background-color: #f0f8ff;}#sk-container-id-4 div.sk-toggleable__content pre {margin: 0.2em;color: black;border-radius: 0.25em;background-color: #f0f8ff;}#sk-container-id-4 input.sk-toggleable__control:checked~div.sk-toggleable__content {max-height: 200px;max-width: 100%;overflow: auto;}#sk-container-id-4 input.sk-toggleable__control:checked~label.sk-toggleable__label-arrow:before {content: \"▾\";}#sk-container-id-4 div.sk-estimator input.sk-toggleable__control:checked~label.sk-toggleable__label {background-color: #d4ebff;}#sk-container-id-4 div.sk-label input.sk-toggleable__control:checked~label.sk-toggleable__label {background-color: #d4ebff;}#sk-container-id-4 input.sk-hidden--visually {border: 0;clip: rect(1px 1px 1px 1px);clip: rect(1px, 1px, 1px, 1px);height: 1px;margin: -1px;overflow: hidden;padding: 0;position: absolute;width: 1px;}#sk-container-id-4 div.sk-estimator {font-family: monospace;background-color: #f0f8ff;border: 1px dotted black;border-radius: 0.25em;box-sizing: border-box;margin-bottom: 0.5em;}#sk-container-id-4 div.sk-estimator:hover {background-color: #d4ebff;}#sk-container-id-4 div.sk-parallel-item::after {content: \"\";width: 100%;border-bottom: 1px solid gray;flex-grow: 1;}#sk-container-id-4 div.sk-label:hover label.sk-toggleable__label {background-color: #d4ebff;}#sk-container-id-4 div.sk-serial::before {content: \"\";position: absolute;border-left: 1px solid gray;box-sizing: border-box;top: 0;bottom: 0;left: 50%;z-index: 0;}#sk-container-id-4 div.sk-serial {display: flex;flex-direction: column;align-items: center;background-color: white;padding-right: 0.2em;padding-left: 0.2em;position: relative;}#sk-container-id-4 div.sk-item {position: relative;z-index: 1;}#sk-container-id-4 div.sk-parallel {display: flex;align-items: stretch;justify-content: center;background-color: white;position: relative;}#sk-container-id-4 div.sk-item::before, #sk-container-id-4 div.sk-parallel-item::before {content: \"\";position: absolute;border-left: 1px solid gray;box-sizing: border-box;top: 0;bottom: 0;left: 50%;z-index: -1;}#sk-container-id-4 div.sk-parallel-item {display: flex;flex-direction: column;z-index: 1;position: relative;background-color: white;}#sk-container-id-4 div.sk-parallel-item:first-child::after {align-self: flex-end;width: 50%;}#sk-container-id-4 div.sk-parallel-item:last-child::after {align-self: flex-start;width: 50%;}#sk-container-id-4 div.sk-parallel-item:only-child::after {width: 0;}#sk-container-id-4 div.sk-dashed-wrapped {border: 1px dashed gray;margin: 0 0.4em 0.5em 0.4em;box-sizing: border-box;padding-bottom: 0.4em;background-color: white;}#sk-container-id-4 div.sk-label label {font-family: monospace;font-weight: bold;display: inline-block;line-height: 1.2em;}#sk-container-id-4 div.sk-label-container {text-align: center;}#sk-container-id-4 div.sk-container {/* jupyter's `normalize.less` sets `[hidden] { display: none; }` but bootstrap.min.css set `[hidden] { display: none !important; }` so we also need the `!important` here to be able to override the default hidden behavior on the sphinx rendered scikit-learn.org. See: https://github.com/scikit-learn/scikit-learn/issues/21755 */display: inline-block !important;position: relative;}#sk-container-id-4 div.sk-text-repr-fallback {display: none;}</style><div id=\"sk-container-id-4\" class=\"sk-top-container\"><div class=\"sk-text-repr-fallback\"><pre>RandomForestClassifier(max_depth=10, random_state=0)</pre><b>In a Jupyter environment, please rerun this cell to show the HTML representation or trust the notebook. <br />On GitHub, the HTML representation is unable to render, please try loading this page with nbviewer.org.</b></div><div class=\"sk-container\" hidden><div class=\"sk-item\"><div class=\"sk-estimator sk-toggleable\"><input class=\"sk-toggleable__control sk-hidden--visually\" id=\"sk-estimator-id-4\" type=\"checkbox\" checked><label for=\"sk-estimator-id-4\" class=\"sk-toggleable__label sk-toggleable__label-arrow\">RandomForestClassifier</label><div class=\"sk-toggleable__content\"><pre>RandomForestClassifier(max_depth=10, random_state=0)</pre></div></div></div></div></div>"
            ]
          },
          "metadata": {},
          "execution_count": 261
        }
      ]
    },
    {
      "cell_type": "code",
      "source": [
        "preds = clf.predict(X_test)"
      ],
      "metadata": {
        "id": "sjeJpXnf0yVy"
      },
      "execution_count": null,
      "outputs": []
    },
    {
      "cell_type": "code",
      "source": [
        "from sklearn.metrics import confusion_matrix\n",
        "import sklearn"
      ],
      "metadata": {
        "id": "vvEwyCV00-bG"
      },
      "execution_count": null,
      "outputs": []
    },
    {
      "cell_type": "code",
      "source": [
        "sklearn.metrics.confusion_matrix(y_test, preds)"
      ],
      "metadata": {
        "colab": {
          "base_uri": "https://localhost:8080/"
        },
        "id": "ROUHZce81fqA",
        "outputId": "573cbad6-9c29-43de-db8c-aa0fe74e6913"
      },
      "execution_count": null,
      "outputs": [
        {
          "output_type": "execute_result",
          "data": {
            "text/plain": [
              "array([[4809, 3191],\n",
              "       [3523, 4477]])"
            ]
          },
          "metadata": {},
          "execution_count": 264
        }
      ]
    },
    {
      "cell_type": "code",
      "source": [
        "print (clf.score(X_train, y_train))\n",
        "print(clf.score(X_test, y_test))"
      ],
      "metadata": {
        "colab": {
          "base_uri": "https://localhost:8080/"
        },
        "id": "SHDh8HEf1iXw",
        "outputId": "dad6c660-4954-4fef-c454-735430e98dd8"
      },
      "execution_count": null,
      "outputs": [
        {
          "output_type": "stream",
          "name": "stdout",
          "text": [
            "0.666325\n",
            "0.580375\n"
          ]
        }
      ]
    },
    {
      "cell_type": "code",
      "source": [
        "importance = clf.feature_importances_"
      ],
      "metadata": {
        "id": "aDcDqM4j1nUf"
      },
      "execution_count": null,
      "outputs": []
    },
    {
      "cell_type": "code",
      "source": [
        "for i,v in enumerate(importance):\n",
        " print(f'Feature: {cols[i]} Score: {v}')\n",
        "# plot feature importance\n",
        "plt.bar([x for x in range(len(importance))], importance)\n",
        "plt.show()"
      ],
      "metadata": {
        "colab": {
          "base_uri": "https://localhost:8080/",
          "height": 789
        },
        "id": "hTOBkMeI16o9",
        "outputId": "890f01dd-e79f-4639-b6b0-23ff72a2ce5f"
      },
      "execution_count": null,
      "outputs": [
        {
          "output_type": "stream",
          "name": "stdout",
          "text": [
            "Feature: Pos_diff Score: 0.0\n",
            "Feature: home_team_pos_str Score: 0.059119730483651774\n",
            "Feature: away_team_pos_str Score: 0.0744122106275897\n",
            "Feature: home_team_goal_median Score: 0.05855833557496313\n",
            "Feature: home_team_opponents_goal_median Score: 0.03613301794621657\n",
            "Feature: home_team_shot_median Score: 0.053648775240348924\n",
            "Feature: home_team_shot_on_target_median Score: 0.049118134188637225\n",
            "Feature: home_team_fault_median Score: 0.05260839603885659\n",
            "Feature: home_team_corner_median Score: 0.0545867591797907\n",
            "Feature: home_team_yellow_card_median Score: 0.03525005936005847\n",
            "Feature: home_team_red_card_median Score: 0.00486076716825897\n",
            "Feature: away_team_goal_median Score: 0.04346707983875629\n",
            "Feature: away_team_shot_median Score: 0.07756859070810257\n",
            "Feature: away_team_shot_on_target_median Score: 0.07890077980387625\n",
            "Feature: away_team_fault_median Score: 0.05345208137389894\n",
            "Feature: away_team_corner_median Score: 0.06460274313718505\n",
            "Feature: away_team_yellow_card_median Score: 0.04248554781458719\n",
            "Feature: away_team_red_card_median Score: 0.005366658398075207\n",
            "Feature: shothome_ratio Score: 0.00028712858384621984\n",
            "Feature: shotaway_ratio Score: 0.0003433142871626011\n",
            "Feature: shot_on_targethome_ratio Score: 0.0003644993184934514\n",
            "Feature: shot_on_targetaway_ratio Score: 0.000491862939599441\n",
            "Feature: faulthome_ratio Score: 0.06883693649146048\n",
            "Feature: faultaway_ratio Score: 0.06588678160044638\n",
            "Feature: cornerhome_ratio Score: 5.246222289180805e-05\n",
            "Feature: corneraway_ratio Score: 7.014108889586409e-05\n",
            "Feature: yellow_cardhome_ratio Score: 0.006139163331268873\n",
            "Feature: yellow_cardaway_ratio Score: 0.005439083456510817\n",
            "Feature: red_cardhome_ratio Score: 0.003794425450438999\n",
            "Feature: red_cardaway_ratio Score: 0.004154534346131517\n"
          ]
        },
        {
          "output_type": "display_data",
          "data": {
            "text/plain": [
              "<Figure size 432x288 with 1 Axes>"
            ],
            "image/png": "[encoded data removed]"
          },
          "metadata": {}
        }
      ]
    },
    {
      "cell_type": "code",
      "source": [
        "from keras.models import Sequential\n",
        "from keras.layers import Dense"
      ],
      "metadata": {
        "id": "OxvB2wox2PMS"
      },
      "execution_count": null,
      "outputs": []
    },
    {
      "cell_type": "code",
      "source": [
        "len(data.columns)"
      ],
      "metadata": {
        "colab": {
          "base_uri": "https://localhost:8080/"
        },
        "id": "xDWx-6913t2M",
        "outputId": "cb858990-1413-484b-8fd1-daac512ca3a8"
      },
      "execution_count": null,
      "outputs": [
        {
          "output_type": "execute_result",
          "data": {
            "text/plain": [
              "31"
            ]
          },
          "metadata": {},
          "execution_count": 269
        }
      ]
    },
    {
      "cell_type": "code",
      "source": [
        "model = Sequential() \n",
        "model.add(Dense(128, activation='relu', input_dim=30))\n",
        "model.add(Dense(1, activation='sigmoid')) \n",
        "model.compile(loss='binary_crossentropy', optimizer='adam', metrics=['accuracy']) \n",
        "model.summary()"
      ],
      "metadata": {
        "colab": {
          "base_uri": "https://localhost:8080/"
        },
        "id": "HbvJhpAp33RD",
        "outputId": "b2428985-e053-44b1-e8d5-909ab895e044"
      },
      "execution_count": null,
      "outputs": [
        {
          "output_type": "stream",
          "name": "stdout",
          "text": [
            "Model: \"sequential_2\"\n",
            "_________________________________________________________________\n",
            " Layer (type)                Output Shape              Param #   \n",
            "=================================================================\n",
            " dense_4 (Dense)             (None, 128)               3968      \n",
            "                                                                 \n",
            " dense_5 (Dense)             (None, 1)                 129       \n",
            "                                                                 \n",
            "=================================================================\n",
            "Total params: 4,097\n",
            "Trainable params: 4,097\n",
            "Non-trainable params: 0\n",
            "_________________________________________________________________\n"
          ]
        }
      ]
    },
    {
      "cell_type": "code",
      "source": [
        "hist = model.fit(X_train, y_train, validation_data=(X_test, y_test), epochs=100, batch_size=100)"
      ],
      "metadata": {
        "colab": {
          "base_uri": "https://localhost:8080/"
        },
        "id": "NQiXws1u38mi",
        "outputId": "d5aec334-49d3-481c-94f0-3d2fbb4686e5"
      },
      "execution_count": null,
      "outputs": [
        {
          "output_type": "stream",
          "name": "stdout",
          "text": [
            "Epoch 1/100\n",
            "400/400 [==============================] - 48s 4ms/step - loss: 0.6724 - accuracy: 0.5791 - val_loss: 0.6665 - val_accuracy: 0.5837\n",
            "Epoch 2/100\n",
            "400/400 [==============================] - 2s 4ms/step - loss: 0.6686 - accuracy: 0.5832 - val_loss: 0.6675 - val_accuracy: 0.5828\n",
            "Epoch 3/100\n",
            "400/400 [==============================] - 2s 6ms/step - loss: 0.6678 - accuracy: 0.5859 - val_loss: 0.6673 - val_accuracy: 0.5831\n",
            "Epoch 4/100\n",
            "400/400 [==============================] - 1s 3ms/step - loss: 0.6677 - accuracy: 0.5875 - val_loss: 0.6680 - val_accuracy: 0.5821\n",
            "Epoch 5/100\n",
            "400/400 [==============================] - 1s 3ms/step - loss: 0.6674 - accuracy: 0.5869 - val_loss: 0.6686 - val_accuracy: 0.5805\n",
            "Epoch 6/100\n",
            "400/400 [==============================] - 1s 3ms/step - loss: 0.6670 - accuracy: 0.5861 - val_loss: 0.6705 - val_accuracy: 0.5812\n",
            "Epoch 7/100\n",
            "400/400 [==============================] - 1s 3ms/step - loss: 0.6673 - accuracy: 0.5875 - val_loss: 0.6686 - val_accuracy: 0.5814\n",
            "Epoch 8/100\n",
            "400/400 [==============================] - 1s 3ms/step - loss: 0.6666 - accuracy: 0.5882 - val_loss: 0.6670 - val_accuracy: 0.5831\n",
            "Epoch 9/100\n",
            "400/400 [==============================] - 1s 3ms/step - loss: 0.6666 - accuracy: 0.5872 - val_loss: 0.6670 - val_accuracy: 0.5841\n",
            "Epoch 10/100\n",
            "400/400 [==============================] - 1s 3ms/step - loss: 0.6665 - accuracy: 0.5864 - val_loss: 0.6672 - val_accuracy: 0.5816\n",
            "Epoch 11/100\n",
            "400/400 [==============================] - 2s 5ms/step - loss: 0.6664 - accuracy: 0.5874 - val_loss: 0.6663 - val_accuracy: 0.5842\n",
            "Epoch 12/100\n",
            "400/400 [==============================] - 2s 5ms/step - loss: 0.6661 - accuracy: 0.5888 - val_loss: 0.6700 - val_accuracy: 0.5801\n",
            "Epoch 13/100\n",
            "400/400 [==============================] - 1s 3ms/step - loss: 0.6661 - accuracy: 0.5867 - val_loss: 0.6689 - val_accuracy: 0.5823\n",
            "Epoch 14/100\n",
            "400/400 [==============================] - 1s 3ms/step - loss: 0.6658 - accuracy: 0.5874 - val_loss: 0.6684 - val_accuracy: 0.5807\n",
            "Epoch 15/100\n",
            "400/400 [==============================] - 1s 3ms/step - loss: 0.6656 - accuracy: 0.5883 - val_loss: 0.6688 - val_accuracy: 0.5836\n",
            "Epoch 16/100\n",
            "400/400 [==============================] - 1s 3ms/step - loss: 0.6654 - accuracy: 0.5881 - val_loss: 0.6667 - val_accuracy: 0.5815\n",
            "Epoch 17/100\n",
            "400/400 [==============================] - 1s 3ms/step - loss: 0.6652 - accuracy: 0.5892 - val_loss: 0.6673 - val_accuracy: 0.5828\n",
            "Epoch 18/100\n",
            "400/400 [==============================] - 1s 3ms/step - loss: 0.6652 - accuracy: 0.5902 - val_loss: 0.6679 - val_accuracy: 0.5826\n",
            "Epoch 19/100\n",
            "400/400 [==============================] - 1s 3ms/step - loss: 0.6649 - accuracy: 0.5883 - val_loss: 0.6678 - val_accuracy: 0.5816\n",
            "Epoch 20/100\n",
            "400/400 [==============================] - 2s 5ms/step - loss: 0.6647 - accuracy: 0.5893 - val_loss: 0.6684 - val_accuracy: 0.5834\n",
            "Epoch 21/100\n",
            "400/400 [==============================] - 2s 5ms/step - loss: 0.6647 - accuracy: 0.5903 - val_loss: 0.6698 - val_accuracy: 0.5819\n",
            "Epoch 22/100\n",
            "400/400 [==============================] - 1s 3ms/step - loss: 0.6645 - accuracy: 0.5896 - val_loss: 0.6674 - val_accuracy: 0.5828\n",
            "Epoch 23/100\n",
            "400/400 [==============================] - 1s 3ms/step - loss: 0.6644 - accuracy: 0.5895 - val_loss: 0.6671 - val_accuracy: 0.5839\n",
            "Epoch 24/100\n",
            "400/400 [==============================] - 1s 3ms/step - loss: 0.6644 - accuracy: 0.5906 - val_loss: 0.6678 - val_accuracy: 0.5851\n",
            "Epoch 25/100\n",
            "400/400 [==============================] - 1s 3ms/step - loss: 0.6641 - accuracy: 0.5909 - val_loss: 0.6683 - val_accuracy: 0.5839\n",
            "Epoch 26/100\n",
            "400/400 [==============================] - 1s 3ms/step - loss: 0.6639 - accuracy: 0.5912 - val_loss: 0.6676 - val_accuracy: 0.5822\n",
            "Epoch 27/100\n",
            "400/400 [==============================] - 1s 3ms/step - loss: 0.6636 - accuracy: 0.5888 - val_loss: 0.6686 - val_accuracy: 0.5846\n",
            "Epoch 28/100\n",
            "400/400 [==============================] - 1s 3ms/step - loss: 0.6639 - accuracy: 0.5922 - val_loss: 0.6678 - val_accuracy: 0.5819\n",
            "Epoch 29/100\n",
            "400/400 [==============================] - 2s 4ms/step - loss: 0.6634 - accuracy: 0.5913 - val_loss: 0.6696 - val_accuracy: 0.5807\n",
            "Epoch 30/100\n",
            "400/400 [==============================] - 2s 6ms/step - loss: 0.6633 - accuracy: 0.5906 - val_loss: 0.6695 - val_accuracy: 0.5848\n",
            "Epoch 31/100\n",
            "400/400 [==============================] - 1s 3ms/step - loss: 0.6631 - accuracy: 0.5913 - val_loss: 0.6711 - val_accuracy: 0.5829\n",
            "Epoch 32/100\n",
            "400/400 [==============================] - 1s 3ms/step - loss: 0.6629 - accuracy: 0.5931 - val_loss: 0.6695 - val_accuracy: 0.5822\n",
            "Epoch 33/100\n",
            "400/400 [==============================] - 1s 3ms/step - loss: 0.6630 - accuracy: 0.5902 - val_loss: 0.6688 - val_accuracy: 0.5807\n",
            "Epoch 34/100\n",
            "400/400 [==============================] - 1s 3ms/step - loss: 0.6627 - accuracy: 0.5913 - val_loss: 0.6683 - val_accuracy: 0.5836\n",
            "Epoch 35/100\n",
            "400/400 [==============================] - 1s 3ms/step - loss: 0.6625 - accuracy: 0.5925 - val_loss: 0.6685 - val_accuracy: 0.5828\n",
            "Epoch 36/100\n",
            "400/400 [==============================] - 1s 3ms/step - loss: 0.6623 - accuracy: 0.5944 - val_loss: 0.6709 - val_accuracy: 0.5813\n",
            "Epoch 37/100\n",
            "400/400 [==============================] - 1s 3ms/step - loss: 0.6619 - accuracy: 0.5928 - val_loss: 0.6677 - val_accuracy: 0.5832\n",
            "Epoch 38/100\n",
            "400/400 [==============================] - 2s 4ms/step - loss: 0.6618 - accuracy: 0.5945 - val_loss: 0.6691 - val_accuracy: 0.5839\n",
            "Epoch 39/100\n",
            "400/400 [==============================] - 2s 5ms/step - loss: 0.6618 - accuracy: 0.5936 - val_loss: 0.6705 - val_accuracy: 0.5834\n",
            "Epoch 40/100\n",
            "400/400 [==============================] - 1s 3ms/step - loss: 0.6616 - accuracy: 0.5946 - val_loss: 0.6699 - val_accuracy: 0.5826\n",
            "Epoch 41/100\n",
            "400/400 [==============================] - 1s 3ms/step - loss: 0.6615 - accuracy: 0.5945 - val_loss: 0.6691 - val_accuracy: 0.5824\n",
            "Epoch 42/100\n",
            "400/400 [==============================] - 1s 3ms/step - loss: 0.6612 - accuracy: 0.5936 - val_loss: 0.6696 - val_accuracy: 0.5841\n",
            "Epoch 43/100\n",
            "400/400 [==============================] - 1s 3ms/step - loss: 0.6611 - accuracy: 0.5940 - val_loss: 0.6687 - val_accuracy: 0.5846\n",
            "Epoch 44/100\n",
            "400/400 [==============================] - 1s 3ms/step - loss: 0.6612 - accuracy: 0.5946 - val_loss: 0.6694 - val_accuracy: 0.5821\n",
            "Epoch 45/100\n",
            "400/400 [==============================] - 1s 3ms/step - loss: 0.6610 - accuracy: 0.5955 - val_loss: 0.6695 - val_accuracy: 0.5804\n",
            "Epoch 46/100\n",
            "400/400 [==============================] - 1s 3ms/step - loss: 0.6605 - accuracy: 0.5942 - val_loss: 0.6701 - val_accuracy: 0.5837\n",
            "Epoch 47/100\n",
            "400/400 [==============================] - 2s 5ms/step - loss: 0.6605 - accuracy: 0.5968 - val_loss: 0.6697 - val_accuracy: 0.5836\n",
            "Epoch 48/100\n",
            "400/400 [==============================] - 2s 5ms/step - loss: 0.6604 - accuracy: 0.5943 - val_loss: 0.6740 - val_accuracy: 0.5828\n",
            "Epoch 49/100\n",
            "400/400 [==============================] - 1s 3ms/step - loss: 0.6602 - accuracy: 0.5958 - val_loss: 0.6700 - val_accuracy: 0.5821\n",
            "Epoch 50/100\n",
            "400/400 [==============================] - 1s 3ms/step - loss: 0.6601 - accuracy: 0.5963 - val_loss: 0.6725 - val_accuracy: 0.5766\n",
            "Epoch 51/100\n",
            "400/400 [==============================] - 1s 3ms/step - loss: 0.6604 - accuracy: 0.5958 - val_loss: 0.6721 - val_accuracy: 0.5819\n",
            "Epoch 52/100\n",
            "400/400 [==============================] - 1s 3ms/step - loss: 0.6596 - accuracy: 0.5990 - val_loss: 0.6709 - val_accuracy: 0.5835\n",
            "Epoch 53/100\n",
            "400/400 [==============================] - 1s 3ms/step - loss: 0.6594 - accuracy: 0.5982 - val_loss: 0.6707 - val_accuracy: 0.5813\n",
            "Epoch 54/100\n",
            "400/400 [==============================] - 2s 4ms/step - loss: 0.6594 - accuracy: 0.5984 - val_loss: 0.6693 - val_accuracy: 0.5846\n",
            "Epoch 55/100\n",
            "400/400 [==============================] - 1s 3ms/step - loss: 0.6593 - accuracy: 0.5982 - val_loss: 0.6693 - val_accuracy: 0.5830\n",
            "Epoch 56/100\n",
            "400/400 [==============================] - 2s 5ms/step - loss: 0.6592 - accuracy: 0.5978 - val_loss: 0.6707 - val_accuracy: 0.5835\n",
            "Epoch 57/100\n",
            "400/400 [==============================] - 2s 4ms/step - loss: 0.6588 - accuracy: 0.5993 - val_loss: 0.6708 - val_accuracy: 0.5809\n",
            "Epoch 58/100\n",
            "400/400 [==============================] - 1s 3ms/step - loss: 0.6588 - accuracy: 0.5979 - val_loss: 0.6706 - val_accuracy: 0.5829\n",
            "Epoch 59/100\n",
            "400/400 [==============================] - 1s 3ms/step - loss: 0.6587 - accuracy: 0.5978 - val_loss: 0.6698 - val_accuracy: 0.5840\n",
            "Epoch 60/100\n",
            "400/400 [==============================] - 1s 3ms/step - loss: 0.6585 - accuracy: 0.5998 - val_loss: 0.6723 - val_accuracy: 0.5813\n",
            "Epoch 61/100\n",
            "400/400 [==============================] - 1s 3ms/step - loss: 0.6585 - accuracy: 0.5968 - val_loss: 0.6746 - val_accuracy: 0.5817\n",
            "Epoch 62/100\n",
            "400/400 [==============================] - 1s 3ms/step - loss: 0.6582 - accuracy: 0.6004 - val_loss: 0.6725 - val_accuracy: 0.5826\n",
            "Epoch 63/100\n",
            "400/400 [==============================] - 1s 3ms/step - loss: 0.6580 - accuracy: 0.5984 - val_loss: 0.6737 - val_accuracy: 0.5821\n",
            "Epoch 64/100\n",
            "400/400 [==============================] - 1s 3ms/step - loss: 0.6578 - accuracy: 0.6003 - val_loss: 0.6731 - val_accuracy: 0.5830\n",
            "Epoch 65/100\n",
            "400/400 [==============================] - 2s 5ms/step - loss: 0.6579 - accuracy: 0.5991 - val_loss: 0.6714 - val_accuracy: 0.5834\n",
            "Epoch 66/100\n",
            "400/400 [==============================] - 2s 5ms/step - loss: 0.6576 - accuracy: 0.6007 - val_loss: 0.6713 - val_accuracy: 0.5842\n",
            "Epoch 67/100\n",
            "400/400 [==============================] - 1s 4ms/step - loss: 0.6577 - accuracy: 0.5986 - val_loss: 0.6739 - val_accuracy: 0.5814\n",
            "Epoch 68/100\n",
            "400/400 [==============================] - 1s 3ms/step - loss: 0.6575 - accuracy: 0.6008 - val_loss: 0.6740 - val_accuracy: 0.5819\n",
            "Epoch 69/100\n",
            "400/400 [==============================] - 1s 3ms/step - loss: 0.6573 - accuracy: 0.6002 - val_loss: 0.6712 - val_accuracy: 0.5836\n",
            "Epoch 70/100\n",
            "400/400 [==============================] - 1s 3ms/step - loss: 0.6572 - accuracy: 0.6005 - val_loss: 0.6732 - val_accuracy: 0.5819\n",
            "Epoch 71/100\n",
            "400/400 [==============================] - 1s 3ms/step - loss: 0.6568 - accuracy: 0.6008 - val_loss: 0.6734 - val_accuracy: 0.5819\n",
            "Epoch 72/100\n",
            "400/400 [==============================] - 1s 3ms/step - loss: 0.6566 - accuracy: 0.6001 - val_loss: 0.6776 - val_accuracy: 0.5814\n",
            "Epoch 73/100\n",
            "400/400 [==============================] - 1s 3ms/step - loss: 0.6566 - accuracy: 0.6036 - val_loss: 0.6716 - val_accuracy: 0.5842\n",
            "Epoch 74/100\n",
            "400/400 [==============================] - 2s 5ms/step - loss: 0.6563 - accuracy: 0.6008 - val_loss: 0.6752 - val_accuracy: 0.5806\n",
            "Epoch 75/100\n",
            "400/400 [==============================] - 2s 4ms/step - loss: 0.6565 - accuracy: 0.6006 - val_loss: 0.6743 - val_accuracy: 0.5826\n",
            "Epoch 76/100\n",
            "400/400 [==============================] - 1s 3ms/step - loss: 0.6560 - accuracy: 0.6007 - val_loss: 0.6777 - val_accuracy: 0.5809\n",
            "Epoch 77/100\n",
            "400/400 [==============================] - 1s 3ms/step - loss: 0.6564 - accuracy: 0.6025 - val_loss: 0.6734 - val_accuracy: 0.5840\n",
            "Epoch 78/100\n",
            "400/400 [==============================] - 1s 3ms/step - loss: 0.6561 - accuracy: 0.6018 - val_loss: 0.6733 - val_accuracy: 0.5795\n",
            "Epoch 79/100\n",
            "400/400 [==============================] - 1s 3ms/step - loss: 0.6559 - accuracy: 0.6023 - val_loss: 0.6766 - val_accuracy: 0.5798\n",
            "Epoch 80/100\n",
            "400/400 [==============================] - 1s 3ms/step - loss: 0.6557 - accuracy: 0.6031 - val_loss: 0.6724 - val_accuracy: 0.5834\n",
            "Epoch 81/100\n",
            "400/400 [==============================] - 1s 3ms/step - loss: 0.6556 - accuracy: 0.6036 - val_loss: 0.6777 - val_accuracy: 0.5794\n",
            "Epoch 82/100\n",
            "400/400 [==============================] - 1s 3ms/step - loss: 0.6552 - accuracy: 0.6046 - val_loss: 0.6768 - val_accuracy: 0.5790\n",
            "Epoch 83/100\n",
            "400/400 [==============================] - 2s 4ms/step - loss: 0.6552 - accuracy: 0.6034 - val_loss: 0.6740 - val_accuracy: 0.5828\n",
            "Epoch 84/100\n",
            "400/400 [==============================] - 2s 5ms/step - loss: 0.6550 - accuracy: 0.6040 - val_loss: 0.6740 - val_accuracy: 0.5802\n",
            "Epoch 85/100\n",
            "400/400 [==============================] - 1s 3ms/step - loss: 0.6549 - accuracy: 0.6048 - val_loss: 0.6762 - val_accuracy: 0.5832\n",
            "Epoch 86/100\n",
            "400/400 [==============================] - 1s 3ms/step - loss: 0.6548 - accuracy: 0.6031 - val_loss: 0.6778 - val_accuracy: 0.5799\n",
            "Epoch 87/100\n",
            "400/400 [==============================] - 1s 3ms/step - loss: 0.6548 - accuracy: 0.6009 - val_loss: 0.6765 - val_accuracy: 0.5803\n",
            "Epoch 88/100\n",
            "400/400 [==============================] - 1s 3ms/step - loss: 0.6546 - accuracy: 0.6051 - val_loss: 0.6754 - val_accuracy: 0.5826\n",
            "Epoch 89/100\n",
            "400/400 [==============================] - 1s 3ms/step - loss: 0.6544 - accuracy: 0.6028 - val_loss: 0.6737 - val_accuracy: 0.5840\n",
            "Epoch 90/100\n",
            "400/400 [==============================] - 1s 3ms/step - loss: 0.6542 - accuracy: 0.6051 - val_loss: 0.6790 - val_accuracy: 0.5770\n",
            "Epoch 91/100\n",
            "400/400 [==============================] - 1s 3ms/step - loss: 0.6543 - accuracy: 0.6051 - val_loss: 0.6761 - val_accuracy: 0.5836\n",
            "Epoch 92/100\n",
            "400/400 [==============================] - 2s 4ms/step - loss: 0.6540 - accuracy: 0.6043 - val_loss: 0.6774 - val_accuracy: 0.5792\n",
            "Epoch 93/100\n",
            "400/400 [==============================] - 2s 6ms/step - loss: 0.6542 - accuracy: 0.6043 - val_loss: 0.6794 - val_accuracy: 0.5744\n",
            "Epoch 94/100\n",
            "400/400 [==============================] - 1s 3ms/step - loss: 0.6537 - accuracy: 0.6065 - val_loss: 0.6744 - val_accuracy: 0.5806\n",
            "Epoch 95/100\n",
            "400/400 [==============================] - 1s 3ms/step - loss: 0.6537 - accuracy: 0.6066 - val_loss: 0.6746 - val_accuracy: 0.5816\n",
            "Epoch 96/100\n",
            "400/400 [==============================] - 1s 3ms/step - loss: 0.6535 - accuracy: 0.6054 - val_loss: 0.6757 - val_accuracy: 0.5819\n",
            "Epoch 97/100\n",
            "400/400 [==============================] - 1s 3ms/step - loss: 0.6532 - accuracy: 0.6070 - val_loss: 0.6756 - val_accuracy: 0.5828\n",
            "Epoch 98/100\n",
            "400/400 [==============================] - 1s 3ms/step - loss: 0.6533 - accuracy: 0.6051 - val_loss: 0.6772 - val_accuracy: 0.5802\n",
            "Epoch 99/100\n",
            "400/400 [==============================] - 1s 3ms/step - loss: 0.6533 - accuracy: 0.6072 - val_loss: 0.6790 - val_accuracy: 0.5781\n",
            "Epoch 100/100\n",
            "400/400 [==============================] - 1s 3ms/step - loss: 0.6529 - accuracy: 0.6040 - val_loss: 0.6789 - val_accuracy: 0.5801\n"
          ]
        }
      ]
    },
    {
      "cell_type": "code",
      "source": [
        "import matplotlib.pyplot as plt\n",
        "%matplotlib inline\n",
        "import seaborn as sns\n",
        "sns.set()\n",
        " \n",
        "acc = hist.history['accuracy']\n",
        "val = hist.history['val_accuracy']\n",
        "epochs = range(1, len(acc) + 1)\n",
        " \n",
        "plt.plot(epochs, acc, '-', label='Training accuracy')\n",
        "plt.plot(epochs, val, ':', label='Validation accuracy')\n",
        "plt.title('Training and Validation Accuracy')\n",
        "plt.xlabel('Epoch')\n",
        "plt.ylabel('Accuracy')\n",
        "plt.legend(loc='lower right')\n",
        "plt.plot()"
      ],
      "metadata": {
        "colab": {
          "base_uri": "https://localhost:8080/",
          "height": 318
        },
        "id": "OY8Q5TUz4EjB",
        "outputId": "07c28223-f874-4eb9-bc33-87d09c9da87d"
      },
      "execution_count": null,
      "outputs": [
        {
          "output_type": "execute_result",
          "data": {
            "text/plain": [
              "[]"
            ]
          },
          "metadata": {},
          "execution_count": 272
        },
        {
          "output_type": "display_data",
          "data": {
            "text/plain": [
              "<Figure size 432x288 with 1 Axes>"
            ],
            "image/png": "[encoded data removed]"
          },
          "metadata": {}
        }
      ]
    },
    {
      "cell_type": "code",
      "source": [
        "y_predicted = model.predict(X_test) > 0.5\n",
        "mat = confusion_matrix(y_test, y_predicted)\n",
        "labels = ['0', '1']\n",
        " \n",
        "sns.heatmap(mat, square=True, annot=True, fmt='d', cbar=False, cmap='Blues',\n",
        "            xticklabels=labels, yticklabels=labels)\n",
        " \n",
        "plt.xlabel('Pred')\n",
        "plt.ylabel('Actual')"
      ],
      "metadata": {
        "colab": {
          "base_uri": "https://localhost:8080/",
          "height": 320
        },
        "id": "bWrbmiKI5APj",
        "outputId": "f488f4a3-c70f-4db6-c77f-67307215ada3"
      },
      "execution_count": null,
      "outputs": [
        {
          "output_type": "stream",
          "name": "stdout",
          "text": [
            "500/500 [==============================] - 1s 2ms/step\n"
          ]
        },
        {
          "output_type": "execute_result",
          "data": {
            "text/plain": [
              "Text(89.18, 0.5, 'Actual')"
            ]
          },
          "metadata": {},
          "execution_count": 273
        },
        {
          "output_type": "display_data",
          "data": {
            "text/plain": [
              "<Figure size 432x288 with 1 Axes>"
            ],
            "image/png": "[encoded data removed]"
          },
          "metadata": {}
        }
      ]
    },
    {
      "cell_type": "code",
      "source": [],
      "metadata": {
        "id": "ayTmrDso5Hvy"
      },
      "execution_count": null,
      "outputs": []
    }
  ]
}