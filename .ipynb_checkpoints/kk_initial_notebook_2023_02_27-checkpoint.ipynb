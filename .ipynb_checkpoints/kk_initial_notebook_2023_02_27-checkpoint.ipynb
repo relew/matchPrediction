{
 "cells": [
  {
   "cell_type": "code",
   "execution_count": 69,
   "id": "31e46a38",
   "metadata": {},
   "outputs": [],
   "source": [
    "import pandas as pd\n",
    "import numpy as np"
   ]
  },
  {
   "cell_type": "markdown",
   "id": "f5fc1a42",
   "metadata": {},
   "source": [
    "# Parameters"
   ]
  },
  {
   "cell_type": "code",
   "execution_count": 70,
   "id": "f01998a5",
   "metadata": {},
   "outputs": [],
   "source": [
    "file_path_desc = \"D:/Data challenge/columns_description.xlsx\"\n",
    "file_path_data = \"D:/Data challenge/competition_table.xlsx\""
   ]
  },
  {
   "cell_type": "markdown",
   "id": "28199da0",
   "metadata": {},
   "source": [
    "# Data input"
   ]
  },
  {
   "cell_type": "code",
   "execution_count": 71,
   "id": "6f4f0026",
   "metadata": {},
   "outputs": [
    {
     "data": {
      "text/html": [
       "<div>\n",
       "<style scoped>\n",
       "    .dataframe tbody tr th:only-of-type {\n",
       "        vertical-align: middle;\n",
       "    }\n",
       "\n",
       "    .dataframe tbody tr th {\n",
       "        vertical-align: top;\n",
       "    }\n",
       "\n",
       "    .dataframe thead th {\n",
       "        text-align: right;\n",
       "    }\n",
       "</style>\n",
       "<table border=\"1\" class=\"dataframe\">\n",
       "  <thead>\n",
       "    <tr style=\"text-align: right;\">\n",
       "      <th></th>\n",
       "      <th>match_id</th>\n",
       "      <th>season</th>\n",
       "      <th>div</th>\n",
       "      <th>odds_home_team_win</th>\n",
       "      <th>odds_draw</th>\n",
       "      <th>odds_away_team_win</th>\n",
       "      <th>home_team_match_nr</th>\n",
       "      <th>home_team_goal_roll1_sum</th>\n",
       "      <th>home_team_goal_roll2_sum</th>\n",
       "      <th>home_team_goal_roll3_sum</th>\n",
       "      <th>...</th>\n",
       "      <th>odds_away_team_draw_roll4_mean</th>\n",
       "      <th>odds_away_team_defeat_roll1_mean</th>\n",
       "      <th>odds_away_team_defeat_roll2_mean</th>\n",
       "      <th>odds_away_team_defeat_roll3_mean</th>\n",
       "      <th>odds_away_team_defeat_roll4_mean</th>\n",
       "      <th>away_team_point_mean</th>\n",
       "      <th>away_team_expected_point_mean</th>\n",
       "      <th>home_win_flag</th>\n",
       "      <th>draw_flag</th>\n",
       "      <th>away_win_flag</th>\n",
       "    </tr>\n",
       "  </thead>\n",
       "  <tbody>\n",
       "    <tr>\n",
       "      <th>0</th>\n",
       "      <td>0</td>\n",
       "      <td>2008-2009</td>\n",
       "      <td>div0</td>\n",
       "      <td>1.73</td>\n",
       "      <td>3.50</td>\n",
       "      <td>5.00</td>\n",
       "      <td>5</td>\n",
       "      <td>3</td>\n",
       "      <td>7</td>\n",
       "      <td>8</td>\n",
       "      <td>...</td>\n",
       "      <td>3.825</td>\n",
       "      <td>11.00</td>\n",
       "      <td>7.665</td>\n",
       "      <td>6.377</td>\n",
       "      <td>5.908</td>\n",
       "      <td>0.500</td>\n",
       "      <td>3.000</td>\n",
       "      <td>0</td>\n",
       "      <td>0</td>\n",
       "      <td>1</td>\n",
       "    </tr>\n",
       "    <tr>\n",
       "      <th>1</th>\n",
       "      <td>1</td>\n",
       "      <td>2008-2009</td>\n",
       "      <td>div0</td>\n",
       "      <td>1.25</td>\n",
       "      <td>5.50</td>\n",
       "      <td>12.00</td>\n",
       "      <td>7</td>\n",
       "      <td>0</td>\n",
       "      <td>2</td>\n",
       "      <td>5</td>\n",
       "      <td>...</td>\n",
       "      <td>3.582</td>\n",
       "      <td>2.10</td>\n",
       "      <td>2.250</td>\n",
       "      <td>2.833</td>\n",
       "      <td>2.475</td>\n",
       "      <td>0.333</td>\n",
       "      <td>0.000</td>\n",
       "      <td>0</td>\n",
       "      <td>1</td>\n",
       "      <td>0</td>\n",
       "    </tr>\n",
       "    <tr>\n",
       "      <th>2</th>\n",
       "      <td>2</td>\n",
       "      <td>2008-2009</td>\n",
       "      <td>div0</td>\n",
       "      <td>1.57</td>\n",
       "      <td>3.80</td>\n",
       "      <td>5.75</td>\n",
       "      <td>9</td>\n",
       "      <td>1</td>\n",
       "      <td>4</td>\n",
       "      <td>4</td>\n",
       "      <td>...</td>\n",
       "      <td>3.525</td>\n",
       "      <td>6.75</td>\n",
       "      <td>4.275</td>\n",
       "      <td>3.883</td>\n",
       "      <td>3.638</td>\n",
       "      <td>0.750</td>\n",
       "      <td>1.500</td>\n",
       "      <td>1</td>\n",
       "      <td>0</td>\n",
       "      <td>0</td>\n",
       "    </tr>\n",
       "    <tr>\n",
       "      <th>3</th>\n",
       "      <td>3</td>\n",
       "      <td>2008-2009</td>\n",
       "      <td>div0</td>\n",
       "      <td>1.17</td>\n",
       "      <td>7.00</td>\n",
       "      <td>15.00</td>\n",
       "      <td>11</td>\n",
       "      <td>2</td>\n",
       "      <td>6</td>\n",
       "      <td>7</td>\n",
       "      <td>...</td>\n",
       "      <td>3.975</td>\n",
       "      <td>4.20</td>\n",
       "      <td>2.750</td>\n",
       "      <td>2.333</td>\n",
       "      <td>2.550</td>\n",
       "      <td>0.600</td>\n",
       "      <td>0.000</td>\n",
       "      <td>1</td>\n",
       "      <td>0</td>\n",
       "      <td>0</td>\n",
       "    </tr>\n",
       "    <tr>\n",
       "      <th>4</th>\n",
       "      <td>4</td>\n",
       "      <td>2008-2009</td>\n",
       "      <td>div0</td>\n",
       "      <td>1.17</td>\n",
       "      <td>7.00</td>\n",
       "      <td>15.00</td>\n",
       "      <td>14</td>\n",
       "      <td>2</td>\n",
       "      <td>4</td>\n",
       "      <td>7</td>\n",
       "      <td>...</td>\n",
       "      <td>3.925</td>\n",
       "      <td>3.10</td>\n",
       "      <td>2.175</td>\n",
       "      <td>2.050</td>\n",
       "      <td>2.015</td>\n",
       "      <td>0.833</td>\n",
       "      <td>0.000</td>\n",
       "      <td>1</td>\n",
       "      <td>0</td>\n",
       "      <td>0</td>\n",
       "    </tr>\n",
       "    <tr>\n",
       "      <th>...</th>\n",
       "      <td>...</td>\n",
       "      <td>...</td>\n",
       "      <td>...</td>\n",
       "      <td>...</td>\n",
       "      <td>...</td>\n",
       "      <td>...</td>\n",
       "      <td>...</td>\n",
       "      <td>...</td>\n",
       "      <td>...</td>\n",
       "      <td>...</td>\n",
       "      <td>...</td>\n",
       "      <td>...</td>\n",
       "      <td>...</td>\n",
       "      <td>...</td>\n",
       "      <td>...</td>\n",
       "      <td>...</td>\n",
       "      <td>...</td>\n",
       "      <td>...</td>\n",
       "      <td>...</td>\n",
       "      <td>...</td>\n",
       "      <td>...</td>\n",
       "    </tr>\n",
       "    <tr>\n",
       "      <th>64161</th>\n",
       "      <td>64395</td>\n",
       "      <td>2021-2022</td>\n",
       "      <td>div18</td>\n",
       "      <td>3.80</td>\n",
       "      <td>3.71</td>\n",
       "      <td>1.90</td>\n",
       "      <td>30</td>\n",
       "      <td>0</td>\n",
       "      <td>1</td>\n",
       "      <td>3</td>\n",
       "      <td>...</td>\n",
       "      <td>3.558</td>\n",
       "      <td>5.04</td>\n",
       "      <td>3.695</td>\n",
       "      <td>3.337</td>\n",
       "      <td>3.043</td>\n",
       "      <td>0.929</td>\n",
       "      <td>0.429</td>\n",
       "      <td>0</td>\n",
       "      <td>0</td>\n",
       "      <td>1</td>\n",
       "    </tr>\n",
       "    <tr>\n",
       "      <th>64162</th>\n",
       "      <td>64396</td>\n",
       "      <td>2021-2022</td>\n",
       "      <td>div18</td>\n",
       "      <td>3.62</td>\n",
       "      <td>3.42</td>\n",
       "      <td>2.04</td>\n",
       "      <td>32</td>\n",
       "      <td>0</td>\n",
       "      <td>0</td>\n",
       "      <td>0</td>\n",
       "      <td>...</td>\n",
       "      <td>3.268</td>\n",
       "      <td>3.03</td>\n",
       "      <td>2.585</td>\n",
       "      <td>2.740</td>\n",
       "      <td>2.755</td>\n",
       "      <td>1.000</td>\n",
       "      <td>0.200</td>\n",
       "      <td>0</td>\n",
       "      <td>0</td>\n",
       "      <td>1</td>\n",
       "    </tr>\n",
       "    <tr>\n",
       "      <th>64163</th>\n",
       "      <td>64397</td>\n",
       "      <td>2021-2022</td>\n",
       "      <td>div18</td>\n",
       "      <td>5.51</td>\n",
       "      <td>4.06</td>\n",
       "      <td>1.59</td>\n",
       "      <td>34</td>\n",
       "      <td>0</td>\n",
       "      <td>0</td>\n",
       "      <td>0</td>\n",
       "      <td>...</td>\n",
       "      <td>3.625</td>\n",
       "      <td>4.19</td>\n",
       "      <td>3.860</td>\n",
       "      <td>3.943</td>\n",
       "      <td>3.458</td>\n",
       "      <td>1.312</td>\n",
       "      <td>0.750</td>\n",
       "      <td>0</td>\n",
       "      <td>0</td>\n",
       "      <td>1</td>\n",
       "    </tr>\n",
       "    <tr>\n",
       "      <th>64164</th>\n",
       "      <td>64398</td>\n",
       "      <td>2021-2022</td>\n",
       "      <td>div18</td>\n",
       "      <td>3.83</td>\n",
       "      <td>3.76</td>\n",
       "      <td>1.87</td>\n",
       "      <td>36</td>\n",
       "      <td>1</td>\n",
       "      <td>3</td>\n",
       "      <td>3</td>\n",
       "      <td>...</td>\n",
       "      <td>3.738</td>\n",
       "      <td>2.04</td>\n",
       "      <td>1.800</td>\n",
       "      <td>1.883</td>\n",
       "      <td>1.915</td>\n",
       "      <td>0.412</td>\n",
       "      <td>0.000</td>\n",
       "      <td>0</td>\n",
       "      <td>0</td>\n",
       "      <td>1</td>\n",
       "    </tr>\n",
       "    <tr>\n",
       "      <th>64165</th>\n",
       "      <td>64399</td>\n",
       "      <td>2021-2022</td>\n",
       "      <td>div18</td>\n",
       "      <td>11.22</td>\n",
       "      <td>6.78</td>\n",
       "      <td>1.22</td>\n",
       "      <td>38</td>\n",
       "      <td>0</td>\n",
       "      <td>1</td>\n",
       "      <td>2</td>\n",
       "      <td>...</td>\n",
       "      <td>4.375</td>\n",
       "      <td>6.16</td>\n",
       "      <td>4.340</td>\n",
       "      <td>5.393</td>\n",
       "      <td>5.432</td>\n",
       "      <td>1.778</td>\n",
       "      <td>2.333</td>\n",
       "      <td>0</td>\n",
       "      <td>0</td>\n",
       "      <td>1</td>\n",
       "    </tr>\n",
       "  </tbody>\n",
       "</table>\n",
       "<p>64166 rows × 167 columns</p>\n",
       "</div>"
      ],
      "text/plain": [
       "       match_id     season    div  odds_home_team_win  odds_draw  \\\n",
       "0             0  2008-2009   div0                1.73       3.50   \n",
       "1             1  2008-2009   div0                1.25       5.50   \n",
       "2             2  2008-2009   div0                1.57       3.80   \n",
       "3             3  2008-2009   div0                1.17       7.00   \n",
       "4             4  2008-2009   div0                1.17       7.00   \n",
       "...         ...        ...    ...                 ...        ...   \n",
       "64161     64395  2021-2022  div18                3.80       3.71   \n",
       "64162     64396  2021-2022  div18                3.62       3.42   \n",
       "64163     64397  2021-2022  div18                5.51       4.06   \n",
       "64164     64398  2021-2022  div18                3.83       3.76   \n",
       "64165     64399  2021-2022  div18               11.22       6.78   \n",
       "\n",
       "       odds_away_team_win  home_team_match_nr  home_team_goal_roll1_sum  \\\n",
       "0                    5.00                   5                         3   \n",
       "1                   12.00                   7                         0   \n",
       "2                    5.75                   9                         1   \n",
       "3                   15.00                  11                         2   \n",
       "4                   15.00                  14                         2   \n",
       "...                   ...                 ...                       ...   \n",
       "64161                1.90                  30                         0   \n",
       "64162                2.04                  32                         0   \n",
       "64163                1.59                  34                         0   \n",
       "64164                1.87                  36                         1   \n",
       "64165                1.22                  38                         0   \n",
       "\n",
       "       home_team_goal_roll2_sum  home_team_goal_roll3_sum  ...  \\\n",
       "0                             7                         8  ...   \n",
       "1                             2                         5  ...   \n",
       "2                             4                         4  ...   \n",
       "3                             6                         7  ...   \n",
       "4                             4                         7  ...   \n",
       "...                         ...                       ...  ...   \n",
       "64161                         1                         3  ...   \n",
       "64162                         0                         0  ...   \n",
       "64163                         0                         0  ...   \n",
       "64164                         3                         3  ...   \n",
       "64165                         1                         2  ...   \n",
       "\n",
       "       odds_away_team_draw_roll4_mean  odds_away_team_defeat_roll1_mean  \\\n",
       "0                               3.825                             11.00   \n",
       "1                               3.582                              2.10   \n",
       "2                               3.525                              6.75   \n",
       "3                               3.975                              4.20   \n",
       "4                               3.925                              3.10   \n",
       "...                               ...                               ...   \n",
       "64161                           3.558                              5.04   \n",
       "64162                           3.268                              3.03   \n",
       "64163                           3.625                              4.19   \n",
       "64164                           3.738                              2.04   \n",
       "64165                           4.375                              6.16   \n",
       "\n",
       "       odds_away_team_defeat_roll2_mean  odds_away_team_defeat_roll3_mean  \\\n",
       "0                                 7.665                             6.377   \n",
       "1                                 2.250                             2.833   \n",
       "2                                 4.275                             3.883   \n",
       "3                                 2.750                             2.333   \n",
       "4                                 2.175                             2.050   \n",
       "...                                 ...                               ...   \n",
       "64161                             3.695                             3.337   \n",
       "64162                             2.585                             2.740   \n",
       "64163                             3.860                             3.943   \n",
       "64164                             1.800                             1.883   \n",
       "64165                             4.340                             5.393   \n",
       "\n",
       "       odds_away_team_defeat_roll4_mean  away_team_point_mean  \\\n",
       "0                                 5.908                 0.500   \n",
       "1                                 2.475                 0.333   \n",
       "2                                 3.638                 0.750   \n",
       "3                                 2.550                 0.600   \n",
       "4                                 2.015                 0.833   \n",
       "...                                 ...                   ...   \n",
       "64161                             3.043                 0.929   \n",
       "64162                             2.755                 1.000   \n",
       "64163                             3.458                 1.312   \n",
       "64164                             1.915                 0.412   \n",
       "64165                             5.432                 1.778   \n",
       "\n",
       "       away_team_expected_point_mean  home_win_flag  draw_flag  away_win_flag  \n",
       "0                              3.000              0          0              1  \n",
       "1                              0.000              0          1              0  \n",
       "2                              1.500              1          0              0  \n",
       "3                              0.000              1          0              0  \n",
       "4                              0.000              1          0              0  \n",
       "...                              ...            ...        ...            ...  \n",
       "64161                          0.429              0          0              1  \n",
       "64162                          0.200              0          0              1  \n",
       "64163                          0.750              0          0              1  \n",
       "64164                          0.000              0          0              1  \n",
       "64165                          2.333              0          0              1  \n",
       "\n",
       "[64166 rows x 167 columns]"
      ]
     },
     "execution_count": 71,
     "metadata": {},
     "output_type": "execute_result"
    }
   ],
   "source": [
    "data = pd.read_excel(file_path_data)\n",
    "data \n",
    "# Ötletek:\n",
    "# div bontás,odds pontosság features, odds alapján score hozzánézni eredményt, attack defense feature idő alapon - div és season használat\n",
    "# random forest, NB, xg"
   ]
  },
  {
   "cell_type": "markdown",
   "id": "b9c6f2a8",
   "metadata": {},
   "source": [
    "# EDA"
   ]
  },
  {
   "cell_type": "code",
   "execution_count": 72,
   "id": "b73e52a6",
   "metadata": {},
   "outputs": [
    {
     "data": {
      "text/plain": [
       "(64166, 167)"
      ]
     },
     "execution_count": 72,
     "metadata": {},
     "output_type": "execute_result"
    }
   ],
   "source": [
    "data.shape"
   ]
  },
  {
   "cell_type": "code",
   "execution_count": 73,
   "id": "15526af9",
   "metadata": {},
   "outputs": [
    {
     "data": {
      "text/plain": [
       "Index(['match_id', 'season', 'div', 'odds_home_team_win', 'odds_draw',\n",
       "       'odds_away_team_win', 'home_team_match_nr', 'home_team_goal_roll1_sum',\n",
       "       'home_team_goal_roll2_sum', 'home_team_goal_roll3_sum',\n",
       "       ...\n",
       "       'odds_away_team_draw_roll4_mean', 'odds_away_team_defeat_roll1_mean',\n",
       "       'odds_away_team_defeat_roll2_mean', 'odds_away_team_defeat_roll3_mean',\n",
       "       'odds_away_team_defeat_roll4_mean', 'away_team_point_mean',\n",
       "       'away_team_expected_point_mean', 'home_win_flag', 'draw_flag',\n",
       "       'away_win_flag'],\n",
       "      dtype='object', length=167)"
      ]
     },
     "execution_count": 73,
     "metadata": {},
     "output_type": "execute_result"
    }
   ],
   "source": [
    "data.columns"
   ]
  },
  {
   "cell_type": "code",
   "execution_count": 74,
   "id": "14a26b5b",
   "metadata": {},
   "outputs": [
    {
     "name": "stdout",
     "output_type": "stream",
     "text": [
      "Home win count: 28215\n",
      "Draw count: 16797\n",
      "Away win count: 19154\n"
     ]
    }
   ],
   "source": [
    "print(\"Home win count: \" + str(sum(data.home_win_flag)))\n",
    "print(\"Draw count: \" + str(sum(data.draw_flag)))\n",
    "print(\"Away win count: \" + str(sum(data.away_win_flag)))"
   ]
  },
  {
   "cell_type": "code",
   "execution_count": 75,
   "id": "0007abbc",
   "metadata": {},
   "outputs": [
    {
     "data": {
      "text/plain": [
       "array([[ 1.        , -0.24038676],\n",
       "       [-0.24038676,  1.        ]])"
      ]
     },
     "execution_count": 75,
     "metadata": {},
     "output_type": "execute_result"
    }
   ],
   "source": [
    "np.corrcoef(data.odds_home_team_win,data.home_win_flag)"
   ]
  },
  {
   "cell_type": "code",
   "execution_count": 76,
   "id": "1a035ef4",
   "metadata": {},
   "outputs": [
    {
     "data": {
      "text/plain": [
       "array([[ 1.        , -0.10020025],\n",
       "       [-0.10020025,  1.        ]])"
      ]
     },
     "execution_count": 76,
     "metadata": {},
     "output_type": "execute_result"
    }
   ],
   "source": [
    "np.corrcoef(data.odds_draw,data.draw_flag)"
   ]
  },
  {
   "cell_type": "code",
   "execution_count": 77,
   "id": "41785e98",
   "metadata": {},
   "outputs": [
    {
     "data": {
      "text/plain": [
       "array([[ 1.        , -0.22105208],\n",
       "       [-0.22105208,  1.        ]])"
      ]
     },
     "execution_count": 77,
     "metadata": {},
     "output_type": "execute_result"
    }
   ],
   "source": [
    "np.corrcoef(data.odds_away_team_win,data.away_win_flag)"
   ]
  },
  {
   "cell_type": "markdown",
   "id": "1d55a8cd",
   "metadata": {},
   "source": [
    "# Train, test split"
   ]
  },
  {
   "cell_type": "code",
   "execution_count": 78,
   "id": "a5d73888",
   "metadata": {},
   "outputs": [],
   "source": [
    "### Train\n",
    "\n",
    "data_y1= data[data['home_win_flag']==1].reset_index(drop=True)\n",
    "data_y0= data[data['home_win_flag']==0].reset_index(drop=True)\n",
    "\n",
    "### home win col 164\n",
    "data_to_train = pd.concat([data_y1[0:20000],data_y0[0:20000]], ignore_index=True)\n",
    "X_train = data_to_train.iloc[:, 3:164].values\n",
    "y_train = data_to_train.iloc[:, 164].values\n",
    "\n",
    "### Test\n",
    "\n",
    "data_to_test = pd.concat([data_y1[20000:28000],data_y0[20000:28000]], ignore_index=True)\n",
    "X_test = data_to_test.iloc[:, 3:164].values\n",
    "y_test = data_to_test.iloc[:, 164].values"
   ]
  },
  {
   "cell_type": "code",
   "execution_count": null,
   "id": "73eb31a9",
   "metadata": {},
   "outputs": [],
   "source": []
  },
  {
   "cell_type": "markdown",
   "id": "60df0d36",
   "metadata": {},
   "source": [
    "# Modeling WIP"
   ]
  },
  {
   "cell_type": "markdown",
   "id": "12b5337d",
   "metadata": {},
   "source": [
    "### Random forest"
   ]
  },
  {
   "cell_type": "code",
   "execution_count": 79,
   "id": "4c8d5970",
   "metadata": {},
   "outputs": [],
   "source": [
    "from sklearn.ensemble import RandomForestClassifier\n",
    "from sklearn.datasets import make_classification"
   ]
  },
  {
   "cell_type": "code",
   "execution_count": 80,
   "id": "c8a61bf5",
   "metadata": {},
   "outputs": [
    {
     "data": {
      "text/plain": [
       "RandomForestClassifier(max_depth=2, random_state=0)"
      ]
     },
     "execution_count": 80,
     "metadata": {},
     "output_type": "execute_result"
    }
   ],
   "source": [
    "clf = RandomForestClassifier(max_depth=2, random_state=0)\n",
    "clf.fit(X_train, y_train)"
   ]
  },
  {
   "cell_type": "code",
   "execution_count": 81,
   "id": "293edaac",
   "metadata": {},
   "outputs": [
    {
     "data": {
      "text/plain": [
       "array([1, 1, 1, ..., 1, 1, 1], dtype=int64)"
      ]
     },
     "execution_count": 81,
     "metadata": {},
     "output_type": "execute_result"
    }
   ],
   "source": [
    "preds = clf.predict(X_test)\n",
    "preds"
   ]
  },
  {
   "cell_type": "code",
   "execution_count": 82,
   "id": "b00416a6",
   "metadata": {},
   "outputs": [
    {
     "name": "stdout",
     "output_type": "stream",
     "text": [
      "0.621675\n",
      "0.61225\n"
     ]
    }
   ],
   "source": [
    "print (clf.score(X_train, y_train))\n",
    "print(clf.score(X_test, y_test))"
   ]
  },
  {
   "cell_type": "code",
   "execution_count": 84,
   "id": "74981e3d",
   "metadata": {},
   "outputs": [
    {
     "data": {
      "text/plain": [
       "array([[5296, 2704],\n",
       "       [3500, 4500]], dtype=int64)"
      ]
     },
     "execution_count": 84,
     "metadata": {},
     "output_type": "execute_result"
    }
   ],
   "source": [
    "from sklearn.metrics import confusion_matrix\n",
    "import sklearn\n",
    "\n",
    "sklearn.metrics.confusion_matrix(y_test, preds)"
   ]
  },
  {
   "cell_type": "code",
   "execution_count": null,
   "id": "d12b629a",
   "metadata": {},
   "outputs": [],
   "source": []
  },
  {
   "cell_type": "code",
   "execution_count": null,
   "id": "53ee9c97",
   "metadata": {},
   "outputs": [],
   "source": []
  },
  {
   "cell_type": "code",
   "execution_count": 87,
   "id": "95d19e09",
   "metadata": {},
   "outputs": [
    {
     "data": {
      "text/plain": [
       "RandomForestClassifier()"
      ]
     },
     "execution_count": 87,
     "metadata": {},
     "output_type": "execute_result"
    }
   ],
   "source": [
    "from sklearn.ensemble import RandomForestClassifier\n",
    "from sklearn.model_selection import cross_val_score\n",
    "\n",
    "\n",
    "clf = RandomForestClassifier() \n",
    "clf.fit(X_train, y_train)\n",
    "\n",
    "#print(np.mean(cross_val_score(clf, X_train, y_train, cv=10)))"
   ]
  },
  {
   "cell_type": "code",
   "execution_count": 88,
   "id": "51f91c14",
   "metadata": {},
   "outputs": [
    {
     "data": {
      "text/plain": [
       "array([0.02140424, 0.01219901, 0.02052284, 0.00748135, 0.00277954,\n",
       "       0.00383364, 0.00459255, 0.00520359, 0.00317263, 0.00403933,\n",
       "       0.00468812, 0.00503707, 0.00646322, 0.00712108, 0.00776785,\n",
       "       0.0084152 , 0.00665626, 0.00733366, 0.00780274, 0.00817859,\n",
       "       0.00515969, 0.00605546, 0.00643032, 0.00688297, 0.00517033,\n",
       "       0.00619099, 0.00656774, 0.00745056, 0.00685614, 0.00723231,\n",
       "       0.00751843, 0.00812333, 0.00660469, 0.007112  , 0.00734076,\n",
       "       0.00791971, 0.0054523 , 0.00646547, 0.00702252, 0.00704112,\n",
       "       0.00574937, 0.00640475, 0.00681666, 0.00742509, 0.00364289,\n",
       "       0.00453187, 0.00510908, 0.00578486, 0.00335934, 0.0045536 ,\n",
       "       0.0053946 , 0.00613318, 0.00078528, 0.00110687, 0.00142587,\n",
       "       0.00171108, 0.00078875, 0.00110089, 0.0013938 , 0.0016088 ,\n",
       "       0.0016344 , 0.00327476, 0.00419284, 0.00520728, 0.00076635,\n",
       "       0.00214523, 0.00242985, 0.00464364, 0.00804222, 0.01021186,\n",
       "       0.01262466, 0.01233479, 0.00562002, 0.00845051, 0.0092178 ,\n",
       "       0.01026552, 0.00866555, 0.01244252, 0.01240706, 0.01549282,\n",
       "       0.01022044, 0.00763596, 0.00782996, 0.0029817 , 0.00378544,\n",
       "       0.00452976, 0.00496189, 0.00300281, 0.00409611, 0.00470939,\n",
       "       0.00519766, 0.006549  , 0.00710435, 0.00742516, 0.00839877,\n",
       "       0.0067766 , 0.00740018, 0.00786786, 0.00833297, 0.00524819,\n",
       "       0.00616231, 0.00672113, 0.00778149, 0.00509121, 0.00580517,\n",
       "       0.00651415, 0.00689176, 0.00660056, 0.00727418, 0.0074467 ,\n",
       "       0.00787125, 0.00645719, 0.00707688, 0.00765983, 0.00803202,\n",
       "       0.00554739, 0.00622997, 0.00692138, 0.00733885, 0.0058846 ,\n",
       "       0.00619544, 0.00667549, 0.00683187, 0.00346137, 0.00461502,\n",
       "       0.00516808, 0.0058727 , 0.00339459, 0.00454676, 0.00496261,\n",
       "       0.00564539, 0.00076601, 0.00104836, 0.00142101, 0.00165465,\n",
       "       0.00088138, 0.00117744, 0.001327  , 0.00177357, 0.00170146,\n",
       "       0.00308345, 0.00404319, 0.00513591, 0.00067947, 0.00269393,\n",
       "       0.00255219, 0.00408531, 0.00814516, 0.00998018, 0.01128143,\n",
       "       0.01351501, 0.00602997, 0.00775137, 0.00850397, 0.00920215,\n",
       "       0.00817192, 0.010807  , 0.01068156, 0.01258191, 0.00983992,\n",
       "       0.00856692])"
      ]
     },
     "execution_count": 88,
     "metadata": {},
     "output_type": "execute_result"
    }
   ],
   "source": [
    "clf.feature_importances_"
   ]
  },
  {
   "cell_type": "code",
   "execution_count": 89,
   "id": "57b05fc8",
   "metadata": {},
   "outputs": [
    {
     "name": "stdout",
     "output_type": "stream",
     "text": [
      " 1) odds_draw                      0.021404\n",
      " 2) home_team_match_nr             0.020523\n",
      " 3) home_team_point_mean           0.015493\n",
      " 4) odds_away_team_draw_roll1_mean 0.013515\n",
      " 5) odds_home_team_win_roll4_mean  0.012625\n",
      " 6) away_team_point_mean           0.012582\n",
      " 7) odds_home_team_defeat_roll3_mean 0.012443\n",
      " 8) odds_home_team_defeat_roll4_mean 0.012407\n",
      " 9) odds_home_team_draw_roll1_mean 0.012335\n",
      "10) odds_away_team_win             0.012199\n",
      "11) odds_away_team_win_roll4_mean  0.011281\n",
      "12) odds_away_team_defeat_roll3_mean 0.010807\n",
      "13) odds_away_team_defeat_roll4_mean 0.010682\n",
      "14) odds_home_team_defeat_roll1_mean 0.010266\n",
      "15) home_team_expected_point_mean  0.010220\n",
      "16) odds_home_team_win_roll3_mean  0.010212\n",
      "17) odds_away_team_win_roll3_mean  0.009980\n",
      "18) away_team_expected_point_mean  0.009840\n",
      "19) odds_home_team_draw_roll4_mean 0.009218\n",
      "20) odds_away_team_defeat_roll1_mean 0.009202\n",
      "21) odds_home_team_defeat_roll2_mean 0.008666\n",
      "22) home_win_flag                  0.008567\n",
      "23) odds_away_team_draw_roll4_mean 0.008504\n",
      "24) odds_home_team_draw_roll3_mean 0.008451\n",
      "25) home_team_opponents_shot_roll1_sum 0.008415\n",
      "26) away_team_opponents_shot_roll1_sum 0.008399\n",
      "27) away_team_shot_on_target_roll1_sum 0.008333\n",
      "28) home_team_shot_on_target_roll1_sum 0.008179\n",
      "29) odds_away_team_defeat_roll2_mean 0.008172\n",
      "30) odds_away_team_win_roll2_mean  0.008145\n",
      "31) home_team_opponents_fault_roll1_sum 0.008123\n",
      "32) odds_home_team_win_roll2_mean  0.008042\n",
      "33) away_team_corner_roll1_sum     0.008032\n",
      "34) home_team_corner_roll1_sum     0.007920\n",
      "35) away_team_opponents_fault_roll1_sum 0.007871\n",
      "36) away_team_opponents_shot_roll4_sum 0.007868\n",
      "37) away_team_goal_roll1_sum       0.007830\n",
      "38) home_team_opponents_shot_roll4_sum 0.007803\n",
      "39) away_team_opponents_shot_on_target_roll1_sum 0.007781\n",
      "40) home_team_shot_roll4_sum       0.007768\n",
      "41) odds_away_team_draw_roll3_mean 0.007751\n",
      "42) away_team_opponents_fault_roll4_sum 0.007660\n",
      "43) away_team_match_nr             0.007636\n",
      "44) home_team_fault_roll4_sum      0.007518\n",
      "45) home_team_goal_roll1_sum       0.007481\n",
      "46) home_team_fault_roll1_sum      0.007451\n",
      "47) away_team_fault_roll4_sum      0.007447\n",
      "48) away_team_shot_roll4_sum       0.007425\n",
      "49) home_team_yellow_card_roll1_sum 0.007425\n",
      "50) away_team_opponents_shot_roll3_sum 0.007400\n",
      "51) home_team_opponents_fault_roll4_sum 0.007341\n",
      "52) away_team_opponents_corner_roll1_sum 0.007339\n",
      "53) home_team_opponents_shot_roll3_sum 0.007334\n",
      "54) away_team_fault_roll3_sum      0.007274\n",
      "55) home_team_fault_roll3_sum      0.007232\n",
      "56) home_team_shot_roll3_sum       0.007121\n",
      "57) home_team_opponents_fault_roll3_sum 0.007112\n",
      "58) away_team_shot_roll3_sum       0.007104\n",
      "59) away_team_opponents_fault_roll3_sum 0.007077\n",
      "60) home_team_opponents_corner_roll1_sum 0.007041\n",
      "61) home_team_corner_roll4_sum     0.007023\n",
      "62) away_team_corner_roll4_sum     0.006921\n",
      "63) away_team_fault_roll1_sum      0.006892\n",
      "64) home_team_opponents_shot_on_target_roll1_sum 0.006883\n",
      "65) home_team_fault_roll2_sum      0.006856\n",
      "66) away_team_yelllow_card_roll1_sum 0.006832\n",
      "67) home_team_opponents_corner_roll4_sum 0.006817\n",
      "68) away_team_opponents_shot_roll2_sum 0.006777\n",
      "69) away_team_shot_on_target_roll4_sum 0.006721\n",
      "70) away_team_opponents_corner_roll4_sum 0.006675\n",
      "71) home_team_opponents_shot_roll2_sum 0.006656\n",
      "72) home_team_opponents_fault_roll2_sum 0.006605\n",
      "73) away_team_fault_roll2_sum      0.006601\n",
      "74) home_team_opponents_shot_on_target_roll4_sum 0.006568\n",
      "75) away_team_shot_roll2_sum       0.006549\n",
      "76) away_team_opponents_shot_on_target_roll4_sum 0.006514\n",
      "77) home_team_corner_roll3_sum     0.006465\n",
      "78) home_team_shot_roll2_sum       0.006463\n",
      "79) away_team_opponents_fault_roll2_sum 0.006457\n",
      "80) home_team_shot_on_target_roll4_sum 0.006430\n",
      "81) home_team_opponents_corner_roll3_sum 0.006405\n",
      "82) away_team_corner_roll3_sum     0.006230\n",
      "83) away_team_opponents_corner_roll3_sum 0.006195\n",
      "84) home_team_opponents_shot_on_target_roll3_sum 0.006191\n",
      "85) away_team_shot_on_target_roll3_sum 0.006162\n",
      "86) home_team_red_card_roll1_sum   0.006133\n",
      "87) home_team_shot_on_target_roll3_sum 0.006055\n",
      "88) odds_away_team_draw_roll2_mean 0.006030\n",
      "89) away_team_opponents_corner_roll2_sum 0.005885\n",
      "90) away_team_opponents_yellow_card_roll1_sum 0.005873\n",
      "91) away_team_opponents_shot_on_target_roll3_sum 0.005805\n",
      "92) home_team_opponents_yellow_card_roll1_sum 0.005785\n",
      "93) home_team_opponents_corner_roll2_sum 0.005749\n",
      "94) away_team_red_card_roll1_sum   0.005645\n",
      "95) odds_home_team_draw_roll2_mean 0.005620\n",
      "96) away_team_corner_roll2_sum     0.005547\n",
      "97) home_team_corner_roll2_sum     0.005452\n",
      "98) home_team_opponents_yellow_card_roll4_sum 0.005395\n",
      "99) away_team_shot_on_target_roll2_sum 0.005248\n",
      "100) home_team_expected_point_roll1_sum 0.005207\n",
      "101) home_team_opponents_goal_roll1_sum 0.005204\n",
      "102) away_team_shot_roll1_sum       0.005198\n",
      "103) home_team_opponents_shot_on_target_roll2_sum 0.005170\n",
      "104) away_team_yelllow_card_roll4_sum 0.005168\n",
      "105) home_team_shot_on_target_roll2_sum 0.005160\n",
      "106) away_team_expected_point_roll1_sum 0.005136\n",
      "107) home_team_yellow_card_roll4_sum 0.005109\n",
      "108) away_team_opponents_shot_on_target_roll2_sum 0.005091\n",
      "109) home_team_shot_roll1_sum       0.005037\n",
      "110) away_team_opponents_yellow_card_roll4_sum 0.004963\n",
      "111) away_team_opponents_goal_roll1_sum 0.004962\n",
      "112) away_team_opponents_goal_roll4_sum 0.004709\n",
      "113) home_team_opponents_goal_roll4_sum 0.004688\n",
      "114) odds_home_team_win_roll1_mean  0.004644\n",
      "115) away_team_yelllow_card_roll3_sum 0.004615\n",
      "116) home_team_goal_roll4_sum       0.004593\n",
      "117) home_team_opponents_yellow_card_roll3_sum 0.004554\n",
      "118) away_team_opponents_yellow_card_roll3_sum 0.004547\n",
      "119) home_team_yellow_card_roll3_sum 0.004532\n",
      "120) away_team_goal_roll4_sum       0.004530\n",
      "121) home_team_point_roll4_sum      0.004193\n",
      "122) away_team_opponents_goal_roll3_sum 0.004096\n",
      "123) odds_away_team_win_roll1_mean  0.004085\n",
      "124) away_team_point_roll4_sum      0.004043\n",
      "125) home_team_opponents_goal_roll3_sum 0.004039\n",
      "126) home_team_goal_roll3_sum       0.003834\n",
      "127) away_team_goal_roll3_sum       0.003785\n",
      "128) home_team_yellow_card_roll2_sum 0.003643\n",
      "129) away_team_yelllow_card_roll2_sum 0.003461\n",
      "130) away_team_opponents_yellow_card_roll2_sum 0.003395\n",
      "131) home_team_opponents_yellow_card_roll2_sum 0.003359\n",
      "132) home_team_point_roll3_sum      0.003275\n",
      "133) home_team_opponents_goal_roll2_sum 0.003173\n",
      "134) away_team_point_roll3_sum      0.003083\n",
      "135) away_team_opponents_goal_roll2_sum 0.003003\n",
      "136) away_team_goal_roll2_sum       0.002982\n",
      "137) home_team_goal_roll2_sum       0.002780\n",
      "138) away_team_expected_point_roll3_sum 0.002694\n",
      "139) away_team_expected_point_roll4_sum 0.002552\n",
      "140) home_team_expected_point_roll4_sum 0.002430\n",
      "141) home_team_expected_point_roll3_sum 0.002145\n",
      "142) away_team_point_roll1_sum      0.001774\n",
      "143) home_team_opponents_red_card_roll1_sum 0.001711\n",
      "144) away_team_point_roll2_sum      0.001701\n",
      "145) away_team_opponents_red_card_roll1_sum 0.001655\n",
      "146) home_team_point_roll2_sum      0.001634\n",
      "147) home_team_point_roll1_sum      0.001609\n",
      "148) home_team_red_card_roll4_sum   0.001426\n",
      "149) away_team_red_card_roll4_sum   0.001421\n",
      "150) home_team_opponents_red_card_roll4_sum 0.001394\n",
      "151) away_team_opponents_red_card_roll4_sum 0.001327\n",
      "152) away_team_opponents_red_card_roll3_sum 0.001177\n",
      "153) home_team_red_card_roll3_sum   0.001107\n",
      "154) home_team_opponents_red_card_roll3_sum 0.001101\n",
      "155) away_team_red_card_roll3_sum   0.001048\n",
      "156) away_team_opponents_red_card_roll2_sum 0.000881\n",
      "157) home_team_opponents_red_card_roll2_sum 0.000789\n",
      "158) home_team_red_card_roll2_sum   0.000785\n",
      "159) home_team_expected_point_roll2_sum 0.000766\n",
      "160) away_team_red_card_roll2_sum   0.000766\n",
      "161) away_team_expected_point_roll2_sum 0.000679\n"
     ]
    }
   ],
   "source": [
    "importances = clf.feature_importances_\n",
    "#\n",
    "# Sort the feature importance in descending order\n",
    "#\n",
    "sorted_indices = np.argsort(importances)[::-1]\n",
    " \n",
    "feat_labels = data.columns[4:]\n",
    " \n",
    "for f in range(X_train.shape[1]):\n",
    "    print(\"%2d) %-*s %f\" % (f + 1, 30,\n",
    "                            feat_labels[sorted_indices[f]],\n",
    "                            importances[sorted_indices[f]]))"
   ]
  },
  {
   "cell_type": "code",
   "execution_count": null,
   "id": "356555c9",
   "metadata": {},
   "outputs": [],
   "source": []
  },
  {
   "cell_type": "markdown",
   "id": "98c8becd",
   "metadata": {},
   "source": [
    "## Keras"
   ]
  },
  {
   "cell_type": "code",
   "execution_count": 91,
   "id": "40ec17ec",
   "metadata": {},
   "outputs": [],
   "source": [
    "from keras.models import Sequential\n",
    "from keras.layers import Dense"
   ]
  },
  {
   "cell_type": "code",
   "execution_count": 92,
   "id": "34c11f4e",
   "metadata": {},
   "outputs": [
    {
     "name": "stdout",
     "output_type": "stream",
     "text": [
      "Model: \"sequential\"\n",
      "_________________________________________________________________\n",
      " Layer (type)                Output Shape              Param #   \n",
      "=================================================================\n",
      " dense (Dense)               (None, 128)               20736     \n",
      "                                                                 \n",
      " dense_1 (Dense)             (None, 1)                 129       \n",
      "                                                                 \n",
      "=================================================================\n",
      "Total params: 20,865\n",
      "Trainable params: 20,865\n",
      "Non-trainable params: 0\n",
      "_________________________________________________________________\n"
     ]
    }
   ],
   "source": [
    "model = Sequential() \n",
    "model.add(Dense(128, activation='relu', input_dim=161))\n",
    "model.add(Dense(1, activation='sigmoid')) \n",
    "model.compile(loss='binary_crossentropy', optimizer='adam', metrics=['accuracy']) \n",
    "model.summary()"
   ]
  },
  {
   "cell_type": "code",
   "execution_count": 93,
   "id": "69b62881",
   "metadata": {},
   "outputs": [
    {
     "name": "stdout",
     "output_type": "stream",
     "text": [
      "Epoch 1/100\n",
      "400/400 [==============================] - 1s 2ms/step - loss: 0.8658 - accuracy: 0.5622 - val_loss: 0.8788 - val_accuracy: 0.5447\n",
      "Epoch 2/100\n",
      "400/400 [==============================] - 1s 1ms/step - loss: 0.7131 - accuracy: 0.5832 - val_loss: 0.6974 - val_accuracy: 0.5857\n",
      "Epoch 3/100\n",
      "400/400 [==============================] - 0s 1ms/step - loss: 0.7056 - accuracy: 0.5815 - val_loss: 0.7052 - val_accuracy: 0.5756\n",
      "Epoch 4/100\n",
      "400/400 [==============================] - 0s 1ms/step - loss: 0.7008 - accuracy: 0.5883 - val_loss: 0.7023 - val_accuracy: 0.5723\n",
      "Epoch 5/100\n",
      "400/400 [==============================] - 0s 1ms/step - loss: 0.6888 - accuracy: 0.5926 - val_loss: 0.6553 - val_accuracy: 0.6034\n",
      "Epoch 6/100\n",
      "400/400 [==============================] - 0s 1ms/step - loss: 0.6848 - accuracy: 0.5928 - val_loss: 0.6521 - val_accuracy: 0.6071\n",
      "Epoch 7/100\n",
      "400/400 [==============================] - 0s 1ms/step - loss: 0.6858 - accuracy: 0.5882 - val_loss: 0.6639 - val_accuracy: 0.5982\n",
      "Epoch 8/100\n",
      "400/400 [==============================] - 0s 1ms/step - loss: 0.6723 - accuracy: 0.5976 - val_loss: 0.6596 - val_accuracy: 0.6077\n",
      "Epoch 9/100\n",
      "400/400 [==============================] - 0s 1ms/step - loss: 0.6740 - accuracy: 0.5994 - val_loss: 0.6526 - val_accuracy: 0.6096\n",
      "Epoch 10/100\n",
      "400/400 [==============================] - 0s 1ms/step - loss: 0.6775 - accuracy: 0.5946 - val_loss: 0.6542 - val_accuracy: 0.6097\n",
      "Epoch 11/100\n",
      "400/400 [==============================] - 0s 1ms/step - loss: 0.6872 - accuracy: 0.5908 - val_loss: 0.6766 - val_accuracy: 0.5980\n",
      "Epoch 12/100\n",
      "400/400 [==============================] - 0s 1ms/step - loss: 0.6677 - accuracy: 0.6025 - val_loss: 0.6606 - val_accuracy: 0.6058\n",
      "Epoch 13/100\n",
      "400/400 [==============================] - 1s 1ms/step - loss: 0.6632 - accuracy: 0.6051 - val_loss: 0.7163 - val_accuracy: 0.5729\n",
      "Epoch 14/100\n",
      "400/400 [==============================] - 0s 1ms/step - loss: 0.6610 - accuracy: 0.6047 - val_loss: 0.6651 - val_accuracy: 0.5999\n",
      "Epoch 15/100\n",
      "400/400 [==============================] - 0s 1ms/step - loss: 0.6593 - accuracy: 0.6062 - val_loss: 0.6525 - val_accuracy: 0.6068\n",
      "Epoch 16/100\n",
      "400/400 [==============================] - 0s 1ms/step - loss: 0.6620 - accuracy: 0.6058 - val_loss: 0.6949 - val_accuracy: 0.5813\n",
      "Epoch 17/100\n",
      "400/400 [==============================] - 0s 1ms/step - loss: 0.6573 - accuracy: 0.6062 - val_loss: 0.6478 - val_accuracy: 0.6154\n",
      "Epoch 18/100\n",
      "400/400 [==============================] - 0s 1ms/step - loss: 0.6534 - accuracy: 0.6126 - val_loss: 0.6681 - val_accuracy: 0.5999\n",
      "Epoch 19/100\n",
      "400/400 [==============================] - 0s 1ms/step - loss: 0.6638 - accuracy: 0.6037 - val_loss: 0.6540 - val_accuracy: 0.6089\n",
      "Epoch 20/100\n",
      "400/400 [==============================] - 0s 1ms/step - loss: 0.6633 - accuracy: 0.6073 - val_loss: 0.6528 - val_accuracy: 0.6052\n",
      "Epoch 21/100\n",
      "400/400 [==============================] - 0s 1ms/step - loss: 0.6527 - accuracy: 0.6101 - val_loss: 0.6917 - val_accuracy: 0.5923\n",
      "Epoch 22/100\n",
      "400/400 [==============================] - 0s 1ms/step - loss: 0.6494 - accuracy: 0.6129 - val_loss: 0.6695 - val_accuracy: 0.5982\n",
      "Epoch 23/100\n",
      "400/400 [==============================] - 0s 1ms/step - loss: 0.6519 - accuracy: 0.6106 - val_loss: 0.7044 - val_accuracy: 0.5896\n",
      "Epoch 24/100\n",
      "400/400 [==============================] - 0s 1ms/step - loss: 0.6457 - accuracy: 0.6176 - val_loss: 0.7054 - val_accuracy: 0.5807\n",
      "Epoch 25/100\n",
      "400/400 [==============================] - 1s 1ms/step - loss: 0.6494 - accuracy: 0.6125 - val_loss: 0.6583 - val_accuracy: 0.6047\n",
      "Epoch 26/100\n",
      "400/400 [==============================] - 0s 1ms/step - loss: 0.6509 - accuracy: 0.6087 - val_loss: 0.6689 - val_accuracy: 0.6006\n",
      "Epoch 27/100\n",
      "400/400 [==============================] - 0s 1ms/step - loss: 0.6472 - accuracy: 0.6178 - val_loss: 0.7086 - val_accuracy: 0.5822\n",
      "Epoch 28/100\n",
      "400/400 [==============================] - 0s 1ms/step - loss: 0.6457 - accuracy: 0.6174 - val_loss: 0.7261 - val_accuracy: 0.5738\n",
      "Epoch 29/100\n",
      "400/400 [==============================] - 0s 1ms/step - loss: 0.6440 - accuracy: 0.6184 - val_loss: 0.6777 - val_accuracy: 0.5979\n",
      "Epoch 30/100\n",
      "400/400 [==============================] - 0s 1ms/step - loss: 0.6463 - accuracy: 0.6160 - val_loss: 0.6688 - val_accuracy: 0.6097\n",
      "Epoch 31/100\n",
      "400/400 [==============================] - 0s 1ms/step - loss: 0.6422 - accuracy: 0.6199 - val_loss: 0.6546 - val_accuracy: 0.6116\n",
      "Epoch 32/100\n",
      "400/400 [==============================] - 0s 1ms/step - loss: 0.6412 - accuracy: 0.6212 - val_loss: 0.6707 - val_accuracy: 0.6016\n",
      "Epoch 33/100\n",
      "400/400 [==============================] - 0s 1ms/step - loss: 0.6408 - accuracy: 0.6221 - val_loss: 0.6537 - val_accuracy: 0.6049\n",
      "Epoch 34/100\n",
      "400/400 [==============================] - 0s 1ms/step - loss: 0.6401 - accuracy: 0.6229 - val_loss: 0.6772 - val_accuracy: 0.5885\n",
      "Epoch 35/100\n",
      "400/400 [==============================] - 0s 1ms/step - loss: 0.6397 - accuracy: 0.6224 - val_loss: 0.6888 - val_accuracy: 0.5997\n",
      "Epoch 36/100\n",
      "400/400 [==============================] - 0s 1ms/step - loss: 0.6392 - accuracy: 0.6227 - val_loss: 0.6721 - val_accuracy: 0.6060\n",
      "Epoch 37/100\n",
      "400/400 [==============================] - 0s 1ms/step - loss: 0.6383 - accuracy: 0.6249 - val_loss: 0.6611 - val_accuracy: 0.6109\n",
      "Epoch 38/100\n",
      "400/400 [==============================] - 0s 1ms/step - loss: 0.6396 - accuracy: 0.6235 - val_loss: 0.6838 - val_accuracy: 0.5986\n",
      "Epoch 39/100\n",
      "400/400 [==============================] - 1s 1ms/step - loss: 0.6376 - accuracy: 0.6238 - val_loss: 0.6664 - val_accuracy: 0.6070\n",
      "Epoch 40/100\n",
      "400/400 [==============================] - 0s 1ms/step - loss: 0.6390 - accuracy: 0.6230 - val_loss: 0.6917 - val_accuracy: 0.5782\n",
      "Epoch 41/100\n",
      "400/400 [==============================] - 0s 1ms/step - loss: 0.6375 - accuracy: 0.6283 - val_loss: 0.6967 - val_accuracy: 0.6037\n",
      "Epoch 42/100\n",
      "400/400 [==============================] - 0s 1ms/step - loss: 0.6369 - accuracy: 0.6252 - val_loss: 0.6702 - val_accuracy: 0.6043\n",
      "Epoch 43/100\n",
      "400/400 [==============================] - 0s 1ms/step - loss: 0.6368 - accuracy: 0.6264 - val_loss: 0.6760 - val_accuracy: 0.6006\n",
      "Epoch 44/100\n",
      "400/400 [==============================] - 0s 1ms/step - loss: 0.6377 - accuracy: 0.6253 - val_loss: 0.6675 - val_accuracy: 0.6087\n",
      "Epoch 45/100\n",
      "400/400 [==============================] - 0s 1ms/step - loss: 0.6363 - accuracy: 0.6275 - val_loss: 0.6735 - val_accuracy: 0.6043\n",
      "Epoch 46/100\n",
      "400/400 [==============================] - 0s 1ms/step - loss: 0.6347 - accuracy: 0.6312 - val_loss: 0.6734 - val_accuracy: 0.6019\n",
      "Epoch 47/100\n",
      "400/400 [==============================] - 0s 1ms/step - loss: 0.6359 - accuracy: 0.6316 - val_loss: 0.6662 - val_accuracy: 0.6060\n",
      "Epoch 48/100\n",
      "400/400 [==============================] - 0s 1ms/step - loss: 0.6359 - accuracy: 0.6278 - val_loss: 0.6923 - val_accuracy: 0.5974\n",
      "Epoch 49/100\n",
      "400/400 [==============================] - 1s 1ms/step - loss: 0.6348 - accuracy: 0.6294 - val_loss: 0.6738 - val_accuracy: 0.6066\n",
      "Epoch 50/100\n",
      "400/400 [==============================] - 0s 1ms/step - loss: 0.6352 - accuracy: 0.6281 - val_loss: 0.6772 - val_accuracy: 0.6061\n",
      "Epoch 51/100\n",
      "400/400 [==============================] - 0s 1ms/step - loss: 0.6352 - accuracy: 0.6270 - val_loss: 0.7131 - val_accuracy: 0.5961\n",
      "Epoch 52/100\n",
      "400/400 [==============================] - 1s 1ms/step - loss: 0.6340 - accuracy: 0.6309 - val_loss: 0.6872 - val_accuracy: 0.5934\n",
      "Epoch 53/100\n",
      "400/400 [==============================] - 0s 1ms/step - loss: 0.6353 - accuracy: 0.6263 - val_loss: 0.6754 - val_accuracy: 0.6046\n",
      "Epoch 54/100\n",
      "400/400 [==============================] - 0s 1ms/step - loss: 0.6340 - accuracy: 0.6291 - val_loss: 0.6946 - val_accuracy: 0.5982\n",
      "Epoch 55/100\n",
      "400/400 [==============================] - 1s 1ms/step - loss: 0.6342 - accuracy: 0.6278 - val_loss: 0.7219 - val_accuracy: 0.5929\n",
      "Epoch 56/100\n",
      "400/400 [==============================] - 0s 1ms/step - loss: 0.6341 - accuracy: 0.6306 - val_loss: 0.6682 - val_accuracy: 0.6049\n",
      "Epoch 57/100\n",
      "400/400 [==============================] - 0s 1ms/step - loss: 0.6338 - accuracy: 0.6296 - val_loss: 0.6908 - val_accuracy: 0.5975\n"
     ]
    },
    {
     "name": "stdout",
     "output_type": "stream",
     "text": [
      "Epoch 58/100\n",
      "400/400 [==============================] - 0s 1ms/step - loss: 0.6340 - accuracy: 0.6312 - val_loss: 0.6781 - val_accuracy: 0.6010\n",
      "Epoch 59/100\n",
      "400/400 [==============================] - 1s 1ms/step - loss: 0.6323 - accuracy: 0.6331 - val_loss: 0.7085 - val_accuracy: 0.6038\n",
      "Epoch 60/100\n",
      "400/400 [==============================] - 1s 1ms/step - loss: 0.6323 - accuracy: 0.6310 - val_loss: 0.7244 - val_accuracy: 0.5901\n",
      "Epoch 61/100\n",
      "400/400 [==============================] - 1s 1ms/step - loss: 0.6327 - accuracy: 0.6330 - val_loss: 0.7028 - val_accuracy: 0.5972\n",
      "Epoch 62/100\n",
      "400/400 [==============================] - 1s 1ms/step - loss: 0.6330 - accuracy: 0.6315 - val_loss: 0.6744 - val_accuracy: 0.6029\n",
      "Epoch 63/100\n",
      "400/400 [==============================] - 1s 1ms/step - loss: 0.6329 - accuracy: 0.6322 - val_loss: 0.6938 - val_accuracy: 0.6008\n",
      "Epoch 64/100\n",
      "400/400 [==============================] - 1s 1ms/step - loss: 0.6320 - accuracy: 0.6330 - val_loss: 0.6882 - val_accuracy: 0.6056\n",
      "Epoch 65/100\n",
      "400/400 [==============================] - 0s 1ms/step - loss: 0.6308 - accuracy: 0.6363 - val_loss: 0.6769 - val_accuracy: 0.6079\n",
      "Epoch 66/100\n",
      "400/400 [==============================] - 1s 1ms/step - loss: 0.6319 - accuracy: 0.6338 - val_loss: 0.7354 - val_accuracy: 0.5964\n",
      "Epoch 67/100\n",
      "400/400 [==============================] - 0s 1ms/step - loss: 0.6317 - accuracy: 0.6351 - val_loss: 0.6980 - val_accuracy: 0.6004\n",
      "Epoch 68/100\n",
      "400/400 [==============================] - 0s 1ms/step - loss: 0.6310 - accuracy: 0.6301 - val_loss: 0.6758 - val_accuracy: 0.6066\n",
      "Epoch 69/100\n",
      "400/400 [==============================] - 0s 1ms/step - loss: 0.6316 - accuracy: 0.6309 - val_loss: 0.6818 - val_accuracy: 0.6011\n",
      "Epoch 70/100\n",
      "400/400 [==============================] - 0s 1ms/step - loss: 0.6317 - accuracy: 0.6309 - val_loss: 0.6851 - val_accuracy: 0.5935\n",
      "Epoch 71/100\n",
      "400/400 [==============================] - 0s 1ms/step - loss: 0.6307 - accuracy: 0.6356 - val_loss: 0.6774 - val_accuracy: 0.6034\n",
      "Epoch 72/100\n",
      "400/400 [==============================] - 0s 1ms/step - loss: 0.6306 - accuracy: 0.6381 - val_loss: 0.7206 - val_accuracy: 0.6028\n",
      "Epoch 73/100\n",
      "400/400 [==============================] - 0s 1ms/step - loss: 0.6305 - accuracy: 0.6346 - val_loss: 0.6826 - val_accuracy: 0.6072\n",
      "Epoch 74/100\n",
      "400/400 [==============================] - 0s 1ms/step - loss: 0.6302 - accuracy: 0.6343 - val_loss: 0.6602 - val_accuracy: 0.6125\n",
      "Epoch 75/100\n",
      "400/400 [==============================] - 0s 1ms/step - loss: 0.6306 - accuracy: 0.6345 - val_loss: 0.7083 - val_accuracy: 0.5979\n",
      "Epoch 76/100\n",
      "400/400 [==============================] - 1s 1ms/step - loss: 0.6303 - accuracy: 0.6341 - val_loss: 0.6744 - val_accuracy: 0.6061\n",
      "Epoch 77/100\n",
      "400/400 [==============================] - 0s 1ms/step - loss: 0.6299 - accuracy: 0.6332 - val_loss: 0.6876 - val_accuracy: 0.6004\n",
      "Epoch 78/100\n",
      "400/400 [==============================] - 0s 1ms/step - loss: 0.6291 - accuracy: 0.6355 - val_loss: 0.7244 - val_accuracy: 0.5895\n",
      "Epoch 79/100\n",
      "400/400 [==============================] - 0s 1ms/step - loss: 0.6301 - accuracy: 0.6356 - val_loss: 0.6997 - val_accuracy: 0.5985\n",
      "Epoch 80/100\n",
      "400/400 [==============================] - 0s 1ms/step - loss: 0.6303 - accuracy: 0.6352 - val_loss: 0.7080 - val_accuracy: 0.5984\n",
      "Epoch 81/100\n",
      "400/400 [==============================] - 0s 1ms/step - loss: 0.6290 - accuracy: 0.6360 - val_loss: 0.6917 - val_accuracy: 0.6032\n",
      "Epoch 82/100\n",
      "400/400 [==============================] - 0s 1ms/step - loss: 0.6291 - accuracy: 0.6355 - val_loss: 0.6818 - val_accuracy: 0.6054\n",
      "Epoch 83/100\n",
      "400/400 [==============================] - 0s 1ms/step - loss: 0.6290 - accuracy: 0.6365 - val_loss: 0.6928 - val_accuracy: 0.5951\n",
      "Epoch 84/100\n",
      "400/400 [==============================] - 1s 1ms/step - loss: 0.6279 - accuracy: 0.6375 - val_loss: 0.6947 - val_accuracy: 0.6047\n",
      "Epoch 85/100\n",
      "400/400 [==============================] - 0s 1ms/step - loss: 0.6286 - accuracy: 0.6369 - val_loss: 0.6903 - val_accuracy: 0.6048\n",
      "Epoch 86/100\n",
      "400/400 [==============================] - 0s 1ms/step - loss: 0.6280 - accuracy: 0.6386 - val_loss: 0.7301 - val_accuracy: 0.5858\n",
      "Epoch 87/100\n",
      "400/400 [==============================] - 0s 1ms/step - loss: 0.6275 - accuracy: 0.6387 - val_loss: 0.6853 - val_accuracy: 0.6052\n",
      "Epoch 88/100\n",
      "400/400 [==============================] - 0s 1ms/step - loss: 0.6282 - accuracy: 0.6385 - val_loss: 0.6955 - val_accuracy: 0.6040\n",
      "Epoch 89/100\n",
      "400/400 [==============================] - 1s 1ms/step - loss: 0.6285 - accuracy: 0.6374 - val_loss: 0.7009 - val_accuracy: 0.5982\n",
      "Epoch 90/100\n",
      "400/400 [==============================] - 1s 1ms/step - loss: 0.6274 - accuracy: 0.6390 - val_loss: 0.7066 - val_accuracy: 0.6011\n",
      "Epoch 91/100\n",
      "400/400 [==============================] - 0s 1ms/step - loss: 0.6276 - accuracy: 0.6363 - val_loss: 0.7338 - val_accuracy: 0.5938\n",
      "Epoch 92/100\n",
      "400/400 [==============================] - 0s 1ms/step - loss: 0.6277 - accuracy: 0.6373 - val_loss: 0.7118 - val_accuracy: 0.5986\n",
      "Epoch 93/100\n",
      "400/400 [==============================] - 0s 1ms/step - loss: 0.6278 - accuracy: 0.6385 - val_loss: 0.6965 - val_accuracy: 0.6013\n",
      "Epoch 94/100\n",
      "400/400 [==============================] - 0s 1ms/step - loss: 0.6274 - accuracy: 0.6377 - val_loss: 0.7452 - val_accuracy: 0.5879\n",
      "Epoch 95/100\n",
      "400/400 [==============================] - 0s 1ms/step - loss: 0.6272 - accuracy: 0.6366 - val_loss: 0.7136 - val_accuracy: 0.5936\n",
      "Epoch 96/100\n",
      "400/400 [==============================] - 0s 1ms/step - loss: 0.6271 - accuracy: 0.6369 - val_loss: 0.6856 - val_accuracy: 0.6026\n",
      "Epoch 97/100\n",
      "400/400 [==============================] - 0s 1ms/step - loss: 0.6276 - accuracy: 0.6378 - val_loss: 0.6697 - val_accuracy: 0.6082\n",
      "Epoch 98/100\n",
      "400/400 [==============================] - 0s 1ms/step - loss: 0.6267 - accuracy: 0.6382 - val_loss: 0.7065 - val_accuracy: 0.5999\n",
      "Epoch 99/100\n",
      "400/400 [==============================] - 0s 1ms/step - loss: 0.6275 - accuracy: 0.6389 - val_loss: 0.6781 - val_accuracy: 0.6083\n",
      "Epoch 100/100\n",
      "400/400 [==============================] - 1s 1ms/step - loss: 0.6272 - accuracy: 0.6390 - val_loss: 0.7047 - val_accuracy: 0.6004\n"
     ]
    }
   ],
   "source": [
    "hist = model.fit(X_train, y_train, validation_data=(X_test, y_test), epochs=100, batch_size=100)"
   ]
  },
  {
   "cell_type": "code",
   "execution_count": 94,
   "id": "47a1e41b",
   "metadata": {},
   "outputs": [
    {
     "name": "stdout",
     "output_type": "stream",
     "text": [
      "500/500 [==============================] - 0s 565us/step\n"
     ]
    },
    {
     "data": {
      "text/plain": [
       "array([[0.7405904 ],\n",
       "       [0.6790536 ],\n",
       "       [0.8634243 ],\n",
       "       ...,\n",
       "       [0.67270404],\n",
       "       [0.70634854],\n",
       "       [0.9066445 ]], dtype=float32)"
      ]
     },
     "execution_count": 94,
     "metadata": {},
     "output_type": "execute_result"
    }
   ],
   "source": [
    "model.predict(X_test)"
   ]
  },
  {
   "cell_type": "code",
   "execution_count": 95,
   "id": "f80e4d91",
   "metadata": {},
   "outputs": [
    {
     "data": {
      "text/plain": [
       "array([1, 1, 1, ..., 0, 0, 0], dtype=int64)"
      ]
     },
     "execution_count": 95,
     "metadata": {},
     "output_type": "execute_result"
    }
   ],
   "source": [
    "y_test"
   ]
  },
  {
   "cell_type": "code",
   "execution_count": 96,
   "id": "9b1e6ee6",
   "metadata": {},
   "outputs": [
    {
     "data": {
      "text/plain": [
       "[]"
      ]
     },
     "execution_count": 96,
     "metadata": {},
     "output_type": "execute_result"
    },
    {
     "data": {
      "image/png": "[encoded data removed]",
      "text/plain": [
       "<Figure size 432x288 with 1 Axes>"
      ]
     },
     "metadata": {},
     "output_type": "display_data"
    }
   ],
   "source": [
    "import matplotlib.pyplot as plt\n",
    "%matplotlib inline\n",
    "import seaborn as sns\n",
    "sns.set()\n",
    " \n",
    "acc = hist.history['accuracy']\n",
    "val = hist.history['val_accuracy']\n",
    "epochs = range(1, len(acc) + 1)\n",
    " \n",
    "plt.plot(epochs, acc, '-', label='Training accuracy')\n",
    "plt.plot(epochs, val, ':', label='Validation accuracy')\n",
    "plt.title('Training and Validation Accuracy')\n",
    "plt.xlabel('Epoch')\n",
    "plt.ylabel('Accuracy')\n",
    "plt.legend(loc='lower right')\n",
    "plt.plot()"
   ]
  },
  {
   "cell_type": "code",
   "execution_count": 97,
   "id": "22c0080e",
   "metadata": {},
   "outputs": [
    {
     "name": "stdout",
     "output_type": "stream",
     "text": [
      "500/500 [==============================] - 0s 546us/step\n"
     ]
    },
    {
     "data": {
      "text/plain": [
       "Text(89.18, 0.5, 'Actual')"
      ]
     },
     "execution_count": 97,
     "metadata": {},
     "output_type": "execute_result"
    },
    {
     "data": {
      "image/png": "[encoded data removed]",
      "text/plain": [
       "<Figure size 432x288 with 1 Axes>"
      ]
     },
     "metadata": {},
     "output_type": "display_data"
    }
   ],
   "source": [
    "from sklearn.metrics import confusion_matrix\n",
    " \n",
    "y_predicted = model.predict(X_test) > 0.5\n",
    "mat = confusion_matrix(y_test, y_predicted)\n",
    "labels = ['0', '1']\n",
    " \n",
    "sns.heatmap(mat, square=True, annot=True, fmt='d', cbar=False, cmap='Blues',\n",
    "            xticklabels=labels, yticklabels=labels)\n",
    " \n",
    "plt.xlabel('Pred')\n",
    "plt.ylabel('Actual')"
   ]
  },
  {
   "cell_type": "code",
   "execution_count": 98,
   "id": "c7cc553b",
   "metadata": {},
   "outputs": [
    {
     "data": {
      "text/plain": [
       "8000"
      ]
     },
     "execution_count": 98,
     "metadata": {},
     "output_type": "execute_result"
    }
   ],
   "source": [
    "sum(y_test)"
   ]
  },
  {
   "cell_type": "code",
   "execution_count": 99,
   "id": "594b0a73",
   "metadata": {},
   "outputs": [
    {
     "data": {
      "text/plain": [
       "0.4092514124293785"
      ]
     },
     "execution_count": 99,
     "metadata": {},
     "output_type": "execute_result"
    }
   ],
   "source": [
    "2318/5664"
   ]
  },
  {
   "cell_type": "code",
   "execution_count": 100,
   "id": "98779590",
   "metadata": {},
   "outputs": [
    {
     "data": {
      "text/plain": [
       "0.4675"
      ]
     },
     "execution_count": 100,
     "metadata": {},
     "output_type": "execute_result"
    }
   ],
   "source": [
    "(2318+1422)/sum(y_test)"
   ]
  },
  {
   "cell_type": "code",
   "execution_count": 101,
   "id": "9795c8db",
   "metadata": {},
   "outputs": [
    {
     "data": {
      "text/plain": [
       "0.4981132075471698"
      ]
     },
     "execution_count": 101,
     "metadata": {},
     "output_type": "execute_result"
    }
   ],
   "source": [
    "(2*0.40*0.66)/(0.40+0.66)"
   ]
  },
  {
   "cell_type": "code",
   "execution_count": 102,
   "id": "b5190ce9",
   "metadata": {},
   "outputs": [
    {
     "data": {
      "text/plain": [
       "0.625"
      ]
     },
     "execution_count": 102,
     "metadata": {},
     "output_type": "execute_result"
    }
   ],
   "source": [
    "10/16"
   ]
  },
  {
   "cell_type": "code",
   "execution_count": 103,
   "id": "40db7888",
   "metadata": {},
   "outputs": [
    {
     "data": {
      "text/plain": [
       "0.75"
      ]
     },
     "execution_count": 103,
     "metadata": {},
     "output_type": "execute_result"
    }
   ],
   "source": [
    "6/8"
   ]
  },
  {
   "cell_type": "code",
   "execution_count": 104,
   "id": "a5fea705",
   "metadata": {},
   "outputs": [
    {
     "data": {
      "text/plain": [
       "0.6"
      ]
     },
     "execution_count": 104,
     "metadata": {},
     "output_type": "execute_result"
    }
   ],
   "source": [
    "6/10"
   ]
  },
  {
   "cell_type": "code",
   "execution_count": null,
   "id": "2844a047",
   "metadata": {},
   "outputs": [],
   "source": []
  },
  {
   "cell_type": "code",
   "execution_count": null,
   "id": "8ad8c161",
   "metadata": {},
   "outputs": [],
   "source": []
  }
 ],
 "metadata": {
  "kernelspec": {
   "display_name": "Python 3 (ipykernel)",
   "language": "python",
   "name": "python3"
  },
  "language_info": {
   "codemirror_mode": {
    "name": "ipython",
    "version": 3
   },
   "file_extension": ".py",
   "mimetype": "text/x-python",
   "name": "python",
   "nbconvert_exporter": "python",
   "pygments_lexer": "ipython3",
   "version": "3.9.12"
  }
 },
 "nbformat": 4,
 "nbformat_minor": 5
}
